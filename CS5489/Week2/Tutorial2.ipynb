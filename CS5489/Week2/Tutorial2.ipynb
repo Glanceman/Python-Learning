{
 "cells": [
  {
   "cell_type": "markdown",
   "metadata": {},
   "source": [
    "**Name:** \n",
    "\n",
    "**EID:** "
   ]
  },
  {
   "cell_type": "markdown",
   "metadata": {},
   "source": [
    "# CS5489 - Tutorial 2\n",
    "## Text Document Classification with Naive Bayes\n",
    "\n",
    "In this tutorial you will classify text documents using Naive Bayes classifers.  We will be working with the dataset called \"20 Newsgroups\", which is a collection of 20,000 newsgroup posts organized into 20 categories.\n",
    "\n",
    "First we need to initialize Python.  Run the below cell."
   ]
  },
  {
   "cell_type": "code",
   "execution_count": 2,
   "metadata": {
    "ExecuteTime": {
     "end_time": "2023-09-15T03:28:21.662712200Z",
     "start_time": "2023-09-15T03:28:09.511120300Z"
    }
   },
   "outputs": [],
   "source": [
    "%matplotlib inline\n",
    "import matplotlib_inline   # setup output image format\n",
    "matplotlib_inline.backend_inline.set_matplotlib_formats('svg')\n",
    "import matplotlib.pyplot as plt\n",
    "import matplotlib\n",
    "from numpy import *\n",
    "from sklearn import *\n",
    "from scipy import stats, special\n",
    "random.seed(100)"
   ]
  },
  {
   "cell_type": "markdown",
   "metadata": {},
   "source": [
    "Next, put the file \"20news-bydate_py3.pkz' into the same directory as this ipynb file. **Do not unzip the file.**"
   ]
  },
  {
   "cell_type": "markdown",
   "metadata": {},
   "source": [
    "Next, we will extract 4 classes from the dataset.  Run the below cell."
   ]
  },
  {
   "cell_type": "code",
   "execution_count": 3,
   "metadata": {
    "ExecuteTime": {
     "end_time": "2023-09-15T03:28:23.462740700Z",
     "start_time": "2023-09-15T03:28:21.668707400Z"
    }
   },
   "outputs": [],
   "source": [
    "# strip away headers/footers/quotes from the text\n",
    "removeset = ('headers', 'footers', 'quotes')\n",
    "\n",
    "# only use 4 categories\n",
    "cats      = ['alt.atheism', 'talk.religion.misc', 'comp.graphics', 'sci.space']\n",
    "\n",
    "# load the training and testing sets\n",
    "newsgroups_train = datasets.fetch_20newsgroups(subset='train',\n",
    "                           remove=removeset, categories=cats, data_home='./')\n",
    "newsgroups_test  = datasets.fetch_20newsgroups(subset='test', \n",
    "                           remove=removeset, categories=cats, data_home='./')"
   ]
  },
  {
   "cell_type": "markdown",
   "metadata": {},
   "source": [
    "Now, we check if we got all the data.  The training set should have 2034 documents, and the test set should have 1353 documents."
   ]
  },
  {
   "cell_type": "code",
   "execution_count": 4,
   "metadata": {
    "ExecuteTime": {
     "end_time": "2023-09-15T03:28:23.471984200Z",
     "start_time": "2023-09-15T03:28:23.464738800Z"
    }
   },
   "outputs": [
    {
     "name": "stdout",
     "output_type": "stream",
     "text": [
      "training set size: 2034\n",
      "testing set size:  1353\n",
      "['alt.atheism', 'comp.graphics', 'sci.space', 'talk.religion.misc']\n"
     ]
    }
   ],
   "source": [
    "print(\"training set size:\", len(newsgroups_train.data))\n",
    "print(\"testing set size: \",  len(newsgroups_test.data))\n",
    "print(newsgroups_train.target_names)"
   ]
  },
  {
   "cell_type": "markdown",
   "metadata": {},
   "source": [
    "Count the number examples in each class.  `newsgroups_train.target` is an array of class values (0 through 3), and `newsgroups_train.target[i]` is the class of the i-th document."
   ]
  },
  {
   "cell_type": "code",
   "execution_count": 5,
   "metadata": {
    "ExecuteTime": {
     "end_time": "2023-09-15T03:28:44.739124800Z",
     "start_time": "2023-09-15T03:28:44.724582100Z"
    }
   },
   "outputs": [
    {
     "name": "stdout",
     "output_type": "stream",
     "text": [
      "class counts\n",
      "alt.atheism         : 480\n",
      "comp.graphics       : 584\n",
      "sci.space           : 593\n",
      "talk.religion.misc  : 377\n"
     ]
    }
   ],
   "source": [
    "print(\"class counts\")\n",
    "for i in [0, 1, 2, 3]:\n",
    "    print(\"{:20s}: {}\".format(newsgroups_train.target_names[i], sum(newsgroups_train.target == i)))"
   ]
  },
  {
   "cell_type": "markdown",
   "metadata": {},
   "source": [
    "Now have a look at the documents.  `newsgroups_train.data` is a list of strings, and `newsgroups_train.data[i]` is the i-th document."
   ]
  },
  {
   "cell_type": "code",
   "execution_count": 6,
   "metadata": {
    "ExecuteTime": {
     "end_time": "2023-09-15T03:29:00.241305700Z",
     "start_time": "2023-09-15T03:29:00.221716300Z"
    }
   },
   "outputs": [
    {
     "name": "stdout",
     "output_type": "stream",
     "text": [
      "--- document 0 (class=comp.graphics) ---\n",
      "Hi,\n",
      "\n",
      "I've noticed that if you only save a model (with all your mapping planes\n",
      "positioned carefully) to a .3DS file that when you reload it after restarting\n",
      "3DS, they are given a default position and orientation.  But if you save\n",
      "to a .PRJ file their positions/orientation are preserved.  Does anyone\n",
      "know why this information is not stored in the .3DS file?  Nothing is\n",
      "explicitly said in the manual about saving texture rules in the .PRJ file. \n",
      "I'd like to be able to read the texture rule information, does anyone have \n",
      "the format for the .PRJ file?\n",
      "\n",
      "Is the .CEL file format available from somewhere?\n",
      "\n",
      "Rych\n",
      "--- document 1 (class=talk.religion.misc) ---\n",
      "\n",
      "\n",
      "Seems to be, barring evidence to the contrary, that Koresh was simply\n",
      "another deranged fanatic who thought it neccessary to take a whole bunch of\n",
      "folks with him, children and all, to satisfy his delusional mania. Jim\n",
      "Jones, circa 1993.\n",
      "\n",
      "\n",
      "Nope - fruitcakes like Koresh have been demonstrating such evil corruption\n",
      "for centuries.\n",
      "--- document 2 (class=sci.space) ---\n",
      "\n",
      " >In article <1993Apr19.020359.26996@sq.sq.com>, msb@sq.sq.com (Mark Brader) \n",
      "\n",
      "MB>                                                             So the\n",
      "MB> 1970 figure seems unlikely to actually be anything but a perijove.\n",
      "\n",
      "JG>Sorry, _perijoves_...I'm not used to talking this language.\n",
      "\n",
      "Couldn't we just say periapsis or apoapsis?\n",
      "\n",
      " \n",
      "--- document 3 (class=alt.atheism) ---\n",
      "I have a request for those who would like to see Charley Wingate\n",
      "respond to the \"Charley Challenges\" (and judging from my e-mail, there\n",
      "appear to be quite a few of you.)  \n",
      "\n",
      "It is clear that Mr. Wingate intends to continue to post tangential or\n",
      "unrelated articles while ingoring the Challenges themselves.  Between\n",
      "the last two re-postings of the Challenges, I noted perhaps a dozen or\n",
      "more posts by Mr. Wingate, none of which answered a single Challenge.  \n",
      "\n",
      "It seems unmistakable to me that Mr. Wingate hopes that the questions\n",
      "will just go away, and he is doing his level best to change the\n",
      "subject.  Given that this seems a rather common net.theist tactic, I\n",
      "would like to suggest that we impress upon him our desire for answers,\n",
      "in the following manner:\n",
      "\n",
      "1. Ignore any future articles by Mr. Wingate that do not address the\n",
      "Challenges, until he answers them or explictly announces that he\n",
      "refuses to do so.\n",
      "\n",
      "--or--\n",
      "\n",
      "2. If you must respond to one of his articles, include within it\n",
      "something similar to the following:\n",
      "\n",
      "    \"Please answer the questions posed to you in the Charley Challenges.\"\n",
      "\n",
      "Really, I'm not looking to humiliate anyone here, I just want some\n",
      "honest answers.  You wouldn't think that honesty would be too much to\n",
      "ask from a devout Christian, would you?  \n",
      "\n",
      "Nevermind, that was a rhetorical question.\n"
     ]
    }
   ],
   "source": [
    "for i in [0, 1, 2 ,3]:\n",
    "    print(\"--- document {} (class={}) ---\".format(\n",
    "        i, newsgroups_train.target_names[newsgroups_train.target[i]]))\n",
    "    print(newsgroups_train.data[i])"
   ]
  },
  {
   "cell_type": "markdown",
   "metadata": {},
   "source": [
    "**Tip:** while you do the tutorial, it is okay to make additional code cells in the file.  This will allow you to avoid re-running code (like training a classifier, then testing a classifier)."
   ]
  },
  {
   "cell_type": "markdown",
   "metadata": {},
   "source": [
    "### Build document vectors\n",
    "Create the vocabulary from the training data.  Then build the document vectors for the training and testing sets.  You can decide how many words you want in the vocabulary."
   ]
  },
  {
   "cell_type": "code",
   "execution_count": 7,
   "metadata": {
    "ExecuteTime": {
     "end_time": "2023-09-15T03:29:47.415630200Z",
     "start_time": "2023-09-15T03:29:47.400160500Z"
    }
   },
   "outputs": [],
   "source": [
    "# pull out the document data and labels\n",
    "traindata = newsgroups_train.data\n",
    "trainY = newsgroups_train.target\n",
    "\n",
    "testdata = newsgroups_test.data\n",
    "testY  = newsgroups_test.target"
   ]
  },
  {
   "cell_type": "code",
   "execution_count": 57,
   "metadata": {
    "ExecuteTime": {
     "end_time": "2023-09-13T04:22:48.864782600Z",
     "start_time": "2023-09-13T04:22:48.848724400Z"
    }
   },
   "outputs": [],
   "source": [
    "### INSERT YOUR CODE HERE"
   ]
  },
  {
   "cell_type": "code",
   "execution_count": 18,
   "metadata": {
    "ExecuteTime": {
     "end_time": "2023-09-15T03:37:27.008208700Z",
     "start_time": "2023-09-15T03:37:26.356162200Z"
    }
   },
   "outputs": [
    {
     "name": "stdout",
     "output_type": "stream",
     "text": [
      "{'hi': 828, 've': 1901, 'save': 1588, 'model': 1151, 'mapping': 1088, 'planes': 1344, 'file': 689, 'given': 762, 'default': 490, 'position': 1368, 'positions': 1369, 'does': 555, 'know': 964, 'information': 891, 'stored': 1735, 'explicitly': 648, 'said': 1580, 'manual': 1086, 'saving': 1589, 'rules': 1572, 'like': 1018, 'able': 76, 'read': 1482, 'rule': 1571, 'format': 714, 'available': 219, 'evidence': 626, 'contrary': 425, 'koresh': 969, 'simply': 1660, 'thought': 1824, 'bunch': 285, 'folks': 704, 'children': 340, 'jim': 931, '1993': 26, 'evil': 627, 'article': 181, 'com': 370, 'mark': 1092, 'figure': 688, 'unlikely': 1878, 'actually': 97, 'sorry': 1682, 'used': 1883, 'talking': 1780, 'language': 975, 'couldn': 443, 'just': 947, 'say': 1591, 'request': 1532, 'respond': 1543, 'challenges': 327, 'mail': 1070, 'appear': 152, 'quite': 1462, 'clear': 358, 'mr': 1176, 'continue': 419, 'post': 1374, 'articles': 182, 'postings': 1377, 'noted': 1215, 'posts': 1378, 'single': 1663, 'challenge': 326, 'questions': 1458, 'away': 224, 'doing': 557, 'level': 1007, 'best': 251, 'change': 329, 'subject': 1748, 'common': 382, 'net': 1202, 'suggest': 1753, 'desire': 513, 'answers': 145, 'following': 708, 'manner': 1085, 'ignore': 863, 'future': 741, 'address': 103, 'include': 876, 'similar': 1658, 'answer': 144, 'really': 1490, 'looking': 1047, 'want': 1934, 'honest': 844, 'wouldn': 1979, 'think': 1819, 'ask': 185, 'christian': 345, 'question': 1457, 'st': 1712, 'manned': 1084, 'lunar': 1062, 'exploration': 649, 'city': 351, 'definitely': 494, 'result': 1549, 'atheists': 204, 'theists': 1814, 'sure': 1768, 'bobby': 267, 'list': 1026, 'atheist': 203, 'bit': 258, 'weak': 1946, 'history': 834, 'caused': 313, 'led': 999, 'hitler': 836, 'claimed': 355, 'example': 632, 'complete': 389, 'probably': 1411, 'showing': 1647, 'statement': 1725, 'note': 1214, 'notice': 1217, 'sign': 1652, 'peace': 1309, 'leave': 998, 'beliefs': 243, 'old': 1246, 'pioneer': 1336, 'goes': 771, 'follows': 709, 'oh': 1243, 'lost': 1052, 'gone': 774, 'explained': 646, 'reliable': 1517, 'data': 470, 'source': 1687, 'experiment': 644, 'extended': 653, 'non': 1211, 'near': 1195, 'earth': 576, 'personally': 1320, 'fit': 696, 'space': 1693, 'technology': 1795, 'running': 1574, '20': 27, 'software': 1675, 'standard': 1715, 'cd': 316, '16': 16, 'resolution': 1539, 'computer': 395, 'support': 1761, 'real': 1487, 'time': 1830, 'supposed': 1766, 'couple': 447, '18': 18, 'flat': 698, 'depends': 507, 'run': 1573, 'kind': 959, 'speed': 1701, 'memory': 1121, 'll': 1036, 'stop': 1734, 'saying': 1592, 'things': 1818, 'working': 1972, 'don': 560, 'pay': 1305, 'doesn': 556, 'eat': 581, 'postscript': 1379, 'engineering': 603, 'test': 1807, 'mission': 1146, 'spent': 1703, 'highly': 832, 'orbit': 1261, 'using': 1889, 'gravity': 785, 'assist': 191, 'meant': 1111, 'moon': 1164, 'eventually': 624, 'thing': 1817, 'far': 672, 'knows': 968, 'believe': 244, 'recall': 1495, 'recently': 1499, 'happen': 803, 'interested': 906, 'involved': 915, 'processing': 1418, 'black': 261, 'white': 1955, 'obtain': 1231, 'surface': 1770, 'sgi': 1639, 'hardware': 809, 'type': 1863, 'image': 867, 'email': 598, 'comp': 385, 'graphics': 783, 'responses': 1545, 'thanks': 1813, 'assume': 194, 'galileo': 744, 'pretty': 1398, 'good': 775, 'ideas': 861, 'look': 1045, 'imaging': 870, 'light': 1017, 'didn': 525, 'guess': 793, 'images': 868, 'imagine': 869, 'visual': 1926, 'missions': 1147, 'hope': 845, 'program': 1425, 'mode': 1150, 'details': 517, 'select': 1615, 'pixel': 1337, 'need': 1199, 'function': 734, '40': 53, 'anybody': 148, 'technical': 1792, 'info': 890, 'reply': 1527, 'edu': 587, 'sounds': 1686, 'rest': 1548, 'hello': 822, 'add': 99, 'voice': 1928, 'input': 893, 'capability': 301, 'user': 1886, 'interface': 908, 'unix': 1876, 'greatly': 788, 'appreciate': 159, 'care': 306, 'offer': 1239, 'systems': 1775, 'easily': 578, 'environment': 611, 'names': 1186, 'specific': 1699, 'helpful': 824, 'summary': 1756, 'sufficient': 1752, 'ken': 951, 'ibm': 857, 'pc': 1308, 'avoid': 222, 'separate': 1626, 'possible': 1372, 'university': 1875, 'visualization': 1927, 'laboratory': 971, 'tool': 1839, 'better': 252, 'size': 1667, 'numbers': 1221, 'absolute': 79, 'area': 169, 'countries': 445, 'case': 308, 'relevant': 1516, 'number': 1220, 'total': 1843, 'civilian': 353, 'population': 1365, 'make': 1076, 'western': 1954, 'news': 1205, 'general': 751, 'particular': 1293, 'american': 133, 'mass': 1097, 'media': 1114, 'war': 1937, 'poor': 1363, 'precisely': 1388, 'blew': 262, 'building': 283, 'bits': 260, 'agree': 114, 'maybe': 1106, 'bomb': 269, 'mistake': 1148, 'easy': 580, 'viewpoint': 1920, '90': 67, 'right': 1556, 'germany': 757, 'japan': 925, 'million': 1138, 'died': 527, 'hundreds': 856, 'thousands': 1826, 'french': 726, 'thousand': 1825, 'americans': 134, 'mention': 1123, 'jews': 929, 'people': 1310, 'german': 756, 'considered': 409, 'quick': 1459, 'end': 599, 'greater': 787, 'reason': 1491, 'political': 1360, 'operating': 1252, 'mean': 1108, 'claim': 354, 'effort': 592, 'justify': 950, 'policy': 1359, 'west': 1953, 'especially': 616, 'america': 132, 'significant': 1654, 'portion': 1367, 'world': 1975, 'supply': 1760, 'responsible': 1547, 'decision': 488, 'did': 524, 'strong': 1740, 'response': 1544, 'required': 1535, 'allow': 125, 'certain': 323, 'yes': 1994, 'set': 1635, 'mind': 1139, 'military': 1137, 'mentioned': 1124, 'learned': 996, 'truly': 1856, 'followed': 706, 'year': 1992, 'consequences': 407, 'king': 960, 'law': 988, 'point': 1356, 'hard': 807, 'argument': 173, 'author': 215, 'logical': 1042, 'expect': 640, 'soon': 1681, 'admit': 105, 'wonder': 1967, 'defense': 491, 'conclude': 401, 'way': 1944, 'ok': 1244, 'certainly': 324, 'force': 711, 'original': 1273, 'guilty': 795, 'try': 1858, 'charge': 334, 'simple': 1659, 'won': 1966, 'tried': 1853, 'intent': 904, 'harm': 811, 'murder': 1182, 'california': 292, 'based': 231, 'asking': 187, 'decided': 487, 'wrong': 1985, 'went': 1952, 'facts': 662, 'presented': 1394, 'true': 1855, 'feel': 683, 'reasonable': 1492, 'quote': 1463, 'course': 448, 'moral': 1165, 'contradictory': 424, 'regards': 1508, 'stuff': 1746, 'deleted': 499, 'seconds': 1610, 'minutes': 1140, 'hours': 848, 'days': 477, 'months': 1163, 'years': 1993, 'remember': 1523, 'scale': 1594, 'tell': 1800, 'russian': 1578, 'body': 268, 'page': 1286, 'wasn': 1940, 'possibly': 1373, 'longer': 1044, 'display': 544, 'displays': 545, 'fact': 660, 'hare': 810, 'use': 1882, 'bible': 253, 'reading': 1484, 'public': 1448, '15': 15, 'ago': 113, 'going': 772, 'gospel': 776, 'programs': 1428, 'federal': 681, 'communications': 383, 'street': 1739, 'washington': 1939, 'dc': 479, 'reference': 1505, 'false': 669, 'story': 1737, 'truth': 1857, 'approach': 161, 'recent': 1498, 'week': 1947, 'exact': 630, 'date': 473, 'allen': 124, 'european': 621, 'half': 798, 'lord': 1049, 'works': 1973, 'lot': 1053, 'discussion': 541, 'tyre': 1866, 'ezekiel': 657, 'place': 1339, 'living': 1035, 'literally': 1030, 'correct': 440, 'understand': 1869, 'called': 294, 'biblical': 254, 'happens': 805, 'says': 1593, 'isn': 920, 'person': 1318, 'according': 86, 'discovered': 538, 'trying': 1859, 'words': 1970, 'object': 1224, 'oriented': 1271, 'statements': 1726, 'exactly': 631, 'existence': 637, 'problem': 1414, 'latest': 983, 'john': 933, 'prophecy': 1433, 'told': 1835, 'interpret': 911, 'means': 1110, 'large': 977, 'everybody': 625, 'written': 1984, 'passage': 1299, 'hardly': 808, 'state': 1723, 'george': 755, 'new': 1204, 'york': 1995, '22': 32, '000': 1, 'small': 1670, 'chapter': 332, '26': 37, 'destroy': 515, '29': 40, 'quotes': 1465, 'god': 769, 'army': 178, 'got': 777, 'let': 1004, 'moment': 1160, 'attention': 211, 'ability': 75, 'needed': 1200, 'comments': 378, 'clearly': 359, 'fine': 695, 'sea': 1607, 'wrote': 1986, 'build': 282, 'spend': 1702, '13': 12, 'close': 361, 'totally': 1844, 'text': 1811, 'started': 1721, 'work': 1971, 'turned': 1861, 'difficult': 530, 'wondering': 1968, 'seen': 1614, 'published': 1449, 'draw': 567, 'defined': 493, 'parallel': 1291, 'essentially': 617, 'sets': 1636, 'points': 1358, 'edge': 583, 'edges': 584, 'exists': 639, 'sequence': 1627, 'line': 1022, 'distance': 546, 'measure': 1112, 'form': 713, 'color': 367, 'sort': 1683, 'order': 1266, 'project': 1429, '2d': 41, 'special': 1697, 'step': 1731, 'heart': 817, 'idea': 859, 'generally': 752, 'lots': 1054, 'reasons': 1494, 'fairly': 665, 'problems': 1415, 'knowing': 965, 'cc': 315, 'formats': 715, 'multi': 1180, 'fax': 677, 'come': 371, 'pages': 1287, 'nice': 1208, '386': 50, 'video': 1915, 'card': 304, 'starting': 1722, 'play': 1351, 'big': 255, 'high': 830, 'quality': 1455, 'acceptable': 83, 'price': 1400, 'student': 1743, 'budget': 281, 'appreciated': 160, 'newsgroups': 1207, 'limited': 1021, 'atheism': 202, 'ignorance': 862, 'fall': 667, 'bob': 266, 'vice': 1914, 'tek': 1796, 'stay': 1730, 'package': 1284, 'radiosity': 1471, 'methods': 1132, 'main': 1072, 'fast': 673, 'generation': 754, 'siggraph': 1651, '75': 64, '1988': 21, 'pass': 1298, 'method': 1131, '1989': 22, 'sun': 1757, 'anonymous': 143, 'ch': 325, 'tel': 1797, '31': 45, '65': 62, '39': 51, 'projects': 1430, 'missed': 1145, 'virtual': 1923, 'reality': 1488, 'market': 1093, 'manager': 1081, 'silicon': 1655, 'help': 823, 'little': 1032, 'unfortunately': 1871, 'create': 454, 'effects': 591, 'man': 1079, 'film': 691, 'frame': 721, 'animation': 141, 'took': 1838, 'impossible': 875, '30': 42, 'second': 1609, 'advanced': 107, 'application': 155, 'requires': 1537, 'rendering': 1526, 'complex': 391, 'databases': 472, '60': 59, 'flight': 699, 'pilot': 1335, 'training': 1850, 'rate': 1478, 'low': 1056, 'head': 814, 'motion': 1172, 'powerful': 1383, 'constant': 412, 'viewing': 1919, 'direction': 533, 'visible': 1924, 'maintain': 1073, 'operation': 1253, 'modified': 1156, 'usual': 1890, 'process': 1416, 'management': 1080, 'hp': 850, 'series': 1628, 'perspective': 1321, 'techniques': 1793, 'anti': 147, 'purpose': 1452, 'today': 1834, 'fully': 733, 'capabilities': 300, 'particularly': 1294, 'important': 874, 'polygons': 1362, 'libraries': 1011, 'listed': 1027, 'develop': 520, 'applications': 156, 'packages': 1285, 'faster': 674, 'directly': 534, 'popular': 1364, 'division': 550, 'ca': 289, 'school': 1596, 'free': 724, 'corp': 438, 'view': 1916, 'technologies': 1794, 'stanford': 1717, 'digital': 531, 'design': 511, 'ny': 1223, '3d': 52, 'eye': 656, 'research': 1538, 'san': 1583, 'jose': 937, 'modeling': 1152, 'books': 271, 'sp': 1692, 'check': 337, 'newsgroup': 1206, 'sci': 1597, 'contact': 413, 'animals': 140, 'species': 1698, 'kill': 956, 'times': 1831, 'higher': 831, 'sense': 1622, 'self': 1618, 'killing': 958, 'natural': 1191, 'morality': 1166, 'sentence': 1625, 'possibility': 1371, 'consider': 408, 'observations': 1228, 'taken': 1776, 'telescope': 1799, 'planet': 1345, 'pluto': 1355, 'successful': 1751, 'reported': 1529, 'star': 1718, 'understanding': 1870, 'atmospheric': 207, 'processes': 1417, 'event': 622, 'limit': 1020, 'tests': 1810, 'currently': 466, 'looked': 1046, 'okay': 1245, 'scientists': 1601, 'aren': 171, 'deep': 489, 'takes': 1777, 'religion': 1518, 'reasoning': 1493, 'exist': 636, 'algorithms': 121, '25': 35, 'xv': 1988, 'liar': 1010, 'jesus': 926, 'message': 1128, 'makes': 1077, 'personal': 1319, 'thinks': 1821, 'lewis': 1009, 'notion': 1218, 'cheers': 338, 'kent': 952, 'advertising': 109, 'costs': 442, 'bear': 237, 'great': 786, 'long': 1043, 'effect': 590, 'sky': 1668, 'venus': 1906, 'day': 476, 'leo': 1003, 'impact': 873, 'short': 1644, 'doubt': 563, 'looks': 1048, 'middle': 1135, 'flying': 703, 'created': 455, 'creation': 456, 'cut': 467, 'religious': 1520, 'woman': 1964, 'road': 1559, 'spacecraft': 1694, 'spin': 1705, 'analysis': 138, 'turn': 1860, 'team': 1791, 'having': 813, 'proposed': 1436, 'satellites': 1586, 'require': 1534, 'satellite': 1585, 'fly': 701, 'relatively': 1513, 'cheap': 335, 'finally': 693, 'pat': 1302, 'explanation': 647, 'control': 426, 'power': 1382, 'difference': 528, 'money': 1161, 'circular': 350, 'assembly': 189, 'programmer': 1426, 'quoted': 1464, 'life': 1016, 'rights': 1557, 'lie': 1014, 'authors': 218, 'cost': 441, 'die': 526, 'group': 791, 'value': 1896, 'death': 482, 'completely': 390, 'government': 779, 'dead': 480, 'easier': 577, 'current': 465, 'golden': 773, 'stated': 1724, 'deal': 481, 'fiction': 686, 'welcome': 1951, 'society': 1674, 'morals': 1167, 'objective': 1225, 'developed': 521, 'specifically': 1700, 'advantage': 108, 'heard': 816, 'windows': 1960, 'mac': 1063, 'version': 1909, 'needs': 1201, 'thank': 1812, 'papers': 1289, 'different': 529, 'versions': 1910, 'phone': 1326, 'supposedly': 1767, 'instructions': 898, 'muslim': 1183, 'community': 384, 'muslims': 1184, 'north': 1213, 'posting': 1376, 'innocent': 892, 'court': 449, 'established': 618, 'assumption': 196, 'islam': 918, 'teaches': 1788, 'actions': 91, 'teachings': 1790, 'contradiction': 422, 'usually': 1891, 'calls': 296, 'islamic': 919, 'principles': 1405, 'term': 1805, 'believer': 246, 'known': 967, 'alt': 128, 'putting': 1454, 'opposite': 1257, 'write': 1980, 'follow': 705, 'practice': 1386, 'necessarily': 1197, 'earlier': 574, 'laws': 989, 'originally': 1274, 'changed': 330, 'making': 1078, 'kingdom': 961, 'heaven': 818, 'verses': 1908, 'giving': 764, 'meaning': 1109, 'intended': 903, 'interpretations': 913, 'knew': 963, 'letter': 1006, 'accepted': 84, 'debate': 483, 'believed': 245, 'modern': 1154, 'knowledge': 966, 'christianity': 346, 'changes': 331, 'conduct': 404, 'live': 1033, 'choice': 341, 'respect': 1542, 'mormons': 1169, 'christians': 347, 'pictures': 1333, 'crime': 459, 'country': 446, 'convince': 432, 'talk': 1779, 'act': 89, 'religions': 1519, 'human': 854, 'uses': 1888, 'tiff': 1829, '42': 55, 'chosen': 343, 'guide': 794, 'galaxy': 743, 'universe': 1874, 'suggestions': 1754, 'came': 297, 'writing': 1982, 'book': 270, 'nearly': 1196, 'added': 100, 'regular': 1509, 'seeing': 1613, 'nature': 1192, 'tv': 1862, 'showed': 1646, 'liquid': 1025, 'held': 820, 'slow': 1669, 'shows': 1649, 'ra': 1467, 'ways': 1945, 'lucifer': 1058, 'thou': 1823, 'perfect': 1311, '28': 39, 'creator': 457, 'beginning': 239, 'word': 1969, '17': 17, 'passages': 1300, 'mormon': 1168, 'belief': 242, 'including': 879, 'christ': 344, 'spirit': 1706, 'apply': 158, 'refer': 1504, 'base': 230, 'faith': 666, 'opinions': 1256, 'grant': 781, 'conclusion': 402, 'issue': 922, 'raised': 1474, 'states': 1727, 'lds': 990, 'ye': 1990, 'received': 1497, 'fear': 679, 'father': 675, 'enter': 607, 'family': 670, 'gave': 748, 'born': 273, 'blood': 264, '12': 9, 'robert': 1560, 'testament': 1808, 'house': 849, 'israel': 921, 'physical': 1327, 'child': 339, 'field': 687, 'matthew': 1105, 'speak': 1695, 'love': 1055, 'sent': 1624, 'hear': 815, 'acts': 95, '10': 5, 'past': 1301, 'air': 117, 'shall': 1640, 'james': 924, 'witness': 1963, '14': 14, 'eternal': 620, 'removed': 1525, 'left': 1000, 'interpretation': 912, 'groups': 792, 'scholars': 1595, 'red': 1502, 'deity': 498, 'peter': 1322, 'obtained': 1232, 'views': 1921, 'salvation': 1582, '_the': 74, 'gain': 742, 'late': 981, 'mcconkie': 1107, 'authority': 217, 'church': 348, 'doctrine': 552, 'conclusions': 403, 'accept': 82, 'curious': 464, 'forward': 718, 'comes': 372, 'instead': 896, 'official': 1242, 'matters': 1104, 'writings': 1983, 'pub': 1447, 'delta': 501, 'concept': 398, 'gif': 760, 'johnson': 934, 'internet': 910, 'cs': 462, 'algorithm': 120, 'output': 1278, 'individual': 886, 'code': 363, 'advance': 106, 'copy': 436, 'period': 1315, 'copies': 435, 'parts': 1295, 'mid': 1134, 'century': 322, '130': 13, 'collection': 365, 'early': 575, 'various': 1900, 'leaders': 993, 'scriptures': 1605, '50': 57, 'luke': 1060, 'paul': 1304, 'medical': 1115, 'phase': 1323, 'screen': 1603, 'printer': 1407, 'michael': 1133, 'capable': 302, 'x11': 1987, 'files': 690, 'related': 1511, 'presentations': 1393, 'commercial': 379, 'products': 1422, 'assuming': 195, 'dollars': 558, 'billion': 256, 'prize': 1409, 'cheaper': 336, 'launch': 984, 'entire': 608, 'development': 522, 'existing': 638, 'demand': 502, 'necessary': 1198, 'saturn': 1587, 'depending': 506, 'start': 1720, 'sdio': 1606, 'orbital': 1262, 'service': 1633, 'core': 437, 'launcher': 986, 'ahead': 116, 'solution': 1678, 'polygon': 1361, '1992': 25, 'vol': 1929, '35': 49, 'hudson': 852, 'detailed': 516, 'topic': 1842, 'failed': 663, 'send': 1621, 'literature': 1031, 'provided': 1443, 'objects': 1226, 'return': 1551, 'useful': 1884, 'mars': 1094, 'et': 619, 'al': 119, 'press': 1396, 'institute': 897, 'includes': 878, 'ftp': 731, 'sites': 1665, 'march': 1090, 'ames': 135, 'archives': 168, 'quicktime': 1461, '11': 8, '1991': 24, 'age': 111, 'corporation': 439, 'alive': 122, 'begin': 238, 'basis': 234, 'bad': 227, 'critical': 460, 'hand': 799, 'worship': 1977, 'indicates': 885, 'plotting': 1353, 'scripture': 1604, 'revelation': 1552, 'tells': 1802, 'library': 1012, 'workstations': 1974, 'opinion': 1255, 'prove': 1440, 'experience': 643, 'degrees': 497, 'pressure': 1397, 'planets': 1347, 'pick': 1331, 'upper': 1880, 'atmosphere': 206, 'thinking': 1820, 'science': 1598, 'funding': 738, 'utility': 1894, 'values': 1897, 'convert': 429, 'lower': 1057, 'performance': 1313, 'weight': 1949, 'offers': 1240, 'quickly': 1460, 'sphere': 1704, 'programming': 1427, 'share': 1642, 'fred': 723, 'land': 973, 'martian': 1095, 'landing': 974, 'obvious': 1233, 'built': 284, 'dr': 565, 'matter': 1103, 'apart': 149, 'son': 1680, 'jewish': 928, 'features': 680, 'archive': 167, 'logic': 1041, 'april': 164, 'usenet': 1885, 'provide': 1442, 'introduction': 914, 'proof': 1431, 'allows': 127, 'piece': 1334, 'determine': 518, 'valid': 1895, 'study': 1745, 'basic': 232, 'open': 1251, 'document': 553, 'merely': 1127, 'job': 932, 'proposition': 1437, 'premises': 1390, 'obviously': 1234, 'forms': 716, 'final': 692, 'stage': 1713, 'cause': 312, 'premise': 1389, 'terms': 1806, 'perfectly': 1312, 'arguments': 174, 'accurate': 88, 'appears': 153, 'later': 982, 'engine': 602, 'car': 303, 'types': 1864, 'provides': 1444, 'worse': 1976, 'convincing': 434, 'entirely': 609, 'contains': 416, 'wings': 1961, 'reach': 1481, 'represent': 1531, 'sound': 1685, 'structure': 1742, 'philosophy': 1325, 'major': 1074, 'english': 605, 'fallacy': 668, 'fair': 664, 'incorrect': 881, 'purposes': 1453, 'define': 492, 'argumentum': 175, 'ad': 98, 'committed': 380, 'threat': 1828, 'direct': 532, 'hell': 821, 'variety': 1899, 'occurs': 1236, 'assertion': 190, 'food': 710, 'argue': 172, 'happy': 806, 'excuse': 635, 'positive': 1370, 'scientific': 1600, 'principle': 1404, 'examples': 633, 'shown': 1648, 'proven': 1441, 'produce': 1419, 'occur': 1235, 'described': 508, 'volume': 1930, 'water': 1943, 'present': 1391, 'count': 444, 'lack': 972, 'getting': 759, 'mother': 1170, 'attempt': 210, 'women': 1965, 'likely': 1019, 'stephen': 1732, 'radiation': 1469, 'physicist': 1328, 'hole': 838, 'machine': 1064, 'intelligence': 902, 'applied': 157, 'error': 613, 'decide': 486, 'legal': 1001, 'cases': 309, 'situation': 1666, 'pro': 1410, 'happened': 804, 'soviet': 1691, 'taking': 1778, 'events': 623, 'room': 1565, 'homosexuals': 843, 'allowed': 126, 'hold': 837, 'office': 1241, 'homosexual': 841, 'lose': 1050, 'services': 1634, 'asked': 186, 'cross': 461, 'plan': 1342, 'supports': 1764, 'length': 1002, 'key': 954, 'remains': 1522, 'users': 1887, 'license': 1013, 'friends': 730, 'causes': 314, 'bus': 286, 'college': 366, 'nation': 1188, 'converting': 431, 'believing': 249, 'material': 1099, 'discussed': 540, 'unless': 1877, 'actual': 96, 'analogy': 137, 'supported': 1762, 'action': 90, 'party': 1296, 'performed': 1314, 'instance': 895, 'iii': 865, 'brian': 277, 'david': 475, 'stand': 1714, 'coming': 374, 'realize': 1489, 'independent': 883, '600': 60, 'venture': 1905, 'describes': 509, 'character': 333, 'telling': 1801, 'orbiting': 1264, 'considering': 410, 'aerospace': 110, 'sell': 1619, 'expensive': 642, 'kept': 953, 'strongly': 1741, 'suspect': 1773, 'previous': 1399, 'despite': 514, 'disagree': 537, 'punishment': 1450, 'rushdie': 1576, 'founded': 720, 'het': 827, 'van': 1898, 'bank': 229, 'men': 1122, '00': 0, '05': 4, 'humans': 855, 'willing': 1958, 'definition': 495, 'aware': 223, 'export': 651, 'included': 877, 'drawing': 568, 'product': 1421, 'branch': 276, 'cult': 463, 'leader': 992, 'btw': 280, 'lines': 1024, 'buy': 288, 'guy': 797, 'command': 375, 'reject': 1510, 'worth': 1978, 'context': 418, 'ones': 1247, 'carry': 307, 'killed': 957, '34': 48, 'suppose': 1765, 'bring': 278, 'gods': 770, 'content': 417, 'join': 935, 'profit': 1424, 'gives': 763, 'larger': 978, 'activity': 94, 'jet': 927, 'mary': 1096, 'social': 1673, 'lives': 1034, 'finding': 694, 'trouble': 1854, 'night': 1210, 'controlled': 427, 'seriously': 1629, 'efforts': 593, 'tradition': 1849, 'site': 1664, 'materials': 1100, 'asteroids': 197, 'aside': 184, 'semi': 1620, 'fusion': 740, 'thread': 1827, 'claims': 356, 'potential': 1380, 'sources': 1688, 'apollo': 150, 'frequently': 728, 'united': 1873, 'factor': 661, 'increase': 882, 'description': 510, 'rocketry': 1562, 'engines': 604, 'amateur': 131, 'rocket': 1561, 'launches': 987, 'covered': 452, 'safety': 1579, 'purchase': 1451, 'class': 357, 'national': 1189, 'association': 193, 'watch': 1942, 'models': 1153, 'rockets': 1563, 'department': 505, 'network': 1203, 'tape': 1783, 'physics': 1329, 'closed': 362, 'hanging': 802, 'aviation': 221, 'vehicles': 1903, 'subjective': 1749, 'raise': 1473, 'viking': 1922, 'fund': 736, 'areas': 170, 'plane': 1343, 'local': 1038, 'providing': 1445, 'central': 320, 'handle': 800, 'box': 275, 'calling': 295, 'org': 1268, 'arc': 165, 'ancient': 139, 'mirror': 1142, 'chance': 328, 'database': 471, 'consistent': 411, '200': 28, 'disease': 542, 'sin': 1662, 'brought': 279, 'tend': 1804, 'wait': 1932, 'satan': 1584, 'wants': 1936, 'choose': 342, 'messages': 1129, 'posted': 1375, 'readers': 1483, 'account': 87, 'appropriate': 162, 'report': 1528, 'organization': 1269, 'targa': 1785, 'driver': 570, 'company': 387, 'feet': 684, 'levels': 1008, 'apr': 163, '93': 71, 'nasa': 1187, 'supporting': 1763, 'somewhat': 1679, 'paper': 1288, 'friend': 729, 'face': 658, 'track': 1847, 'optical': 1258, 'radar': 1468, 'designed': 512, 'elements': 597, 'russia': 1577, 'usa': 1881, 'tracking': 1848, 'radio': 1470, 'review': 1553, '23': 33, 'reports': 1530, 'results': 1550, 'launched': 985, 'ground': 790, 'station': 1728, 'equipment': 612, 'addition': 101, 'determined': 519, 'observation': 1227, 'measurements': 1113, 'conference': 405, 'issues': 923, '19': 19, '1990': 23, 'section': 1611, 'frequency': 727, 'km': 962, 'altitude': 130, '500': 58, 'expected': 641, 'antenna': 146, 'center': 318, 'international': 909, 'map': 1087, 'active': 92, 'array': 179, 'distributed': 547, 'solid': 1677, 'element': 596, 'operations': 1254, 'signal': 1653, 'electronic': 595, 'devices': 523, 'excellent': 634, 'aircraft': 118, 'named': 1185, 'monitor': 1162, 'board': 265, '100': 6, '400': 54, 'writes': 1981, 'secular': 1612, 'responsibility': 1546, 'believers': 247, 'serve': 1630, 'properly': 1432, 'behavior': 240, 'wide': 1956, 'shouldn': 1645, 'gays': 750, 'extra': 655, 'justification': 949, 'picture': 1332, 'ordered': 1267, 'interesting': 907, 'game': 745, 'companies': 386, 'straight': 1738, 'lets': 1005, 'references': 1506, '04': 3, '01': 2, '21': 30, 'astronomy': 201, 'astronomical': 200, 'avenue': 220, '32': 46, 'east': 579, 'southern': 1690, 'observatory': 1229, '800': 66, 'selection': 1617, 'shuttle': 1650, 'voyager': 1931, 'catalog': 310, 'utah': 1892, 'sales': 1581, 'planetary': 1346, 'stars': 1719, 'canada': 299, 'bitnet': 259, 'maps': 1089, '202': 29, 'industry': 888, 'princeton': 1403, 'edition': 585, 'australia': 214, 'organizations': 1270, 'additional': 102, 'astronaut': 199, 'centers': 319, 'plus': 1354, 'ssto': 1711, 'vehicle': 1902, 'server': 1631, 'directory': 536, 'fee': 682, 'absolutely': 80, 'doc': 551, 'presentation': 1392, 'orbiter': 1263, 'survey': 1772, 'search': 1608, 'gov': 778, 'activities': 93, 'isbn': 917, 'heavy': 819, 'practical': 1385, 'ed': 582, 'thomas': 1822, 'coverage': 451, 'faq': 671, 'produced': 1420, 'modules': 1158, '45': 56, '24': 34, 'range': 1476, 'hst': 851, '95': 72, 'plans': 1349, '300': 43, 'atlas': 205, 'centaur': 317, 'titan': 1832, 'ii': 864, 'mercury': 1126, 'block': 263, 'propulsion': 1438, 'math': 1101, 'print': 1406, 'fuel': 732, 'typical': 1865, 'attitude': 212, 'larson': 979, 'warning': 1938, 'telephone': 1798, 'solar': 1676, 'agency': 112, 'laser': 980, 'thermal': 1816, 'status': 1729, 'studies': 1744, 'drag': 566, 'dynamics': 573, 'energy': 601, 'loss': 1051, 'compression': 394, 'journal': 939, 'payload': 1306, 'conversion': 428, 'meeting': 1117, 'recommend': 1500, 'primary': 1402, 'aspects': 188, 'numerous': 1222, 'drivers': 571, '27': 38, 'art': 180, 'nuclear': 1219, 'notes': 1216, 'velocity': 1904, 'dec': 484, '1987': 20, 'row': 1569, 'historical': 833, 'computers': 396, 'sciences': 1599, 'evolution': 628, 'random': 1475, '256': 36, 'colors': 369, 'vesa': 1912, 'compatible': 388, 'haven': 812, 'gas': 747, 'fbi': 678, 'spread': 1709, 'jpl': 941, 'learn': 995, 'widely': 1957, 'placed': 1340, 'global': 766, 'luna': 1061, 'exposure': 652, 'weeks': 1948, 'places': 1341, 'linear': 1023, 'machines': 1065, 'speaking': 1696, 'explain': 645, 'enjoy': 606, 'justice': 948, 'hit': 835, 'illinois': 866, 'bbs': 236, 'updated': 1879, 'documentation': 554, 'mil': 1136, '129': 11, '92': 70, 'probe': 1412, 'probes': 1413, 'mariner': 1091, 'radius': 1472, 'normal': 1212, 'flyby': 702, '900': 68, 'primarily': 1401, 'craft': 453, 'ocean': 1237, 'ended': 600, 'huge': 853, 'cover': 450, 'jupiter': 946, 'meet': 1116, 'record': 1501, 'testing': 1809, 'orbits': 1265, 'camera': 298, 'module': 1157, 'june': 945, 'dark': 469, '1000': 7, '33': 47, 'spot': 1708, 'axis': 225, 'location': 1039, 'balloon': 228, 'comet': 373, 'circle': 349, 'planned': 1348, 'ms': 1177, 'smaller': 1671, 'apparently': 151, 'immediately': 871, 'multiple': 1181, 'background': 226, 'douglas': 564, 'richard': 1555, 'frank': 722, 'smith': 1672, 'log': 1040, 'wish': 1962, 'luck': 1059, 'receive': 1496, 'motto': 1173, 'civil': 352, 'ssf': 1710, 'goals': 768, 'yeah': 1991, 'runs': 1575, 'forget': 712, 'raster': 1477, 'converter': 430, 'compressed': 393, 'au': 213, 'joseph': 938, 'leadership': 994, 'standards': 1716, 'membership': 1120, 'split': 1707, 'prophet': 1434, 'messiah': 1130, 'vision': 1925, 'member': 1118, 'young': 1996, 'followers': 707, 'members': 1119, 'majority': 1075, 'lead': 991, 'believes': 248, 'stories': 1736, 'convinced': 433, 'selected': 1616, 'freedom': 725, 'judge': 944, 'president': 1395, 'authorities': 216, 'batf': 235, 'remain': 1521, 'saw': 1590, 'release': 1514, 'instruments': 899, 'ozone': 1280, 'molecular': 1159, 'helps': 825, 'hour': 847, '70': 63, 'facility': 659, 'contract': 420, 'gets': 758, 'ready': 1486, 'addresses': 104, 'esa': 615, 'requests': 1533, 'dryden': 572, 'outside': 1279, '301': 44, 'magellan': 1068, 'requirements': 1536, 'alternative': 129, 'jsc': 942, 'larc': 976, 'external': 654, 'tank': 1782, 'remote': 1524, 'sensing': 1623, 'transfer': 1851, 'degree': 496, 'colorado': 368, 'suite': 1755, 'mailing': 1071, 'comment': 376, 'drive': 569, 'resources': 1541, '128': 10, 'orthodox': 1275, 'observer': 1230, 'odd': 1238, 'inside': 894, 'hidden': 829, 'reads': 1485, 'holy': 839, 'divine': 549, 'soul': 1684, 'mankind': 1083, 'proton': 1439, 'kg': 955, 'booster': 272, 'funds': 739, 'integration': 901, 'phigs': 1324, 'routines': 1568, 'vga': 1913, 'domain': 559, 'home': 840, 'qur': 1466, 'private': 1408, 'deletion': 500, 'verse': 1907, 'sex': 1638, 'wall': 1933, 'errors': 614, 'platforms': 1350, 'window': 1959, 'graphic': 782, 'interactive': 905, 'menu': 1125, 'functions': 735, 'disk': 543, 'tools': 1841, 'mathematical': 1102, 'parameters': 1292, 'generate': 753, 'editor': 586, 'centre': 321, 'tar': 1784, 'favor': 676, 'p1': 1281, 'p2': 1282, 'setting': 1637, 'routine': 1567, 'double': 562, 'movie': 1175, 'apple': 154, 'basically': 233, 'pointed': 1357, 'ray': 1479, 'allah': 123, 'super': 1758, 'surely': 1769, 'risk': 1558, 'nazis': 1194, 'persecution': 1317, 'lists': 1029, 'tom': 1836, 'computing': 397, 'access': 85, 'steve': 1733, 'archie': 166, 'bought': 274, 'magazine': 1067, 'cview': 468, 'temp': 1803, 'path': 1303, 'mouth': 1174, 'catholic': 311, 'beings': 241, 'greek': 789, 'gamma': 746, 'roll': 1564, 'servers': 1632, 'released': 1515, 'announced': 142, 'zero': 1997, 'learning': 997, 'gun': 796, 'teach': 1787, 'henry': 826, 'congress': 406, 'unit': 1872, 'master': 1098, 'contain': 414, 'translation': 1852, 'amiga': 136, 'discuss': 539, 'gps': 780, 'origin': 1272, 'distribution': 548, 'silly': 1656, 'homosexuality': 842, 'tony': 1837, 'calculations': 291, 'waste': 1941, 'pov': 1381, 'wanted': 1935, 'talks': 1781, 'concerned': 399, 'motif': 1171, 'paradise': 1290, 'dave': 474, 'contradictions': 423, 'fundamental': 737, 'title': 1833, 'forum': 717, 'theory': 1815, 'atoms': 208, 'pixels': 1338, 'root': 1566, 'concerning': 400, 'joint': 936, 'nations': 1190, 'benefit': 250, 'ariane': 176, 'education': 588, 'pascal': 1297, 'weiss': 1950, 'decenso': 485, 'agreed': 115, 'attack': 209, 'fits': 697, 'south': 1689, 'index': 884, 'stupid': 1747, 'astro': 198, 'commentary': 377, 'demo': 503, 'plot': 1352, 'gl': 765, 'tax': 1786, 'goal': 767, 'contracts': 421, 'director': 535, 'rgb': 1554, 'pre': 1387, 'educational': 589, 'nick': 1209, 'mirrors': 1143, 'hands': 801, 'relative': 1512, 'containing': 415, 'manipulation': 1082, 'misc': 1144, 'dos': 561, 'msdos': 1178, 'zip': 1998, 'muhammad': 1179, 'tracer': 1845, 'option': 1259, 'port': 1366, 'lies': 1015, 'binary': 257, 'professional': 1423, 'lab': 970, 'surfaces': 1771, 'rayshade': 1480, 'gifs': 761, '91': 69, 'viewer': 1917, 'svga': 1774, 'business': 287, 'modes': 1155, 'permission': 1316, 'foundation': 719, 'cards': 305, '80': 65, 'shape': 1641, 'einstein': 594, 'ac': 81, 'immoral': 872, 'miracles': 1141, 'options': 1260, 'rtrace': 1570, 'tracing': 1846, 'toolkit': 1840, 'macintosh': 1066, 'cad': 290, 'ppm': 1384, 'regarding': 1507, 'ideal': 860, 'quantization': 1456, 'subscribe': 1750, 'superior': 1759, 'abortion': 78, 'teaching': 1789, 'silver': 1657, 'associated': 192, 'gay': 749, '64': 61, 'resource': 1540, 'host': 846, 'crew': 458, 'individuals': 887, 'online': 1248, 'payloads': 1307, 'navy': 1193, 'viewers': 1918, 'jpeg': 940, 'pi': 1330, 'flights': 700, '212': 31, 'redesign': 1503, 'influence': 889, 'explorer': 650, 'abort': 77, 'committee': 381, 'comprehensive': 392, 'ascii': 183, 'magi': 1069, 'uk': 1868, 'ex': 629, 'os': 1276, 'mit': 1149, 'client': 360, 'load': 1037, 'arithmetic': 177, 'scott': 1602, 'shareware': 1643, 'ics': 858, 'uci': 1867, 'incoming': 880, 'utilities': 1893, 'prophethood': 1435, 'listing': 1028, 'fi': 685, 'col': 364, '________________________________________________________________________________': 73, 'otis': 1277, 'int': 900, 'den': 504, 'p3': 1283, 'vertex': 1911, 'enviroleague': 610, 'op_rows': 1250, 'op_cols': 1249, 'isaiah': 916, 'grass': 784, 'simtel20': 1661, 'zoroastrians': 1999, 'judas': 943, 'psalm': 1446, 'db': 478, 'caligiuri': 293, 'jfif': 930, 'xxxx': 1989}\n",
      "[[0 0 0 ... 0 0 0]\n",
      " [0 0 0 ... 0 0 0]\n",
      " [0 0 0 ... 0 0 0]\n",
      " ...\n",
      " [0 0 0 ... 0 0 0]\n",
      " [0 0 0 ... 0 0 0]\n",
      " [0 0 0 ... 0 0 0]]\n"
     ]
    }
   ],
   "source": [
    "cntvect = feature_extraction.text.CountVectorizer(stop_words=\"english\",max_features=2000)\n",
    "\n",
    "cntvect.fit(traindata)\n",
    "\n",
    "print(cntvect.vocabulary_)\n",
    "# convert to vector\n",
    "trainX=cntvect.transform(traindata)\n",
    "testX=cntvect.transform(testdata)\n",
    "# convert to sparse matrix \n",
    "trainX= trainX.toarray()\n",
    "print(trainX)\n"
   ]
  },
  {
   "cell_type": "markdown",
   "metadata": {},
   "source": [
    "###  Bernoulli Naive Bayes \n",
    "Learn a Bernoulli Naive Bayes model from the training set.  What is the prediction accuracy on the test set?  Try different parameters (alpha, max_features, etc) to get the best performance."
   ]
  },
  {
   "cell_type": "code",
   "execution_count": 59,
   "metadata": {
    "ExecuteTime": {
     "end_time": "2023-09-13T03:00:18.420627200Z",
     "start_time": "2023-09-13T03:00:18.417213800Z"
    }
   },
   "outputs": [],
   "source": [
    "### INSERT YOUR CODE HERE"
   ]
  },
  {
   "cell_type": "code",
   "execution_count": 19,
   "metadata": {
    "ExecuteTime": {
     "end_time": "2023-09-15T03:37:30.768547100Z",
     "start_time": "2023-09-15T03:37:30.663816700Z"
    }
   },
   "outputs": [
    {
     "name": "stdout",
     "output_type": "stream",
     "text": [
      "X shape (2034, 2000) : Y shape (2034,)\n"
     ]
    },
    {
     "data": {
      "text/plain": "0.6807095343680709"
     },
     "execution_count": 19,
     "metadata": {},
     "output_type": "execute_result"
    }
   ],
   "source": [
    "bmodel = naive_bayes.BernoulliNB(alpha=0.1)\n",
    "print(\"X shape {} : Y shape {}\".format(trainX.shape,trainY.shape))\n",
    "bmodel.fit(trainX,trainY)\n",
    "\n",
    "predY= bmodel.predict(testX)\n",
    "metrics.accuracy_score(predY,testY)"
   ]
  },
  {
   "cell_type": "markdown",
   "metadata": {},
   "source": [
    "What are the most important (frequent) words for each category?  Run the below code.\n",
    "\n",
    "Note: `model.feature_log_prob_[i]` will index the word log-probabilities for the i-th class"
   ]
  },
  {
   "cell_type": "code",
   "execution_count": 20,
   "metadata": {
    "scrolled": false,
    "ExecuteTime": {
     "end_time": "2023-09-15T03:37:38.859817300Z",
     "start_time": "2023-09-15T03:37:38.852435100Z"
    }
   },
   "outputs": [
    {
     "name": "stdout",
     "output_type": "stream",
     "text": [
      "class alt.atheism\n",
      "    time      (-1.80349)\n",
      "    know      (-1.60881)\n",
      "    does      (-1.60881)\n",
      "    god       (-1.58822)\n",
      "    like      (-1.54825)\n",
      "    say       (-1.52885)\n",
      "    just      (-1.45481)\n",
      "    think     (-1.39424)\n",
      "    people    (-1.29824)\n",
      "    don       (-1.18991)\n",
      "class comp.graphics\n",
      "    just      (-1.95020)\n",
      "    don       (-1.91473)\n",
      "    program   (-1.88048)\n",
      "    need      (-1.85829)\n",
      "    does      (-1.74429)\n",
      "    use       (-1.73454)\n",
      "    like      (-1.60722)\n",
      "    know      (-1.50966)\n",
      "    graphics  (-1.49428)\n",
      "    thanks    (-1.47166)\n",
      "class sci.space\n",
      "    earth     (-1.90706)\n",
      "    use       (-1.88461)\n",
      "    time      (-1.76942)\n",
      "    know      (-1.73062)\n",
      "    think     (-1.73062)\n",
      "    nasa      (-1.73062)\n",
      "    don       (-1.69327)\n",
      "    just      (-1.47214)\n",
      "    like      (-1.41502)\n",
      "    space     (-1.01909)\n",
      "class talk.religion.misc\n",
      "    say       (-1.65472)\n",
      "    way       (-1.62736)\n",
      "    like      (-1.61395)\n",
      "    does      (-1.53709)\n",
      "    know      (-1.48895)\n",
      "    think     (-1.42082)\n",
      "    god       (-1.37785)\n",
      "    don       (-1.35703)\n",
      "    just      (-1.34679)\n",
      "    people    (-1.31667)\n"
     ]
    }
   ],
   "source": [
    "# get the word names\n",
    "fnames = asarray(cntvect.get_feature_names_out())\n",
    "for i,c in enumerate(newsgroups_train.target_names):\n",
    "    tmp = argsort(bmodel.feature_log_prob_[i])[-10:]\n",
    "    print(\"class\", c)\n",
    "    for t in tmp:\n",
    "        print(\"    {:9s} ({:.5f})\".format(fnames[t], bmodel.feature_log_prob_[i][t]))"
   ]
  },
  {
   "cell_type": "markdown",
   "metadata": {},
   "source": [
    "### Multinomial Naive Bayes model\n",
    "Now learn a multinomial Naive Bayes model using the TF-IDF representation for the documents.  Again try different parameter values to improve the test accuracy."
   ]
  },
  {
   "cell_type": "code",
   "execution_count": 62,
   "metadata": {
    "ExecuteTime": {
     "end_time": "2023-09-13T03:00:18.509147900Z",
     "start_time": "2023-09-13T03:00:18.442206800Z"
    }
   },
   "outputs": [],
   "source": [
    "### INSERT YOUR CODE HERE"
   ]
  },
  {
   "cell_type": "code",
   "execution_count": 22,
   "metadata": {
    "ExecuteTime": {
     "end_time": "2023-09-15T03:38:51.439451500Z",
     "start_time": "2023-09-15T03:38:51.305227600Z"
    }
   },
   "outputs": [
    {
     "name": "stdout",
     "output_type": "stream",
     "text": [
      "TF_IDF data\n",
      "[[0. 0. 0. ... 0. 0. 0.]\n",
      " [0. 0. 0. ... 0. 0. 0.]\n",
      " [0. 0. 0. ... 0. 0. 0.]\n",
      " ...\n",
      " [0. 0. 0. ... 0. 0. 0.]\n",
      " [0. 0. 0. ... 0. 0. 0.]\n",
      " [0. 0. 0. ... 0. 0. 0.]]\n",
      "accuracy:  0.7028824833702882\n"
     ]
    }
   ],
   "source": [
    "tf_trans = feature_extraction.text.TfidfTransformer(use_idf=True,norm=\"l1\")\n",
    "trainXtf = tf_trans.fit_transform(trainX)\n",
    "testXtf= tf_trans.fit_transform(testX)\n",
    "print('TF_IDF data')\n",
    "trainXtf = trainXtf.toarray()\n",
    "print(trainXtf)\n",
    "\n",
    "mmodel_tf = naive_bayes.MultinomialNB(alpha=0.1)\n",
    "mmodel_tf.fit(trainXtf,trainY)\n",
    "\n",
    "predYtf = mmodel_tf.predict(testXtf)\n",
    "print(\"accuracy: \", metrics.accuracy_score(predYtf,testY))\n"
   ]
  },
  {
   "cell_type": "markdown",
   "metadata": {},
   "source": [
    "What are the most important features for Multinomial model? Run the below code."
   ]
  },
  {
   "cell_type": "code",
   "execution_count": 24,
   "metadata": {
    "ExecuteTime": {
     "end_time": "2023-09-15T03:42:53.269732200Z",
     "start_time": "2023-09-15T03:42:53.247516700Z"
    }
   },
   "outputs": [
    {
     "name": "stdout",
     "output_type": "stream",
     "text": [
      "class alt.atheism\n",
      "    know      (-5.64054)\n",
      "    deletion  (-5.51285)\n",
      "    say       (-5.46831)\n",
      "    religion  (-5.45488)\n",
      "    think     (-5.31059)\n",
      "    people    (-5.27216)\n",
      "    does      (-5.24939)\n",
      "    don       (-5.19397)\n",
      "    just      (-5.12135)\n",
      "    god       (-4.95561)\n",
      "class comp.graphics\n",
      "    program   (-5.46231)\n",
      "    hi        (-5.42901)\n",
      "    looking   (-5.38944)\n",
      "    does      (-5.38172)\n",
      "    image     (-5.30478)\n",
      "    know      (-5.27936)\n",
      "    files     (-5.22075)\n",
      "    file      (-5.21700)\n",
      "    graphics  (-4.86112)\n",
      "    thanks    (-4.84564)\n",
      "class sci.space\n",
      "    time      (-5.77133)\n",
      "    moon      (-5.77022)\n",
      "    launch    (-5.74249)\n",
      "    think     (-5.70504)\n",
      "    orbit     (-5.68926)\n",
      "    nasa      (-5.49502)\n",
      "    thanks    (-5.37923)\n",
      "    just      (-5.34407)\n",
      "    like      (-5.33712)\n",
      "    space     (-4.58609)\n",
      "class talk.religion.misc\n",
      "    koresh    (-5.74181)\n",
      "    know      (-5.74056)\n",
      "    think     (-5.69167)\n",
      "    just      (-5.68584)\n",
      "    don       (-5.66810)\n",
      "    people    (-5.59047)\n",
      "    christian (-5.54155)\n",
      "    christians (-5.46756)\n",
      "    jesus     (-5.29820)\n",
      "    god       (-4.85077)\n"
     ]
    }
   ],
   "source": [
    "# get the word names\n",
    "fnames = asarray(cntvect.get_feature_names_out())\n",
    "for i,c in enumerate(newsgroups_train.target_names):\n",
    "    tmp = argsort(mmodel_tf.feature_log_prob_[i])[-10:]\n",
    "    print(\"class\", c)\n",
    "    for t in tmp:\n",
    "        print(\"    {:9s} ({:.5f})\".format(fnames[t], mmodel_tf.feature_log_prob_[i][t]))"
   ]
  },
  {
   "cell_type": "markdown",
   "metadata": {},
   "source": [
    "How do the most important words differ between the TF-IDF multinomial model and the Bernoulli model?"
   ]
  },
  {
   "cell_type": "markdown",
   "metadata": {},
   "source": [
    "- **INSERT YOUR ANSWER HERE**\n",
    "After applying the TF-IDF, we can notice that the length of important words slightly become longer. This may indicate that long words have good raity among the document rather than the short word.\n"
   ]
  },
  {
   "cell_type": "markdown",
   "metadata": {},
   "source": [
    "Finally, look at a few of the misclassified documents. "
   ]
  },
  {
   "cell_type": "code",
   "execution_count": 65,
   "metadata": {
    "ExecuteTime": {
     "end_time": "2023-09-13T04:25:45.952939Z",
     "start_time": "2023-09-13T04:25:45.949402400Z"
    }
   },
   "outputs": [],
   "source": [
    "### INSERT YOUR CODE HERE ###"
   ]
  },
  {
   "cell_type": "code",
   "execution_count": 25,
   "metadata": {
    "ExecuteTime": {
     "end_time": "2023-09-15T04:00:13.847031600Z",
     "start_time": "2023-09-15T04:00:13.821437Z"
    }
   },
   "outputs": [
    {
     "name": "stdout",
     "output_type": "stream",
     "text": [
      "common missclassified documents are  267\n",
      "Document 0\n",
      "{}\n",
      "Document 1\n",
      " \n",
      "\n",
      "Document 2\n",
      "[ deleted ]\n",
      "[ deleted ]\n",
      "\n",
      "  Your information on this topic is very much out of date.  Quantum Electro-\n",
      "dynamics (QED - which considers light to be particles) has been experimentally\n",
      "verified to about 14 decimal digits of precision under ALL tested conditions.\n",
      "I'm afraid that this case, at least in the physics community, has been decided.\n",
      "Laymen should consult \"QED - The Strange Theory of Light and Matter\" by Richard\n",
      "P. Feynman and for the more technically minded there's \"The Feynman Lectures on\n",
      "Physics\" by Feynman, Leighton and Sands (an excellent 3 volumes).  Case closed.\n",
      "\n",
      "Document 3\n",
      "This discussion on \"objective\" seems to be falling into solipsism (Eg: the\n",
      "recent challenge from Frank Dwyer, for someone to prove that he can actually\n",
      "observe phenomena).  Someones even made the statement that science is\n",
      "\"subjective\" and that even atom are \"subjective.\" This is getting a bit silly\n",
      "and the word \"objective\" is losing all meaning.  Lets start by remembering the\n",
      "definition of \"objective\" which has been already presented:\n",
      "\n",
      "  objective ADJ. 1. Of or having to do with a material object as \n",
      "    distinguished from a mental concept. 2. Having actual existence.\n",
      "    3.a. Unenfluenced by emotion or personal prejudice. b. Based on\n",
      "    observable phenomenon.\n",
      "\n",
      "The Objectivity of a thing is not based on whether everyone agrees on that\n",
      "thing (eg: the world is objectively round, regardless of the fact that there\n",
      "exist flat earthers), but rather whether it is based observable and verifiable\n",
      "phenomenon (instead of being based solely on peoples wishes, feeling, mental\n",
      "processes, etc).  Thus atoms, being based on very observable and repeatable\n",
      "phenomenon, are indeed considered to be objective rather than subjective. \n",
      "Even weird, high energy physics is based on observable phenomenon (even though\n",
      "that observation can change the outcome).  Nor are those observable phenomenon\n",
      "affected by emotion, or personal prejudice (eg: chemical reactions do not\n",
      "change to the whims of different people).  Thus to say that science is not\n",
      "objective (ie: objectively verifiable) is a bit silly, as that is the\n",
      "point of science.  Now I will agree that science is not objectively \"good;\" I\n",
      "will not thereby conclude though that science is not objective. \n",
      "\n",
      "Now some examples things which are \"objective\":  A D-12 tractor is larger\n",
      "than the average breadbox.  Chlorophyll is green.  Seawater contains salt.\n",
      "There exists ozone in the atmosphere (at least presently).  Ozone blocks \n",
      "ultraviolet light.  Ultraviolet light increases the incidents of skin Cancer.\n",
      "\n",
      "\"Good\" on the other hand is a value judgement.  It doesn't seem to have an\n",
      "existence apart from what we give it (unless someone can objectively show the\n",
      "existence of an omnipotent entity which has defined \"good\").  We cannot\n",
      "quantify it, touch it or collect it in any concrete sense (eg: I have a bag\n",
      "full of \"good\").  Now we do sometimes attempt to give the word \"good\" an\n",
      "objective meaning, e.g.  \"good\" has been used to denote strength, resiliency,\n",
      "speed, etc.  That though, is a subjective definition, as some might not see\n",
      "\"strength\" and etc, as necessarily \"good\" (eg: strength inspired by Naziism \n",
      "is not generally viewed as \"good\"). \n",
      "\n",
      "As to a morality, I cannot say that I have ever seen a morality strictly based\n",
      "on verifiable observable phenomenon.  The closest I have seen is some form of\n",
      "the \"Golden Rule,\" which concludes that it is best not to deliberately piss\n",
      "people off, as they will likely then involve themselves in your life, in a\n",
      "manner you won't like.  This is verifiable; when you \"get in someone's face,\"\n",
      "they will often retaliate.  Another objective fact about morality is that a\n",
      "more powerful group can enforce their morality on a weaker group, and thus can\n",
      "at times, ignore that form of the \"Golden Rule\" without fear of reprisal.  Now\n",
      "as to whether this enforcing of morality is \"good\" or \"bad,\" is quite\n",
      "subjective.  By the way, remember that subjective does not mean that a thing\n",
      "cannot be formally stated, or even commonly agreed upon; it only means that\n",
      "that it is not verifiable from observable phenomena, or has a physical\n",
      "existence unto itself.  Also note that I have not stated that there is no such\n",
      "thing as an objective morality, or that I could not accept any such a\n",
      "morality; I have simply stated that I have seen no evidence of any such\n",
      "morality. \n",
      "\n",
      "One other thing to notice, \"objective\" is many times used as synonymous with\n",
      "\"true\" and/or \"absolute,\" and \"subjective\" sometimes has the connotation of\n",
      "\"false\" and/or \"relative.\" Tain't necessarily so.  For instance, when a\n",
      "conclusion is based on objective, but insufficient evidence, then it can be\n",
      "both objective and false.  As to \"absolute,\" it is easy to note that while we\n",
      "can objectively show that TNT is explosive, but that does not absolutely mean\n",
      "that all TNT will explode, and thus objective is not necessarily absolute\n",
      "either.  On the other hand, something subjective can also be either\n",
      "\"absolutist,\" or \"true.\" For instance, there are some theists who are\n",
      "specifically \"absolutist\" in their morality, even though they have only\n",
      "subjective evidence to back it up.  Further, many a scientist and detective\n",
      "has been motivated by subjective reasons (eg: a \"gut feeling\" or \"hunch\"), to\n",
      "investigate a phenomena or situation, and gather the objective evidence\n",
      "necessary to support a true hypothesis.  On the whole though, I would have to\n",
      "agree that objective evidence is much more trustworthy than subjective\n",
      "evidence.\n",
      " \n",
      "\t\t\t\tLater,\n",
      "\n",
      "\t\t\t\tDave Butler\n",
      "Document 4\n",
      "\n",
      "Document 5\n",
      "\n",
      "\n",
      "\n",
      "\n",
      "   Uh oh, Michael; you typed \"hell\" and capitalized it to boot! Now\n",
      "Peter Nyikos will explain that you're not a real Christian!\n",
      "\n",
      "\n",
      "\n",
      "\n",
      "BZZT! Sorry Michael--the Nyikos Inquisition pointed out that I was\n",
      "hell-bound after one mildly scurrilous pun on \"revealing oneself.\"\n",
      "Admitting to masturbation--well, I'm just shocked!\n",
      "Document 6\n",
      "\n",
      "Yeah, but these were not the wives.  The wives came from Nod, apparently\n",
      "a land being developed by another set of gods.\n",
      "Document 7\n",
      "\n",
      "\n",
      "Hmm...are you a Taoist?  Imposing limits *does* do something useful...it gives\n",
      "you something to go beyond.\n",
      "\n",
      "\n",
      "I tend to be a bit critical of any stratification of Taoism.  I especially\n",
      "tend to frown on any suggestion that \"orthodoxy\" or \"classics\" have any\n",
      "special place in Tao.\n",
      "\n",
      "\n",
      "So rather than debate what \"Taoism *REALLY* means\" you are suggesting that\n",
      "we take someone else's word for it and work thusly?  I'd rather not, thank\n",
      "you.\n",
      "\n",
      "\n",
      "Whereas you, of course, have a clear idea of what the word means?  Can\n",
      "you tell the Tao? :-)\n",
      "\n",
      "\n",
      "Wonderful idea.\n",
      "\n",
      "\n",
      "Only if you choose to define failure in that way.  Or to define it at all.\n",
      "\n",
      "\n",
      "\n",
      "Document 8\n",
      "\n",
      "\n",
      "\n",
      "\n",
      "You hadn't made that clear; I'm glad to have it clarified! So you're\n",
      "a (physical) objectivist, after all, right?\n",
      "\n",
      "\n",
      "Wavicle! Next question? ;-)\n",
      "--\n",
      "Mark Pundurs\n",
      "Document 9\n",
      "\n",
      "Cool, then we can discuss the increase in radio and TV use, \n",
      "the increase in the use of fossil fuels, the increase in air \n",
      "travel, and consumption of processed bread, and you can\n",
      "instruct us on which of them causes increased depression.\n"
     ]
    }
   ],
   "source": [
    "missclassifyDoc:ndarray=array({})\n",
    "for index,y in enumerate(testY):\n",
    "    if(predY[index] != y and predYtf[index] != y):\n",
    "        missclassifyDoc=append(missclassifyDoc,testdata[index])\n",
    "\n",
    "print(\"common missclassified documents are \", len(missclassifyDoc))\n",
    "for i in range(10):\n",
    "    print(\"Document\", i)\n",
    "    print(missclassifyDoc[i])"
   ]
  },
  {
   "cell_type": "markdown",
   "metadata": {},
   "source": [
    "Can you get any intuition or reason why they were misclassified?"
   ]
  },
  {
   "cell_type": "markdown",
   "metadata": {},
   "source": [
    "- **INSERT YOUR ANSWER HERE**\n",
    "These document may not long enough to provide sufficient information for the classifier to learn the features. As such, these documents were missclassified."
   ]
  },
  {
   "cell_type": "markdown",
   "metadata": {
    "collapsed": true
   },
   "source": [
    "### Effect of smoothing\n",
    "The smoothing (regularization) parameter has a big effect on the performance.  Using the Multinomial TF-IDF models, make a plot of accuracy versus different values of alpha. For each alpha, you need to train a new model. Which alpha value yields the best result?"
   ]
  },
  {
   "cell_type": "code",
   "execution_count": 67,
   "metadata": {
    "ExecuteTime": {
     "end_time": "2023-09-13T04:26:13.454524800Z",
     "start_time": "2023-09-13T04:26:13.454524800Z"
    }
   },
   "outputs": [],
   "source": [
    "### INSERT YOUR CODE HERE"
   ]
  },
  {
   "cell_type": "code",
   "execution_count": 27,
   "metadata": {
    "ExecuteTime": {
     "end_time": "2023-09-15T04:00:54.590947900Z",
     "start_time": "2023-09-15T04:00:54.226534300Z"
    }
   },
   "outputs": [
    {
     "data": {
      "text/plain": "<Figure size 640x480 with 1 Axes>",
      "image/svg+xml": "<?xml version=\"1.0\" encoding=\"utf-8\" standalone=\"no\"?>\n<!DOCTYPE svg PUBLIC \"-//W3C//DTD SVG 1.1//EN\"\n  \"http://www.w3.org/Graphics/SVG/1.1/DTD/svg11.dtd\">\n<svg xmlns:xlink=\"http://www.w3.org/1999/xlink\" width=\"414.46375pt\" height=\"325.986375pt\" viewBox=\"0 0 414.46375 325.986375\" xmlns=\"http://www.w3.org/2000/svg\" version=\"1.1\">\n <metadata>\n  <rdf:RDF xmlns:dc=\"http://purl.org/dc/elements/1.1/\" xmlns:cc=\"http://creativecommons.org/ns#\" xmlns:rdf=\"http://www.w3.org/1999/02/22-rdf-syntax-ns#\">\n   <cc:Work>\n    <dc:type rdf:resource=\"http://purl.org/dc/dcmitype/StillImage\"/>\n    <dc:date>2023-09-15T12:00:54.542155</dc:date>\n    <dc:format>image/svg+xml</dc:format>\n    <dc:creator>\n     <cc:Agent>\n      <dc:title>Matplotlib v3.7.1, https://matplotlib.org/</dc:title>\n     </cc:Agent>\n    </dc:creator>\n   </cc:Work>\n  </rdf:RDF>\n </metadata>\n <defs>\n  <style type=\"text/css\">*{stroke-linejoin: round; stroke-linecap: butt}</style>\n </defs>\n <g id=\"figure_1\">\n  <g id=\"patch_1\">\n   <path d=\"M 0 325.986375 \nL 414.46375 325.986375 \nL 414.46375 0 \nL 0 0 \nz\n\" style=\"fill: #ffffff\"/>\n  </g>\n  <g id=\"axes_1\">\n   <g id=\"patch_2\">\n    <path d=\"M 50.14375 288.430125 \nL 407.26375 288.430125 \nL 407.26375 22.318125 \nL 50.14375 22.318125 \nz\n\" style=\"fill: #ffffff\"/>\n   </g>\n   <g id=\"matplotlib.axis_1\">\n    <g id=\"xtick_1\">\n     <g id=\"line2d_1\">\n      <defs>\n       <path id=\"mf4cdc46e3b\" d=\"M 0 0 \nL 0 3.5 \n\" style=\"stroke: #000000; stroke-width: 0.8\"/>\n      </defs>\n      <g>\n       <use xlink:href=\"#mf4cdc46e3b\" x=\"93.431023\" y=\"288.430125\" style=\"stroke: #000000; stroke-width: 0.8\"/>\n      </g>\n     </g>\n     <g id=\"text_1\">\n      <!-- 0.25 -->\n      <g transform=\"translate(82.29821 303.028562) scale(0.1 -0.1)\">\n       <defs>\n        <path id=\"DejaVuSans-30\" d=\"M 2034 4250 \nQ 1547 4250 1301 3770 \nQ 1056 3291 1056 2328 \nQ 1056 1369 1301 889 \nQ 1547 409 2034 409 \nQ 2525 409 2770 889 \nQ 3016 1369 3016 2328 \nQ 3016 3291 2770 3770 \nQ 2525 4250 2034 4250 \nz\nM 2034 4750 \nQ 2819 4750 3233 4129 \nQ 3647 3509 3647 2328 \nQ 3647 1150 3233 529 \nQ 2819 -91 2034 -91 \nQ 1250 -91 836 529 \nQ 422 1150 422 2328 \nQ 422 3509 836 4129 \nQ 1250 4750 2034 4750 \nz\n\" transform=\"scale(0.015625)\"/>\n        <path id=\"DejaVuSans-2e\" d=\"M 684 794 \nL 1344 794 \nL 1344 0 \nL 684 0 \nL 684 794 \nz\n\" transform=\"scale(0.015625)\"/>\n        <path id=\"DejaVuSans-32\" d=\"M 1228 531 \nL 3431 531 \nL 3431 0 \nL 469 0 \nL 469 531 \nQ 828 903 1448 1529 \nQ 2069 2156 2228 2338 \nQ 2531 2678 2651 2914 \nQ 2772 3150 2772 3378 \nQ 2772 3750 2511 3984 \nQ 2250 4219 1831 4219 \nQ 1534 4219 1204 4116 \nQ 875 4013 500 3803 \nL 500 4441 \nQ 881 4594 1212 4672 \nQ 1544 4750 1819 4750 \nQ 2544 4750 2975 4387 \nQ 3406 4025 3406 3419 \nQ 3406 3131 3298 2873 \nQ 3191 2616 2906 2266 \nQ 2828 2175 2409 1742 \nQ 1991 1309 1228 531 \nz\n\" transform=\"scale(0.015625)\"/>\n        <path id=\"DejaVuSans-35\" d=\"M 691 4666 \nL 3169 4666 \nL 3169 4134 \nL 1269 4134 \nL 1269 2991 \nQ 1406 3038 1543 3061 \nQ 1681 3084 1819 3084 \nQ 2600 3084 3056 2656 \nQ 3513 2228 3513 1497 \nQ 3513 744 3044 326 \nQ 2575 -91 1722 -91 \nQ 1428 -91 1123 -41 \nQ 819 9 494 109 \nL 494 744 \nQ 775 591 1075 516 \nQ 1375 441 1709 441 \nQ 2250 441 2565 725 \nQ 2881 1009 2881 1497 \nQ 2881 1984 2565 2268 \nQ 2250 2553 1709 2553 \nQ 1456 2553 1204 2497 \nQ 953 2441 691 2322 \nL 691 4666 \nz\n\" transform=\"scale(0.015625)\"/>\n       </defs>\n       <use xlink:href=\"#DejaVuSans-30\"/>\n       <use xlink:href=\"#DejaVuSans-2e\" x=\"63.623047\"/>\n       <use xlink:href=\"#DejaVuSans-32\" x=\"95.410156\"/>\n       <use xlink:href=\"#DejaVuSans-35\" x=\"159.033203\"/>\n      </g>\n     </g>\n    </g>\n    <g id=\"xtick_2\">\n     <g id=\"line2d_2\">\n      <g>\n       <use xlink:href=\"#mf4cdc46e3b\" x=\"138.521932\" y=\"288.430125\" style=\"stroke: #000000; stroke-width: 0.8\"/>\n      </g>\n     </g>\n     <g id=\"text_2\">\n      <!-- 0.50 -->\n      <g transform=\"translate(127.389119 303.028562) scale(0.1 -0.1)\">\n       <use xlink:href=\"#DejaVuSans-30\"/>\n       <use xlink:href=\"#DejaVuSans-2e\" x=\"63.623047\"/>\n       <use xlink:href=\"#DejaVuSans-35\" x=\"95.410156\"/>\n       <use xlink:href=\"#DejaVuSans-30\" x=\"159.033203\"/>\n      </g>\n     </g>\n    </g>\n    <g id=\"xtick_3\">\n     <g id=\"line2d_3\">\n      <g>\n       <use xlink:href=\"#mf4cdc46e3b\" x=\"183.612841\" y=\"288.430125\" style=\"stroke: #000000; stroke-width: 0.8\"/>\n      </g>\n     </g>\n     <g id=\"text_3\">\n      <!-- 0.75 -->\n      <g transform=\"translate(172.480028 303.028562) scale(0.1 -0.1)\">\n       <defs>\n        <path id=\"DejaVuSans-37\" d=\"M 525 4666 \nL 3525 4666 \nL 3525 4397 \nL 1831 0 \nL 1172 0 \nL 2766 4134 \nL 525 4134 \nL 525 4666 \nz\n\" transform=\"scale(0.015625)\"/>\n       </defs>\n       <use xlink:href=\"#DejaVuSans-30\"/>\n       <use xlink:href=\"#DejaVuSans-2e\" x=\"63.623047\"/>\n       <use xlink:href=\"#DejaVuSans-37\" x=\"95.410156\"/>\n       <use xlink:href=\"#DejaVuSans-35\" x=\"159.033203\"/>\n      </g>\n     </g>\n    </g>\n    <g id=\"xtick_4\">\n     <g id=\"line2d_4\">\n      <g>\n       <use xlink:href=\"#mf4cdc46e3b\" x=\"228.70375\" y=\"288.430125\" style=\"stroke: #000000; stroke-width: 0.8\"/>\n      </g>\n     </g>\n     <g id=\"text_4\">\n      <!-- 1.00 -->\n      <g transform=\"translate(217.570937 303.028562) scale(0.1 -0.1)\">\n       <defs>\n        <path id=\"DejaVuSans-31\" d=\"M 794 531 \nL 1825 531 \nL 1825 4091 \nL 703 3866 \nL 703 4441 \nL 1819 4666 \nL 2450 4666 \nL 2450 531 \nL 3481 531 \nL 3481 0 \nL 794 0 \nL 794 531 \nz\n\" transform=\"scale(0.015625)\"/>\n       </defs>\n       <use xlink:href=\"#DejaVuSans-31\"/>\n       <use xlink:href=\"#DejaVuSans-2e\" x=\"63.623047\"/>\n       <use xlink:href=\"#DejaVuSans-30\" x=\"95.410156\"/>\n       <use xlink:href=\"#DejaVuSans-30\" x=\"159.033203\"/>\n      </g>\n     </g>\n    </g>\n    <g id=\"xtick_5\">\n     <g id=\"line2d_5\">\n      <g>\n       <use xlink:href=\"#mf4cdc46e3b\" x=\"273.794659\" y=\"288.430125\" style=\"stroke: #000000; stroke-width: 0.8\"/>\n      </g>\n     </g>\n     <g id=\"text_5\">\n      <!-- 1.25 -->\n      <g transform=\"translate(262.661847 303.028562) scale(0.1 -0.1)\">\n       <use xlink:href=\"#DejaVuSans-31\"/>\n       <use xlink:href=\"#DejaVuSans-2e\" x=\"63.623047\"/>\n       <use xlink:href=\"#DejaVuSans-32\" x=\"95.410156\"/>\n       <use xlink:href=\"#DejaVuSans-35\" x=\"159.033203\"/>\n      </g>\n     </g>\n    </g>\n    <g id=\"xtick_6\">\n     <g id=\"line2d_6\">\n      <g>\n       <use xlink:href=\"#mf4cdc46e3b\" x=\"318.885568\" y=\"288.430125\" style=\"stroke: #000000; stroke-width: 0.8\"/>\n      </g>\n     </g>\n     <g id=\"text_6\">\n      <!-- 1.50 -->\n      <g transform=\"translate(307.752756 303.028562) scale(0.1 -0.1)\">\n       <use xlink:href=\"#DejaVuSans-31\"/>\n       <use xlink:href=\"#DejaVuSans-2e\" x=\"63.623047\"/>\n       <use xlink:href=\"#DejaVuSans-35\" x=\"95.410156\"/>\n       <use xlink:href=\"#DejaVuSans-30\" x=\"159.033203\"/>\n      </g>\n     </g>\n    </g>\n    <g id=\"xtick_7\">\n     <g id=\"line2d_7\">\n      <g>\n       <use xlink:href=\"#mf4cdc46e3b\" x=\"363.976477\" y=\"288.430125\" style=\"stroke: #000000; stroke-width: 0.8\"/>\n      </g>\n     </g>\n     <g id=\"text_7\">\n      <!-- 1.75 -->\n      <g transform=\"translate(352.843665 303.028562) scale(0.1 -0.1)\">\n       <use xlink:href=\"#DejaVuSans-31\"/>\n       <use xlink:href=\"#DejaVuSans-2e\" x=\"63.623047\"/>\n       <use xlink:href=\"#DejaVuSans-37\" x=\"95.410156\"/>\n       <use xlink:href=\"#DejaVuSans-35\" x=\"159.033203\"/>\n      </g>\n     </g>\n    </g>\n    <g id=\"text_8\">\n     <!-- alpha Value -->\n     <g transform=\"translate(199.523281 316.706687) scale(0.1 -0.1)\">\n      <defs>\n       <path id=\"DejaVuSans-61\" d=\"M 2194 1759 \nQ 1497 1759 1228 1600 \nQ 959 1441 959 1056 \nQ 959 750 1161 570 \nQ 1363 391 1709 391 \nQ 2188 391 2477 730 \nQ 2766 1069 2766 1631 \nL 2766 1759 \nL 2194 1759 \nz\nM 3341 1997 \nL 3341 0 \nL 2766 0 \nL 2766 531 \nQ 2569 213 2275 61 \nQ 1981 -91 1556 -91 \nQ 1019 -91 701 211 \nQ 384 513 384 1019 \nQ 384 1609 779 1909 \nQ 1175 2209 1959 2209 \nL 2766 2209 \nL 2766 2266 \nQ 2766 2663 2505 2880 \nQ 2244 3097 1772 3097 \nQ 1472 3097 1187 3025 \nQ 903 2953 641 2809 \nL 641 3341 \nQ 956 3463 1253 3523 \nQ 1550 3584 1831 3584 \nQ 2591 3584 2966 3190 \nQ 3341 2797 3341 1997 \nz\n\" transform=\"scale(0.015625)\"/>\n       <path id=\"DejaVuSans-6c\" d=\"M 603 4863 \nL 1178 4863 \nL 1178 0 \nL 603 0 \nL 603 4863 \nz\n\" transform=\"scale(0.015625)\"/>\n       <path id=\"DejaVuSans-70\" d=\"M 1159 525 \nL 1159 -1331 \nL 581 -1331 \nL 581 3500 \nL 1159 3500 \nL 1159 2969 \nQ 1341 3281 1617 3432 \nQ 1894 3584 2278 3584 \nQ 2916 3584 3314 3078 \nQ 3713 2572 3713 1747 \nQ 3713 922 3314 415 \nQ 2916 -91 2278 -91 \nQ 1894 -91 1617 61 \nQ 1341 213 1159 525 \nz\nM 3116 1747 \nQ 3116 2381 2855 2742 \nQ 2594 3103 2138 3103 \nQ 1681 3103 1420 2742 \nQ 1159 2381 1159 1747 \nQ 1159 1113 1420 752 \nQ 1681 391 2138 391 \nQ 2594 391 2855 752 \nQ 3116 1113 3116 1747 \nz\n\" transform=\"scale(0.015625)\"/>\n       <path id=\"DejaVuSans-68\" d=\"M 3513 2113 \nL 3513 0 \nL 2938 0 \nL 2938 2094 \nQ 2938 2591 2744 2837 \nQ 2550 3084 2163 3084 \nQ 1697 3084 1428 2787 \nQ 1159 2491 1159 1978 \nL 1159 0 \nL 581 0 \nL 581 4863 \nL 1159 4863 \nL 1159 2956 \nQ 1366 3272 1645 3428 \nQ 1925 3584 2291 3584 \nQ 2894 3584 3203 3211 \nQ 3513 2838 3513 2113 \nz\n\" transform=\"scale(0.015625)\"/>\n       <path id=\"DejaVuSans-20\" transform=\"scale(0.015625)\"/>\n       <path id=\"DejaVuSans-56\" d=\"M 1831 0 \nL 50 4666 \nL 709 4666 \nL 2188 738 \nL 3669 4666 \nL 4325 4666 \nL 2547 0 \nL 1831 0 \nz\n\" transform=\"scale(0.015625)\"/>\n       <path id=\"DejaVuSans-75\" d=\"M 544 1381 \nL 544 3500 \nL 1119 3500 \nL 1119 1403 \nQ 1119 906 1312 657 \nQ 1506 409 1894 409 \nQ 2359 409 2629 706 \nQ 2900 1003 2900 1516 \nL 2900 3500 \nL 3475 3500 \nL 3475 0 \nL 2900 0 \nL 2900 538 \nQ 2691 219 2414 64 \nQ 2138 -91 1772 -91 \nQ 1169 -91 856 284 \nQ 544 659 544 1381 \nz\nM 1991 3584 \nL 1991 3584 \nz\n\" transform=\"scale(0.015625)\"/>\n       <path id=\"DejaVuSans-65\" d=\"M 3597 1894 \nL 3597 1613 \nL 953 1613 \nQ 991 1019 1311 708 \nQ 1631 397 2203 397 \nQ 2534 397 2845 478 \nQ 3156 559 3463 722 \nL 3463 178 \nQ 3153 47 2828 -22 \nQ 2503 -91 2169 -91 \nQ 1331 -91 842 396 \nQ 353 884 353 1716 \nQ 353 2575 817 3079 \nQ 1281 3584 2069 3584 \nQ 2775 3584 3186 3129 \nQ 3597 2675 3597 1894 \nz\nM 3022 2063 \nQ 3016 2534 2758 2815 \nQ 2500 3097 2075 3097 \nQ 1594 3097 1305 2825 \nQ 1016 2553 972 2059 \nL 3022 2063 \nz\n\" transform=\"scale(0.015625)\"/>\n      </defs>\n      <use xlink:href=\"#DejaVuSans-61\"/>\n      <use xlink:href=\"#DejaVuSans-6c\" x=\"61.279297\"/>\n      <use xlink:href=\"#DejaVuSans-70\" x=\"89.0625\"/>\n      <use xlink:href=\"#DejaVuSans-68\" x=\"152.539062\"/>\n      <use xlink:href=\"#DejaVuSans-61\" x=\"215.917969\"/>\n      <use xlink:href=\"#DejaVuSans-20\" x=\"277.197266\"/>\n      <use xlink:href=\"#DejaVuSans-56\" x=\"308.984375\"/>\n      <use xlink:href=\"#DejaVuSans-61\" x=\"369.642578\"/>\n      <use xlink:href=\"#DejaVuSans-6c\" x=\"430.921875\"/>\n      <use xlink:href=\"#DejaVuSans-75\" x=\"458.705078\"/>\n      <use xlink:href=\"#DejaVuSans-65\" x=\"522.083984\"/>\n     </g>\n    </g>\n   </g>\n   <g id=\"matplotlib.axis_2\">\n    <g id=\"ytick_1\">\n     <g id=\"line2d_8\">\n      <defs>\n       <path id=\"m757076576d\" d=\"M 0 0 \nL -3.5 0 \n\" style=\"stroke: #000000; stroke-width: 0.8\"/>\n      </defs>\n      <g>\n       <use xlink:href=\"#m757076576d\" x=\"50.14375\" y=\"283.546506\" style=\"stroke: #000000; stroke-width: 0.8\"/>\n      </g>\n     </g>\n     <g id=\"text_9\">\n      <!-- 0.54 -->\n      <g transform=\"translate(20.878125 287.345725) scale(0.1 -0.1)\">\n       <defs>\n        <path id=\"DejaVuSans-34\" d=\"M 2419 4116 \nL 825 1625 \nL 2419 1625 \nL 2419 4116 \nz\nM 2253 4666 \nL 3047 4666 \nL 3047 1625 \nL 3713 1625 \nL 3713 1100 \nL 3047 1100 \nL 3047 0 \nL 2419 0 \nL 2419 1100 \nL 313 1100 \nL 313 1709 \nL 2253 4666 \nz\n\" transform=\"scale(0.015625)\"/>\n       </defs>\n       <use xlink:href=\"#DejaVuSans-30\"/>\n       <use xlink:href=\"#DejaVuSans-2e\" x=\"63.623047\"/>\n       <use xlink:href=\"#DejaVuSans-35\" x=\"95.410156\"/>\n       <use xlink:href=\"#DejaVuSans-34\" x=\"159.033203\"/>\n      </g>\n     </g>\n    </g>\n    <g id=\"ytick_2\">\n     <g id=\"line2d_9\">\n      <g>\n       <use xlink:href=\"#m757076576d\" x=\"50.14375\" y=\"252.956061\" style=\"stroke: #000000; stroke-width: 0.8\"/>\n      </g>\n     </g>\n     <g id=\"text_10\">\n      <!-- 0.56 -->\n      <g transform=\"translate(20.878125 256.75528) scale(0.1 -0.1)\">\n       <defs>\n        <path id=\"DejaVuSans-36\" d=\"M 2113 2584 \nQ 1688 2584 1439 2293 \nQ 1191 2003 1191 1497 \nQ 1191 994 1439 701 \nQ 1688 409 2113 409 \nQ 2538 409 2786 701 \nQ 3034 994 3034 1497 \nQ 3034 2003 2786 2293 \nQ 2538 2584 2113 2584 \nz\nM 3366 4563 \nL 3366 3988 \nQ 3128 4100 2886 4159 \nQ 2644 4219 2406 4219 \nQ 1781 4219 1451 3797 \nQ 1122 3375 1075 2522 \nQ 1259 2794 1537 2939 \nQ 1816 3084 2150 3084 \nQ 2853 3084 3261 2657 \nQ 3669 2231 3669 1497 \nQ 3669 778 3244 343 \nQ 2819 -91 2113 -91 \nQ 1303 -91 875 529 \nQ 447 1150 447 2328 \nQ 447 3434 972 4092 \nQ 1497 4750 2381 4750 \nQ 2619 4750 2861 4703 \nQ 3103 4656 3366 4563 \nz\n\" transform=\"scale(0.015625)\"/>\n       </defs>\n       <use xlink:href=\"#DejaVuSans-30\"/>\n       <use xlink:href=\"#DejaVuSans-2e\" x=\"63.623047\"/>\n       <use xlink:href=\"#DejaVuSans-35\" x=\"95.410156\"/>\n       <use xlink:href=\"#DejaVuSans-36\" x=\"159.033203\"/>\n      </g>\n     </g>\n    </g>\n    <g id=\"ytick_3\">\n     <g id=\"line2d_10\">\n      <g>\n       <use xlink:href=\"#m757076576d\" x=\"50.14375\" y=\"222.365617\" style=\"stroke: #000000; stroke-width: 0.8\"/>\n      </g>\n     </g>\n     <g id=\"text_11\">\n      <!-- 0.58 -->\n      <g transform=\"translate(20.878125 226.164835) scale(0.1 -0.1)\">\n       <defs>\n        <path id=\"DejaVuSans-38\" d=\"M 2034 2216 \nQ 1584 2216 1326 1975 \nQ 1069 1734 1069 1313 \nQ 1069 891 1326 650 \nQ 1584 409 2034 409 \nQ 2484 409 2743 651 \nQ 3003 894 3003 1313 \nQ 3003 1734 2745 1975 \nQ 2488 2216 2034 2216 \nz\nM 1403 2484 \nQ 997 2584 770 2862 \nQ 544 3141 544 3541 \nQ 544 4100 942 4425 \nQ 1341 4750 2034 4750 \nQ 2731 4750 3128 4425 \nQ 3525 4100 3525 3541 \nQ 3525 3141 3298 2862 \nQ 3072 2584 2669 2484 \nQ 3125 2378 3379 2068 \nQ 3634 1759 3634 1313 \nQ 3634 634 3220 271 \nQ 2806 -91 2034 -91 \nQ 1263 -91 848 271 \nQ 434 634 434 1313 \nQ 434 1759 690 2068 \nQ 947 2378 1403 2484 \nz\nM 1172 3481 \nQ 1172 3119 1398 2916 \nQ 1625 2713 2034 2713 \nQ 2441 2713 2670 2916 \nQ 2900 3119 2900 3481 \nQ 2900 3844 2670 4047 \nQ 2441 4250 2034 4250 \nQ 1625 4250 1398 4047 \nQ 1172 3844 1172 3481 \nz\n\" transform=\"scale(0.015625)\"/>\n       </defs>\n       <use xlink:href=\"#DejaVuSans-30\"/>\n       <use xlink:href=\"#DejaVuSans-2e\" x=\"63.623047\"/>\n       <use xlink:href=\"#DejaVuSans-35\" x=\"95.410156\"/>\n       <use xlink:href=\"#DejaVuSans-38\" x=\"159.033203\"/>\n      </g>\n     </g>\n    </g>\n    <g id=\"ytick_4\">\n     <g id=\"line2d_11\">\n      <g>\n       <use xlink:href=\"#m757076576d\" x=\"50.14375\" y=\"191.775172\" style=\"stroke: #000000; stroke-width: 0.8\"/>\n      </g>\n     </g>\n     <g id=\"text_12\">\n      <!-- 0.60 -->\n      <g transform=\"translate(20.878125 195.57439) scale(0.1 -0.1)\">\n       <use xlink:href=\"#DejaVuSans-30\"/>\n       <use xlink:href=\"#DejaVuSans-2e\" x=\"63.623047\"/>\n       <use xlink:href=\"#DejaVuSans-36\" x=\"95.410156\"/>\n       <use xlink:href=\"#DejaVuSans-30\" x=\"159.033203\"/>\n      </g>\n     </g>\n    </g>\n    <g id=\"ytick_5\">\n     <g id=\"line2d_12\">\n      <g>\n       <use xlink:href=\"#m757076576d\" x=\"50.14375\" y=\"161.184727\" style=\"stroke: #000000; stroke-width: 0.8\"/>\n      </g>\n     </g>\n     <g id=\"text_13\">\n      <!-- 0.62 -->\n      <g transform=\"translate(20.878125 164.983946) scale(0.1 -0.1)\">\n       <use xlink:href=\"#DejaVuSans-30\"/>\n       <use xlink:href=\"#DejaVuSans-2e\" x=\"63.623047\"/>\n       <use xlink:href=\"#DejaVuSans-36\" x=\"95.410156\"/>\n       <use xlink:href=\"#DejaVuSans-32\" x=\"159.033203\"/>\n      </g>\n     </g>\n    </g>\n    <g id=\"ytick_6\">\n     <g id=\"line2d_13\">\n      <g>\n       <use xlink:href=\"#m757076576d\" x=\"50.14375\" y=\"130.594282\" style=\"stroke: #000000; stroke-width: 0.8\"/>\n      </g>\n     </g>\n     <g id=\"text_14\">\n      <!-- 0.64 -->\n      <g transform=\"translate(20.878125 134.393501) scale(0.1 -0.1)\">\n       <use xlink:href=\"#DejaVuSans-30\"/>\n       <use xlink:href=\"#DejaVuSans-2e\" x=\"63.623047\"/>\n       <use xlink:href=\"#DejaVuSans-36\" x=\"95.410156\"/>\n       <use xlink:href=\"#DejaVuSans-34\" x=\"159.033203\"/>\n      </g>\n     </g>\n    </g>\n    <g id=\"ytick_7\">\n     <g id=\"line2d_14\">\n      <g>\n       <use xlink:href=\"#m757076576d\" x=\"50.14375\" y=\"100.003837\" style=\"stroke: #000000; stroke-width: 0.8\"/>\n      </g>\n     </g>\n     <g id=\"text_15\">\n      <!-- 0.66 -->\n      <g transform=\"translate(20.878125 103.803056) scale(0.1 -0.1)\">\n       <use xlink:href=\"#DejaVuSans-30\"/>\n       <use xlink:href=\"#DejaVuSans-2e\" x=\"63.623047\"/>\n       <use xlink:href=\"#DejaVuSans-36\" x=\"95.410156\"/>\n       <use xlink:href=\"#DejaVuSans-36\" x=\"159.033203\"/>\n      </g>\n     </g>\n    </g>\n    <g id=\"ytick_8\">\n     <g id=\"line2d_15\">\n      <g>\n       <use xlink:href=\"#m757076576d\" x=\"50.14375\" y=\"69.413392\" style=\"stroke: #000000; stroke-width: 0.8\"/>\n      </g>\n     </g>\n     <g id=\"text_16\">\n      <!-- 0.68 -->\n      <g transform=\"translate(20.878125 73.212611) scale(0.1 -0.1)\">\n       <use xlink:href=\"#DejaVuSans-30\"/>\n       <use xlink:href=\"#DejaVuSans-2e\" x=\"63.623047\"/>\n       <use xlink:href=\"#DejaVuSans-36\" x=\"95.410156\"/>\n       <use xlink:href=\"#DejaVuSans-38\" x=\"159.033203\"/>\n      </g>\n     </g>\n    </g>\n    <g id=\"ytick_9\">\n     <g id=\"line2d_16\">\n      <g>\n       <use xlink:href=\"#m757076576d\" x=\"50.14375\" y=\"38.822947\" style=\"stroke: #000000; stroke-width: 0.8\"/>\n      </g>\n     </g>\n     <g id=\"text_17\">\n      <!-- 0.70 -->\n      <g transform=\"translate(20.878125 42.622166) scale(0.1 -0.1)\">\n       <use xlink:href=\"#DejaVuSans-30\"/>\n       <use xlink:href=\"#DejaVuSans-2e\" x=\"63.623047\"/>\n       <use xlink:href=\"#DejaVuSans-37\" x=\"95.410156\"/>\n       <use xlink:href=\"#DejaVuSans-30\" x=\"159.033203\"/>\n      </g>\n     </g>\n    </g>\n    <g id=\"text_18\">\n     <!-- Score -->\n     <g transform=\"translate(14.798438 169.376469) rotate(-90) scale(0.1 -0.1)\">\n      <defs>\n       <path id=\"DejaVuSans-53\" d=\"M 3425 4513 \nL 3425 3897 \nQ 3066 4069 2747 4153 \nQ 2428 4238 2131 4238 \nQ 1616 4238 1336 4038 \nQ 1056 3838 1056 3469 \nQ 1056 3159 1242 3001 \nQ 1428 2844 1947 2747 \nL 2328 2669 \nQ 3034 2534 3370 2195 \nQ 3706 1856 3706 1288 \nQ 3706 609 3251 259 \nQ 2797 -91 1919 -91 \nQ 1588 -91 1214 -16 \nQ 841 59 441 206 \nL 441 856 \nQ 825 641 1194 531 \nQ 1563 422 1919 422 \nQ 2459 422 2753 634 \nQ 3047 847 3047 1241 \nQ 3047 1584 2836 1778 \nQ 2625 1972 2144 2069 \nL 1759 2144 \nQ 1053 2284 737 2584 \nQ 422 2884 422 3419 \nQ 422 4038 858 4394 \nQ 1294 4750 2059 4750 \nQ 2388 4750 2728 4690 \nQ 3069 4631 3425 4513 \nz\n\" transform=\"scale(0.015625)\"/>\n       <path id=\"DejaVuSans-63\" d=\"M 3122 3366 \nL 3122 2828 \nQ 2878 2963 2633 3030 \nQ 2388 3097 2138 3097 \nQ 1578 3097 1268 2742 \nQ 959 2388 959 1747 \nQ 959 1106 1268 751 \nQ 1578 397 2138 397 \nQ 2388 397 2633 464 \nQ 2878 531 3122 666 \nL 3122 134 \nQ 2881 22 2623 -34 \nQ 2366 -91 2075 -91 \nQ 1284 -91 818 406 \nQ 353 903 353 1747 \nQ 353 2603 823 3093 \nQ 1294 3584 2113 3584 \nQ 2378 3584 2631 3529 \nQ 2884 3475 3122 3366 \nz\n\" transform=\"scale(0.015625)\"/>\n       <path id=\"DejaVuSans-6f\" d=\"M 1959 3097 \nQ 1497 3097 1228 2736 \nQ 959 2375 959 1747 \nQ 959 1119 1226 758 \nQ 1494 397 1959 397 \nQ 2419 397 2687 759 \nQ 2956 1122 2956 1747 \nQ 2956 2369 2687 2733 \nQ 2419 3097 1959 3097 \nz\nM 1959 3584 \nQ 2709 3584 3137 3096 \nQ 3566 2609 3566 1747 \nQ 3566 888 3137 398 \nQ 2709 -91 1959 -91 \nQ 1206 -91 779 398 \nQ 353 888 353 1747 \nQ 353 2609 779 3096 \nQ 1206 3584 1959 3584 \nz\n\" transform=\"scale(0.015625)\"/>\n       <path id=\"DejaVuSans-72\" d=\"M 2631 2963 \nQ 2534 3019 2420 3045 \nQ 2306 3072 2169 3072 \nQ 1681 3072 1420 2755 \nQ 1159 2438 1159 1844 \nL 1159 0 \nL 581 0 \nL 581 3500 \nL 1159 3500 \nL 1159 2956 \nQ 1341 3275 1631 3429 \nQ 1922 3584 2338 3584 \nQ 2397 3584 2469 3576 \nQ 2541 3569 2628 3553 \nL 2631 2963 \nz\n\" transform=\"scale(0.015625)\"/>\n      </defs>\n      <use xlink:href=\"#DejaVuSans-53\"/>\n      <use xlink:href=\"#DejaVuSans-63\" x=\"63.476562\"/>\n      <use xlink:href=\"#DejaVuSans-6f\" x=\"118.457031\"/>\n      <use xlink:href=\"#DejaVuSans-72\" x=\"179.638672\"/>\n      <use xlink:href=\"#DejaVuSans-65\" x=\"218.501953\"/>\n     </g>\n    </g>\n   </g>\n   <g id=\"line2d_17\">\n    <path d=\"M 66.376477 34.414125 \nL 84.412841 57.023471 \nL 102.449205 76.241415 \nL 120.485568 88.676555 \nL 138.521932 105.633564 \nL 156.558295 114.677303 \nL 174.594659 138.417116 \nL 192.631023 158.765527 \nL 210.667386 175.722536 \nL 228.70375 187.027209 \nL 246.740114 201.723284 \nL 264.776477 218.680293 \nL 282.812841 231.115433 \nL 300.849205 241.289639 \nL 318.885568 249.20291 \nL 336.921932 255.985714 \nL 354.958295 267.290387 \nL 372.994659 269.551321 \nL 391.031023 276.334125 \n\" clip-path=\"url(#pd640abd696)\" style=\"fill: none; stroke: #1f77b4; stroke-width: 1.5; stroke-linecap: square\"/>\n   </g>\n   <g id=\"patch_3\">\n    <path d=\"M 50.14375 288.430125 \nL 50.14375 22.318125 \n\" style=\"fill: none; stroke: #000000; stroke-width: 0.8; stroke-linejoin: miter; stroke-linecap: square\"/>\n   </g>\n   <g id=\"patch_4\">\n    <path d=\"M 407.26375 288.430125 \nL 407.26375 22.318125 \n\" style=\"fill: none; stroke: #000000; stroke-width: 0.8; stroke-linejoin: miter; stroke-linecap: square\"/>\n   </g>\n   <g id=\"patch_5\">\n    <path d=\"M 50.14375 288.430125 \nL 407.26375 288.430125 \n\" style=\"fill: none; stroke: #000000; stroke-width: 0.8; stroke-linejoin: miter; stroke-linecap: square\"/>\n   </g>\n   <g id=\"patch_6\">\n    <path d=\"M 50.14375 22.318125 \nL 407.26375 22.318125 \n\" style=\"fill: none; stroke: #000000; stroke-width: 0.8; stroke-linejoin: miter; stroke-linecap: square\"/>\n   </g>\n   <g id=\"text_19\">\n    <!-- Accuracy against score -->\n    <g transform=\"translate(159.266875 16.318125) scale(0.12 -0.12)\">\n     <defs>\n      <path id=\"DejaVuSans-41\" d=\"M 2188 4044 \nL 1331 1722 \nL 3047 1722 \nL 2188 4044 \nz\nM 1831 4666 \nL 2547 4666 \nL 4325 0 \nL 3669 0 \nL 3244 1197 \nL 1141 1197 \nL 716 0 \nL 50 0 \nL 1831 4666 \nz\n\" transform=\"scale(0.015625)\"/>\n      <path id=\"DejaVuSans-79\" d=\"M 2059 -325 \nQ 1816 -950 1584 -1140 \nQ 1353 -1331 966 -1331 \nL 506 -1331 \nL 506 -850 \nL 844 -850 \nQ 1081 -850 1212 -737 \nQ 1344 -625 1503 -206 \nL 1606 56 \nL 191 3500 \nL 800 3500 \nL 1894 763 \nL 2988 3500 \nL 3597 3500 \nL 2059 -325 \nz\n\" transform=\"scale(0.015625)\"/>\n      <path id=\"DejaVuSans-67\" d=\"M 2906 1791 \nQ 2906 2416 2648 2759 \nQ 2391 3103 1925 3103 \nQ 1463 3103 1205 2759 \nQ 947 2416 947 1791 \nQ 947 1169 1205 825 \nQ 1463 481 1925 481 \nQ 2391 481 2648 825 \nQ 2906 1169 2906 1791 \nz\nM 3481 434 \nQ 3481 -459 3084 -895 \nQ 2688 -1331 1869 -1331 \nQ 1566 -1331 1297 -1286 \nQ 1028 -1241 775 -1147 \nL 775 -588 \nQ 1028 -725 1275 -790 \nQ 1522 -856 1778 -856 \nQ 2344 -856 2625 -561 \nQ 2906 -266 2906 331 \nL 2906 616 \nQ 2728 306 2450 153 \nQ 2172 0 1784 0 \nQ 1141 0 747 490 \nQ 353 981 353 1791 \nQ 353 2603 747 3093 \nQ 1141 3584 1784 3584 \nQ 2172 3584 2450 3431 \nQ 2728 3278 2906 2969 \nL 2906 3500 \nL 3481 3500 \nL 3481 434 \nz\n\" transform=\"scale(0.015625)\"/>\n      <path id=\"DejaVuSans-69\" d=\"M 603 3500 \nL 1178 3500 \nL 1178 0 \nL 603 0 \nL 603 3500 \nz\nM 603 4863 \nL 1178 4863 \nL 1178 4134 \nL 603 4134 \nL 603 4863 \nz\n\" transform=\"scale(0.015625)\"/>\n      <path id=\"DejaVuSans-6e\" d=\"M 3513 2113 \nL 3513 0 \nL 2938 0 \nL 2938 2094 \nQ 2938 2591 2744 2837 \nQ 2550 3084 2163 3084 \nQ 1697 3084 1428 2787 \nQ 1159 2491 1159 1978 \nL 1159 0 \nL 581 0 \nL 581 3500 \nL 1159 3500 \nL 1159 2956 \nQ 1366 3272 1645 3428 \nQ 1925 3584 2291 3584 \nQ 2894 3584 3203 3211 \nQ 3513 2838 3513 2113 \nz\n\" transform=\"scale(0.015625)\"/>\n      <path id=\"DejaVuSans-73\" d=\"M 2834 3397 \nL 2834 2853 \nQ 2591 2978 2328 3040 \nQ 2066 3103 1784 3103 \nQ 1356 3103 1142 2972 \nQ 928 2841 928 2578 \nQ 928 2378 1081 2264 \nQ 1234 2150 1697 2047 \nL 1894 2003 \nQ 2506 1872 2764 1633 \nQ 3022 1394 3022 966 \nQ 3022 478 2636 193 \nQ 2250 -91 1575 -91 \nQ 1294 -91 989 -36 \nQ 684 19 347 128 \nL 347 722 \nQ 666 556 975 473 \nQ 1284 391 1588 391 \nQ 1994 391 2212 530 \nQ 2431 669 2431 922 \nQ 2431 1156 2273 1281 \nQ 2116 1406 1581 1522 \nL 1381 1569 \nQ 847 1681 609 1914 \nQ 372 2147 372 2553 \nQ 372 3047 722 3315 \nQ 1072 3584 1716 3584 \nQ 2034 3584 2315 3537 \nQ 2597 3491 2834 3397 \nz\n\" transform=\"scale(0.015625)\"/>\n      <path id=\"DejaVuSans-74\" d=\"M 1172 4494 \nL 1172 3500 \nL 2356 3500 \nL 2356 3053 \nL 1172 3053 \nL 1172 1153 \nQ 1172 725 1289 603 \nQ 1406 481 1766 481 \nL 2356 481 \nL 2356 0 \nL 1766 0 \nQ 1100 0 847 248 \nQ 594 497 594 1153 \nL 594 3053 \nL 172 3053 \nL 172 3500 \nL 594 3500 \nL 594 4494 \nL 1172 4494 \nz\n\" transform=\"scale(0.015625)\"/>\n     </defs>\n     <use xlink:href=\"#DejaVuSans-41\"/>\n     <use xlink:href=\"#DejaVuSans-63\" x=\"66.658203\"/>\n     <use xlink:href=\"#DejaVuSans-63\" x=\"121.638672\"/>\n     <use xlink:href=\"#DejaVuSans-75\" x=\"176.619141\"/>\n     <use xlink:href=\"#DejaVuSans-72\" x=\"239.998047\"/>\n     <use xlink:href=\"#DejaVuSans-61\" x=\"281.111328\"/>\n     <use xlink:href=\"#DejaVuSans-63\" x=\"342.390625\"/>\n     <use xlink:href=\"#DejaVuSans-79\" x=\"397.371094\"/>\n     <use xlink:href=\"#DejaVuSans-20\" x=\"456.550781\"/>\n     <use xlink:href=\"#DejaVuSans-61\" x=\"488.337891\"/>\n     <use xlink:href=\"#DejaVuSans-67\" x=\"549.617188\"/>\n     <use xlink:href=\"#DejaVuSans-61\" x=\"613.09375\"/>\n     <use xlink:href=\"#DejaVuSans-69\" x=\"674.373047\"/>\n     <use xlink:href=\"#DejaVuSans-6e\" x=\"702.15625\"/>\n     <use xlink:href=\"#DejaVuSans-73\" x=\"765.535156\"/>\n     <use xlink:href=\"#DejaVuSans-74\" x=\"817.634766\"/>\n     <use xlink:href=\"#DejaVuSans-20\" x=\"856.84375\"/>\n     <use xlink:href=\"#DejaVuSans-73\" x=\"888.630859\"/>\n     <use xlink:href=\"#DejaVuSans-63\" x=\"940.730469\"/>\n     <use xlink:href=\"#DejaVuSans-6f\" x=\"995.710938\"/>\n     <use xlink:href=\"#DejaVuSans-72\" x=\"1056.892578\"/>\n     <use xlink:href=\"#DejaVuSans-65\" x=\"1095.755859\"/>\n    </g>\n   </g>\n  </g>\n </g>\n <defs>\n  <clipPath id=\"pd640abd696\">\n   <rect x=\"50.14375\" y=\"22.318125\" width=\"357.12\" height=\"266.112\"/>\n  </clipPath>\n </defs>\n</svg>\n"
     },
     "metadata": {},
     "output_type": "display_data"
    }
   ],
   "source": [
    "score=[]\n",
    "alphaVal =[]\n",
    "for a in arange(0.1,2,0.1):\n",
    "    mmodel_tf = naive_bayes.MultinomialNB(alpha=a)\n",
    "    mmodel_tf.fit(trainXtf,trainY)\n",
    "\n",
    "    predYtf = mmodel_tf.predict(testXtf)\n",
    "    accuracy = metrics.accuracy_score(predYtf,testY)\n",
    "    score.append(accuracy)\n",
    "    alphaVal.append(a)\n",
    "\n",
    "plt.title(\"Accuracy against score\")\n",
    "plt.plot(alphaVal,score)\n",
    "plt.xlabel(\"alpha Value\")\n",
    "plt.ylabel(\"Score\")\n",
    "plt.show()"
   ]
  },
  {
   "cell_type": "markdown",
   "metadata": {},
   "source": [
    "### 5. Effect of vocabulary size\n",
    "The vocabulary size also affects the accuracy.  Make another plot of accuracy versus vocabulary size.  Which vocabulary size yields the best result?"
   ]
  },
  {
   "cell_type": "code",
   "execution_count": 69,
   "metadata": {
    "ExecuteTime": {
     "end_time": "2023-09-13T03:00:19.674630Z",
     "start_time": "2023-09-13T03:00:19.673043600Z"
    }
   },
   "outputs": [],
   "source": [
    "### INSERT YOUR CODE HERE"
   ]
  },
  {
   "cell_type": "code",
   "execution_count": 29,
   "metadata": {
    "ExecuteTime": {
     "end_time": "2023-09-15T04:02:04.596918400Z",
     "start_time": "2023-09-15T04:01:48.240158700Z"
    }
   },
   "outputs": [
    {
     "data": {
      "text/plain": "<Figure size 640x480 with 1 Axes>",
      "image/svg+xml": "<?xml version=\"1.0\" encoding=\"utf-8\" standalone=\"no\"?>\n<!DOCTYPE svg PUBLIC \"-//W3C//DTD SVG 1.1//EN\"\n  \"http://www.w3.org/Graphics/SVG/1.1/DTD/svg11.dtd\">\n<svg xmlns:xlink=\"http://www.w3.org/1999/xlink\" width=\"417.719659pt\" height=\"325.986375pt\" viewBox=\"0 0 417.719659 325.986375\" xmlns=\"http://www.w3.org/2000/svg\" version=\"1.1\">\n <metadata>\n  <rdf:RDF xmlns:dc=\"http://purl.org/dc/elements/1.1/\" xmlns:cc=\"http://creativecommons.org/ns#\" xmlns:rdf=\"http://www.w3.org/1999/02/22-rdf-syntax-ns#\">\n   <cc:Work>\n    <dc:type rdf:resource=\"http://purl.org/dc/dcmitype/StillImage\"/>\n    <dc:date>2023-09-15T12:02:04.565040</dc:date>\n    <dc:format>image/svg+xml</dc:format>\n    <dc:creator>\n     <cc:Agent>\n      <dc:title>Matplotlib v3.7.1, https://matplotlib.org/</dc:title>\n     </cc:Agent>\n    </dc:creator>\n   </cc:Work>\n  </rdf:RDF>\n </metadata>\n <defs>\n  <style type=\"text/css\">*{stroke-linejoin: round; stroke-linecap: butt}</style>\n </defs>\n <g id=\"figure_1\">\n  <g id=\"patch_1\">\n   <path d=\"M 0 325.986375 \nL 417.719659 325.986375 \nL 417.719659 0 \nL 0 0 \nz\n\" style=\"fill: #ffffff\"/>\n  </g>\n  <g id=\"axes_1\">\n   <g id=\"patch_2\">\n    <path d=\"M 50.14375 288.430125 \nL 407.26375 288.430125 \nL 407.26375 22.318125 \nL 50.14375 22.318125 \nz\n\" style=\"fill: #ffffff\"/>\n   </g>\n   <g id=\"matplotlib.axis_1\">\n    <g id=\"xtick_1\">\n     <g id=\"line2d_1\">\n      <defs>\n       <path id=\"ma140a775c9\" d=\"M 0 0 \nL 0 3.5 \n\" style=\"stroke: #000000; stroke-width: 0.8\"/>\n      </defs>\n      <g>\n       <use xlink:href=\"#ma140a775c9\" x=\"59.612841\" y=\"288.430125\" style=\"stroke: #000000; stroke-width: 0.8\"/>\n      </g>\n     </g>\n     <g id=\"text_1\">\n      <!-- 0 -->\n      <g transform=\"translate(56.431591 303.028562) scale(0.1 -0.1)\">\n       <defs>\n        <path id=\"DejaVuSans-30\" d=\"M 2034 4250 \nQ 1547 4250 1301 3770 \nQ 1056 3291 1056 2328 \nQ 1056 1369 1301 889 \nQ 1547 409 2034 409 \nQ 2525 409 2770 889 \nQ 3016 1369 3016 2328 \nQ 3016 3291 2770 3770 \nQ 2525 4250 2034 4250 \nz\nM 2034 4750 \nQ 2819 4750 3233 4129 \nQ 3647 3509 3647 2328 \nQ 3647 1150 3233 529 \nQ 2819 -91 2034 -91 \nQ 1250 -91 836 529 \nQ 422 1150 422 2328 \nQ 422 3509 836 4129 \nQ 1250 4750 2034 4750 \nz\n\" transform=\"scale(0.015625)\"/>\n       </defs>\n       <use xlink:href=\"#DejaVuSans-30\"/>\n      </g>\n     </g>\n    </g>\n    <g id=\"xtick_2\">\n     <g id=\"line2d_2\">\n      <g>\n       <use xlink:href=\"#ma140a775c9\" x=\"127.249205\" y=\"288.430125\" style=\"stroke: #000000; stroke-width: 0.8\"/>\n      </g>\n     </g>\n     <g id=\"text_2\">\n      <!-- 1000 -->\n      <g transform=\"translate(114.524205 303.028562) scale(0.1 -0.1)\">\n       <defs>\n        <path id=\"DejaVuSans-31\" d=\"M 794 531 \nL 1825 531 \nL 1825 4091 \nL 703 3866 \nL 703 4441 \nL 1819 4666 \nL 2450 4666 \nL 2450 531 \nL 3481 531 \nL 3481 0 \nL 794 0 \nL 794 531 \nz\n\" transform=\"scale(0.015625)\"/>\n       </defs>\n       <use xlink:href=\"#DejaVuSans-31\"/>\n       <use xlink:href=\"#DejaVuSans-30\" x=\"63.623047\"/>\n       <use xlink:href=\"#DejaVuSans-30\" x=\"127.246094\"/>\n       <use xlink:href=\"#DejaVuSans-30\" x=\"190.869141\"/>\n      </g>\n     </g>\n    </g>\n    <g id=\"xtick_3\">\n     <g id=\"line2d_3\">\n      <g>\n       <use xlink:href=\"#ma140a775c9\" x=\"194.885568\" y=\"288.430125\" style=\"stroke: #000000; stroke-width: 0.8\"/>\n      </g>\n     </g>\n     <g id=\"text_3\">\n      <!-- 2000 -->\n      <g transform=\"translate(182.160568 303.028562) scale(0.1 -0.1)\">\n       <defs>\n        <path id=\"DejaVuSans-32\" d=\"M 1228 531 \nL 3431 531 \nL 3431 0 \nL 469 0 \nL 469 531 \nQ 828 903 1448 1529 \nQ 2069 2156 2228 2338 \nQ 2531 2678 2651 2914 \nQ 2772 3150 2772 3378 \nQ 2772 3750 2511 3984 \nQ 2250 4219 1831 4219 \nQ 1534 4219 1204 4116 \nQ 875 4013 500 3803 \nL 500 4441 \nQ 881 4594 1212 4672 \nQ 1544 4750 1819 4750 \nQ 2544 4750 2975 4387 \nQ 3406 4025 3406 3419 \nQ 3406 3131 3298 2873 \nQ 3191 2616 2906 2266 \nQ 2828 2175 2409 1742 \nQ 1991 1309 1228 531 \nz\n\" transform=\"scale(0.015625)\"/>\n       </defs>\n       <use xlink:href=\"#DejaVuSans-32\"/>\n       <use xlink:href=\"#DejaVuSans-30\" x=\"63.623047\"/>\n       <use xlink:href=\"#DejaVuSans-30\" x=\"127.246094\"/>\n       <use xlink:href=\"#DejaVuSans-30\" x=\"190.869141\"/>\n      </g>\n     </g>\n    </g>\n    <g id=\"xtick_4\">\n     <g id=\"line2d_4\">\n      <g>\n       <use xlink:href=\"#ma140a775c9\" x=\"262.521932\" y=\"288.430125\" style=\"stroke: #000000; stroke-width: 0.8\"/>\n      </g>\n     </g>\n     <g id=\"text_4\">\n      <!-- 3000 -->\n      <g transform=\"translate(249.796932 303.028562) scale(0.1 -0.1)\">\n       <defs>\n        <path id=\"DejaVuSans-33\" d=\"M 2597 2516 \nQ 3050 2419 3304 2112 \nQ 3559 1806 3559 1356 \nQ 3559 666 3084 287 \nQ 2609 -91 1734 -91 \nQ 1441 -91 1130 -33 \nQ 819 25 488 141 \nL 488 750 \nQ 750 597 1062 519 \nQ 1375 441 1716 441 \nQ 2309 441 2620 675 \nQ 2931 909 2931 1356 \nQ 2931 1769 2642 2001 \nQ 2353 2234 1838 2234 \nL 1294 2234 \nL 1294 2753 \nL 1863 2753 \nQ 2328 2753 2575 2939 \nQ 2822 3125 2822 3475 \nQ 2822 3834 2567 4026 \nQ 2313 4219 1838 4219 \nQ 1578 4219 1281 4162 \nQ 984 4106 628 3988 \nL 628 4550 \nQ 988 4650 1302 4700 \nQ 1616 4750 1894 4750 \nQ 2613 4750 3031 4423 \nQ 3450 4097 3450 3541 \nQ 3450 3153 3228 2886 \nQ 3006 2619 2597 2516 \nz\n\" transform=\"scale(0.015625)\"/>\n       </defs>\n       <use xlink:href=\"#DejaVuSans-33\"/>\n       <use xlink:href=\"#DejaVuSans-30\" x=\"63.623047\"/>\n       <use xlink:href=\"#DejaVuSans-30\" x=\"127.246094\"/>\n       <use xlink:href=\"#DejaVuSans-30\" x=\"190.869141\"/>\n      </g>\n     </g>\n    </g>\n    <g id=\"xtick_5\">\n     <g id=\"line2d_5\">\n      <g>\n       <use xlink:href=\"#ma140a775c9\" x=\"330.158295\" y=\"288.430125\" style=\"stroke: #000000; stroke-width: 0.8\"/>\n      </g>\n     </g>\n     <g id=\"text_5\">\n      <!-- 4000 -->\n      <g transform=\"translate(317.433295 303.028562) scale(0.1 -0.1)\">\n       <defs>\n        <path id=\"DejaVuSans-34\" d=\"M 2419 4116 \nL 825 1625 \nL 2419 1625 \nL 2419 4116 \nz\nM 2253 4666 \nL 3047 4666 \nL 3047 1625 \nL 3713 1625 \nL 3713 1100 \nL 3047 1100 \nL 3047 0 \nL 2419 0 \nL 2419 1100 \nL 313 1100 \nL 313 1709 \nL 2253 4666 \nz\n\" transform=\"scale(0.015625)\"/>\n       </defs>\n       <use xlink:href=\"#DejaVuSans-34\"/>\n       <use xlink:href=\"#DejaVuSans-30\" x=\"63.623047\"/>\n       <use xlink:href=\"#DejaVuSans-30\" x=\"127.246094\"/>\n       <use xlink:href=\"#DejaVuSans-30\" x=\"190.869141\"/>\n      </g>\n     </g>\n    </g>\n    <g id=\"xtick_6\">\n     <g id=\"line2d_6\">\n      <g>\n       <use xlink:href=\"#ma140a775c9\" x=\"397.794659\" y=\"288.430125\" style=\"stroke: #000000; stroke-width: 0.8\"/>\n      </g>\n     </g>\n     <g id=\"text_6\">\n      <!-- 5000 -->\n      <g transform=\"translate(385.069659 303.028562) scale(0.1 -0.1)\">\n       <defs>\n        <path id=\"DejaVuSans-35\" d=\"M 691 4666 \nL 3169 4666 \nL 3169 4134 \nL 1269 4134 \nL 1269 2991 \nQ 1406 3038 1543 3061 \nQ 1681 3084 1819 3084 \nQ 2600 3084 3056 2656 \nQ 3513 2228 3513 1497 \nQ 3513 744 3044 326 \nQ 2575 -91 1722 -91 \nQ 1428 -91 1123 -41 \nQ 819 9 494 109 \nL 494 744 \nQ 775 591 1075 516 \nQ 1375 441 1709 441 \nQ 2250 441 2565 725 \nQ 2881 1009 2881 1497 \nQ 2881 1984 2565 2268 \nQ 2250 2553 1709 2553 \nQ 1456 2553 1204 2497 \nQ 953 2441 691 2322 \nL 691 4666 \nz\n\" transform=\"scale(0.015625)\"/>\n       </defs>\n       <use xlink:href=\"#DejaVuSans-35\"/>\n       <use xlink:href=\"#DejaVuSans-30\" x=\"63.623047\"/>\n       <use xlink:href=\"#DejaVuSans-30\" x=\"127.246094\"/>\n       <use xlink:href=\"#DejaVuSans-30\" x=\"190.869141\"/>\n      </g>\n     </g>\n    </g>\n    <g id=\"text_7\">\n     <!-- alpha Value -->\n     <g transform=\"translate(199.523281 316.706687) scale(0.1 -0.1)\">\n      <defs>\n       <path id=\"DejaVuSans-61\" d=\"M 2194 1759 \nQ 1497 1759 1228 1600 \nQ 959 1441 959 1056 \nQ 959 750 1161 570 \nQ 1363 391 1709 391 \nQ 2188 391 2477 730 \nQ 2766 1069 2766 1631 \nL 2766 1759 \nL 2194 1759 \nz\nM 3341 1997 \nL 3341 0 \nL 2766 0 \nL 2766 531 \nQ 2569 213 2275 61 \nQ 1981 -91 1556 -91 \nQ 1019 -91 701 211 \nQ 384 513 384 1019 \nQ 384 1609 779 1909 \nQ 1175 2209 1959 2209 \nL 2766 2209 \nL 2766 2266 \nQ 2766 2663 2505 2880 \nQ 2244 3097 1772 3097 \nQ 1472 3097 1187 3025 \nQ 903 2953 641 2809 \nL 641 3341 \nQ 956 3463 1253 3523 \nQ 1550 3584 1831 3584 \nQ 2591 3584 2966 3190 \nQ 3341 2797 3341 1997 \nz\n\" transform=\"scale(0.015625)\"/>\n       <path id=\"DejaVuSans-6c\" d=\"M 603 4863 \nL 1178 4863 \nL 1178 0 \nL 603 0 \nL 603 4863 \nz\n\" transform=\"scale(0.015625)\"/>\n       <path id=\"DejaVuSans-70\" d=\"M 1159 525 \nL 1159 -1331 \nL 581 -1331 \nL 581 3500 \nL 1159 3500 \nL 1159 2969 \nQ 1341 3281 1617 3432 \nQ 1894 3584 2278 3584 \nQ 2916 3584 3314 3078 \nQ 3713 2572 3713 1747 \nQ 3713 922 3314 415 \nQ 2916 -91 2278 -91 \nQ 1894 -91 1617 61 \nQ 1341 213 1159 525 \nz\nM 3116 1747 \nQ 3116 2381 2855 2742 \nQ 2594 3103 2138 3103 \nQ 1681 3103 1420 2742 \nQ 1159 2381 1159 1747 \nQ 1159 1113 1420 752 \nQ 1681 391 2138 391 \nQ 2594 391 2855 752 \nQ 3116 1113 3116 1747 \nz\n\" transform=\"scale(0.015625)\"/>\n       <path id=\"DejaVuSans-68\" d=\"M 3513 2113 \nL 3513 0 \nL 2938 0 \nL 2938 2094 \nQ 2938 2591 2744 2837 \nQ 2550 3084 2163 3084 \nQ 1697 3084 1428 2787 \nQ 1159 2491 1159 1978 \nL 1159 0 \nL 581 0 \nL 581 4863 \nL 1159 4863 \nL 1159 2956 \nQ 1366 3272 1645 3428 \nQ 1925 3584 2291 3584 \nQ 2894 3584 3203 3211 \nQ 3513 2838 3513 2113 \nz\n\" transform=\"scale(0.015625)\"/>\n       <path id=\"DejaVuSans-20\" transform=\"scale(0.015625)\"/>\n       <path id=\"DejaVuSans-56\" d=\"M 1831 0 \nL 50 4666 \nL 709 4666 \nL 2188 738 \nL 3669 4666 \nL 4325 4666 \nL 2547 0 \nL 1831 0 \nz\n\" transform=\"scale(0.015625)\"/>\n       <path id=\"DejaVuSans-75\" d=\"M 544 1381 \nL 544 3500 \nL 1119 3500 \nL 1119 1403 \nQ 1119 906 1312 657 \nQ 1506 409 1894 409 \nQ 2359 409 2629 706 \nQ 2900 1003 2900 1516 \nL 2900 3500 \nL 3475 3500 \nL 3475 0 \nL 2900 0 \nL 2900 538 \nQ 2691 219 2414 64 \nQ 2138 -91 1772 -91 \nQ 1169 -91 856 284 \nQ 544 659 544 1381 \nz\nM 1991 3584 \nL 1991 3584 \nz\n\" transform=\"scale(0.015625)\"/>\n       <path id=\"DejaVuSans-65\" d=\"M 3597 1894 \nL 3597 1613 \nL 953 1613 \nQ 991 1019 1311 708 \nQ 1631 397 2203 397 \nQ 2534 397 2845 478 \nQ 3156 559 3463 722 \nL 3463 178 \nQ 3153 47 2828 -22 \nQ 2503 -91 2169 -91 \nQ 1331 -91 842 396 \nQ 353 884 353 1716 \nQ 353 2575 817 3079 \nQ 1281 3584 2069 3584 \nQ 2775 3584 3186 3129 \nQ 3597 2675 3597 1894 \nz\nM 3022 2063 \nQ 3016 2534 2758 2815 \nQ 2500 3097 2075 3097 \nQ 1594 3097 1305 2825 \nQ 1016 2553 972 2059 \nL 3022 2063 \nz\n\" transform=\"scale(0.015625)\"/>\n      </defs>\n      <use xlink:href=\"#DejaVuSans-61\"/>\n      <use xlink:href=\"#DejaVuSans-6c\" x=\"61.279297\"/>\n      <use xlink:href=\"#DejaVuSans-70\" x=\"89.0625\"/>\n      <use xlink:href=\"#DejaVuSans-68\" x=\"152.539062\"/>\n      <use xlink:href=\"#DejaVuSans-61\" x=\"215.917969\"/>\n      <use xlink:href=\"#DejaVuSans-20\" x=\"277.197266\"/>\n      <use xlink:href=\"#DejaVuSans-56\" x=\"308.984375\"/>\n      <use xlink:href=\"#DejaVuSans-61\" x=\"369.642578\"/>\n      <use xlink:href=\"#DejaVuSans-6c\" x=\"430.921875\"/>\n      <use xlink:href=\"#DejaVuSans-75\" x=\"458.705078\"/>\n      <use xlink:href=\"#DejaVuSans-65\" x=\"522.083984\"/>\n     </g>\n    </g>\n   </g>\n   <g id=\"matplotlib.axis_2\">\n    <g id=\"ytick_1\">\n     <g id=\"line2d_7\">\n      <defs>\n       <path id=\"mcaffeb4778\" d=\"M 0 0 \nL -3.5 0 \n\" style=\"stroke: #000000; stroke-width: 0.8\"/>\n      </defs>\n      <g>\n       <use xlink:href=\"#mcaffeb4778\" x=\"50.14375\" y=\"268.486972\" style=\"stroke: #000000; stroke-width: 0.8\"/>\n      </g>\n     </g>\n     <g id=\"text_8\">\n      <!-- 0.62 -->\n      <g transform=\"translate(20.878125 272.286191) scale(0.1 -0.1)\">\n       <defs>\n        <path id=\"DejaVuSans-2e\" d=\"M 684 794 \nL 1344 794 \nL 1344 0 \nL 684 0 \nL 684 794 \nz\n\" transform=\"scale(0.015625)\"/>\n        <path id=\"DejaVuSans-36\" d=\"M 2113 2584 \nQ 1688 2584 1439 2293 \nQ 1191 2003 1191 1497 \nQ 1191 994 1439 701 \nQ 1688 409 2113 409 \nQ 2538 409 2786 701 \nQ 3034 994 3034 1497 \nQ 3034 2003 2786 2293 \nQ 2538 2584 2113 2584 \nz\nM 3366 4563 \nL 3366 3988 \nQ 3128 4100 2886 4159 \nQ 2644 4219 2406 4219 \nQ 1781 4219 1451 3797 \nQ 1122 3375 1075 2522 \nQ 1259 2794 1537 2939 \nQ 1816 3084 2150 3084 \nQ 2853 3084 3261 2657 \nQ 3669 2231 3669 1497 \nQ 3669 778 3244 343 \nQ 2819 -91 2113 -91 \nQ 1303 -91 875 529 \nQ 447 1150 447 2328 \nQ 447 3434 972 4092 \nQ 1497 4750 2381 4750 \nQ 2619 4750 2861 4703 \nQ 3103 4656 3366 4563 \nz\n\" transform=\"scale(0.015625)\"/>\n       </defs>\n       <use xlink:href=\"#DejaVuSans-30\"/>\n       <use xlink:href=\"#DejaVuSans-2e\" x=\"63.623047\"/>\n       <use xlink:href=\"#DejaVuSans-36\" x=\"95.410156\"/>\n       <use xlink:href=\"#DejaVuSans-32\" x=\"159.033203\"/>\n      </g>\n     </g>\n    </g>\n    <g id=\"ytick_2\">\n     <g id=\"line2d_8\">\n      <g>\n       <use xlink:href=\"#mcaffeb4778\" x=\"50.14375\" y=\"213.475584\" style=\"stroke: #000000; stroke-width: 0.8\"/>\n      </g>\n     </g>\n     <g id=\"text_9\">\n      <!-- 0.64 -->\n      <g transform=\"translate(20.878125 217.274803) scale(0.1 -0.1)\">\n       <use xlink:href=\"#DejaVuSans-30\"/>\n       <use xlink:href=\"#DejaVuSans-2e\" x=\"63.623047\"/>\n       <use xlink:href=\"#DejaVuSans-36\" x=\"95.410156\"/>\n       <use xlink:href=\"#DejaVuSans-34\" x=\"159.033203\"/>\n      </g>\n     </g>\n    </g>\n    <g id=\"ytick_3\">\n     <g id=\"line2d_9\">\n      <g>\n       <use xlink:href=\"#mcaffeb4778\" x=\"50.14375\" y=\"158.464196\" style=\"stroke: #000000; stroke-width: 0.8\"/>\n      </g>\n     </g>\n     <g id=\"text_10\">\n      <!-- 0.66 -->\n      <g transform=\"translate(20.878125 162.263414) scale(0.1 -0.1)\">\n       <use xlink:href=\"#DejaVuSans-30\"/>\n       <use xlink:href=\"#DejaVuSans-2e\" x=\"63.623047\"/>\n       <use xlink:href=\"#DejaVuSans-36\" x=\"95.410156\"/>\n       <use xlink:href=\"#DejaVuSans-36\" x=\"159.033203\"/>\n      </g>\n     </g>\n    </g>\n    <g id=\"ytick_4\">\n     <g id=\"line2d_10\">\n      <g>\n       <use xlink:href=\"#mcaffeb4778\" x=\"50.14375\" y=\"103.452807\" style=\"stroke: #000000; stroke-width: 0.8\"/>\n      </g>\n     </g>\n     <g id=\"text_11\">\n      <!-- 0.68 -->\n      <g transform=\"translate(20.878125 107.252026) scale(0.1 -0.1)\">\n       <defs>\n        <path id=\"DejaVuSans-38\" d=\"M 2034 2216 \nQ 1584 2216 1326 1975 \nQ 1069 1734 1069 1313 \nQ 1069 891 1326 650 \nQ 1584 409 2034 409 \nQ 2484 409 2743 651 \nQ 3003 894 3003 1313 \nQ 3003 1734 2745 1975 \nQ 2488 2216 2034 2216 \nz\nM 1403 2484 \nQ 997 2584 770 2862 \nQ 544 3141 544 3541 \nQ 544 4100 942 4425 \nQ 1341 4750 2034 4750 \nQ 2731 4750 3128 4425 \nQ 3525 4100 3525 3541 \nQ 3525 3141 3298 2862 \nQ 3072 2584 2669 2484 \nQ 3125 2378 3379 2068 \nQ 3634 1759 3634 1313 \nQ 3634 634 3220 271 \nQ 2806 -91 2034 -91 \nQ 1263 -91 848 271 \nQ 434 634 434 1313 \nQ 434 1759 690 2068 \nQ 947 2378 1403 2484 \nz\nM 1172 3481 \nQ 1172 3119 1398 2916 \nQ 1625 2713 2034 2713 \nQ 2441 2713 2670 2916 \nQ 2900 3119 2900 3481 \nQ 2900 3844 2670 4047 \nQ 2441 4250 2034 4250 \nQ 1625 4250 1398 4047 \nQ 1172 3844 1172 3481 \nz\n\" transform=\"scale(0.015625)\"/>\n       </defs>\n       <use xlink:href=\"#DejaVuSans-30\"/>\n       <use xlink:href=\"#DejaVuSans-2e\" x=\"63.623047\"/>\n       <use xlink:href=\"#DejaVuSans-36\" x=\"95.410156\"/>\n       <use xlink:href=\"#DejaVuSans-38\" x=\"159.033203\"/>\n      </g>\n     </g>\n    </g>\n    <g id=\"ytick_5\">\n     <g id=\"line2d_11\">\n      <g>\n       <use xlink:href=\"#mcaffeb4778\" x=\"50.14375\" y=\"48.441419\" style=\"stroke: #000000; stroke-width: 0.8\"/>\n      </g>\n     </g>\n     <g id=\"text_12\">\n      <!-- 0.70 -->\n      <g transform=\"translate(20.878125 52.240638) scale(0.1 -0.1)\">\n       <defs>\n        <path id=\"DejaVuSans-37\" d=\"M 525 4666 \nL 3525 4666 \nL 3525 4397 \nL 1831 0 \nL 1172 0 \nL 2766 4134 \nL 525 4134 \nL 525 4666 \nz\n\" transform=\"scale(0.015625)\"/>\n       </defs>\n       <use xlink:href=\"#DejaVuSans-30\"/>\n       <use xlink:href=\"#DejaVuSans-2e\" x=\"63.623047\"/>\n       <use xlink:href=\"#DejaVuSans-37\" x=\"95.410156\"/>\n       <use xlink:href=\"#DejaVuSans-30\" x=\"159.033203\"/>\n      </g>\n     </g>\n    </g>\n    <g id=\"text_13\">\n     <!-- Score -->\n     <g transform=\"translate(14.798438 169.376469) rotate(-90) scale(0.1 -0.1)\">\n      <defs>\n       <path id=\"DejaVuSans-53\" d=\"M 3425 4513 \nL 3425 3897 \nQ 3066 4069 2747 4153 \nQ 2428 4238 2131 4238 \nQ 1616 4238 1336 4038 \nQ 1056 3838 1056 3469 \nQ 1056 3159 1242 3001 \nQ 1428 2844 1947 2747 \nL 2328 2669 \nQ 3034 2534 3370 2195 \nQ 3706 1856 3706 1288 \nQ 3706 609 3251 259 \nQ 2797 -91 1919 -91 \nQ 1588 -91 1214 -16 \nQ 841 59 441 206 \nL 441 856 \nQ 825 641 1194 531 \nQ 1563 422 1919 422 \nQ 2459 422 2753 634 \nQ 3047 847 3047 1241 \nQ 3047 1584 2836 1778 \nQ 2625 1972 2144 2069 \nL 1759 2144 \nQ 1053 2284 737 2584 \nQ 422 2884 422 3419 \nQ 422 4038 858 4394 \nQ 1294 4750 2059 4750 \nQ 2388 4750 2728 4690 \nQ 3069 4631 3425 4513 \nz\n\" transform=\"scale(0.015625)\"/>\n       <path id=\"DejaVuSans-63\" d=\"M 3122 3366 \nL 3122 2828 \nQ 2878 2963 2633 3030 \nQ 2388 3097 2138 3097 \nQ 1578 3097 1268 2742 \nQ 959 2388 959 1747 \nQ 959 1106 1268 751 \nQ 1578 397 2138 397 \nQ 2388 397 2633 464 \nQ 2878 531 3122 666 \nL 3122 134 \nQ 2881 22 2623 -34 \nQ 2366 -91 2075 -91 \nQ 1284 -91 818 406 \nQ 353 903 353 1747 \nQ 353 2603 823 3093 \nQ 1294 3584 2113 3584 \nQ 2378 3584 2631 3529 \nQ 2884 3475 3122 3366 \nz\n\" transform=\"scale(0.015625)\"/>\n       <path id=\"DejaVuSans-6f\" d=\"M 1959 3097 \nQ 1497 3097 1228 2736 \nQ 959 2375 959 1747 \nQ 959 1119 1226 758 \nQ 1494 397 1959 397 \nQ 2419 397 2687 759 \nQ 2956 1122 2956 1747 \nQ 2956 2369 2687 2733 \nQ 2419 3097 1959 3097 \nz\nM 1959 3584 \nQ 2709 3584 3137 3096 \nQ 3566 2609 3566 1747 \nQ 3566 888 3137 398 \nQ 2709 -91 1959 -91 \nQ 1206 -91 779 398 \nQ 353 888 353 1747 \nQ 353 2609 779 3096 \nQ 1206 3584 1959 3584 \nz\n\" transform=\"scale(0.015625)\"/>\n       <path id=\"DejaVuSans-72\" d=\"M 2631 2963 \nQ 2534 3019 2420 3045 \nQ 2306 3072 2169 3072 \nQ 1681 3072 1420 2755 \nQ 1159 2438 1159 1844 \nL 1159 0 \nL 581 0 \nL 581 3500 \nL 1159 3500 \nL 1159 2956 \nQ 1341 3275 1631 3429 \nQ 1922 3584 2338 3584 \nQ 2397 3584 2469 3576 \nQ 2541 3569 2628 3553 \nL 2631 2963 \nz\n\" transform=\"scale(0.015625)\"/>\n      </defs>\n      <use xlink:href=\"#DejaVuSans-53\"/>\n      <use xlink:href=\"#DejaVuSans-63\" x=\"63.476562\"/>\n      <use xlink:href=\"#DejaVuSans-6f\" x=\"118.457031\"/>\n      <use xlink:href=\"#DejaVuSans-72\" x=\"179.638672\"/>\n      <use xlink:href=\"#DejaVuSans-65\" x=\"218.501953\"/>\n     </g>\n    </g>\n   </g>\n   <g id=\"line2d_12\">\n    <path d=\"M 66.376477 276.334125 \nL 79.90375 123.863537 \nL 93.431023 119.797654 \nL 106.958295 77.10589 \nL 120.485568 73.040007 \nL 134.012841 73.040007 \nL 147.540114 54.743537 \nL 161.067386 60.84236 \nL 174.594659 46.611772 \nL 188.121932 36.447066 \nL 201.649205 44.578831 \nL 215.176477 40.512949 \nL 228.70375 38.480007 \nL 242.231023 42.54589 \nL 255.758295 38.480007 \nL 269.285568 42.54589 \nL 282.812841 56.776478 \nL 296.340114 52.710596 \nL 309.867386 56.776478 \nL 323.394659 52.710596 \nL 336.921932 56.776478 \nL 350.449205 42.54589 \nL 363.976477 38.480007 \nL 377.50375 34.414125 \nL 391.031023 34.414125 \n\" clip-path=\"url(#p011bbeca9d)\" style=\"fill: none; stroke: #1f77b4; stroke-width: 1.5; stroke-linecap: square\"/>\n   </g>\n   <g id=\"patch_3\">\n    <path d=\"M 50.14375 288.430125 \nL 50.14375 22.318125 \n\" style=\"fill: none; stroke: #000000; stroke-width: 0.8; stroke-linejoin: miter; stroke-linecap: square\"/>\n   </g>\n   <g id=\"patch_4\">\n    <path d=\"M 407.26375 288.430125 \nL 407.26375 22.318125 \n\" style=\"fill: none; stroke: #000000; stroke-width: 0.8; stroke-linejoin: miter; stroke-linecap: square\"/>\n   </g>\n   <g id=\"patch_5\">\n    <path d=\"M 50.14375 288.430125 \nL 407.26375 288.430125 \n\" style=\"fill: none; stroke: #000000; stroke-width: 0.8; stroke-linejoin: miter; stroke-linecap: square\"/>\n   </g>\n   <g id=\"patch_6\">\n    <path d=\"M 50.14375 22.318125 \nL 407.26375 22.318125 \n\" style=\"fill: none; stroke: #000000; stroke-width: 0.8; stroke-linejoin: miter; stroke-linecap: square\"/>\n   </g>\n   <g id=\"text_14\">\n    <!-- Accuracy against feature size -->\n    <g transform=\"translate(140.186875 16.318125) scale(0.12 -0.12)\">\n     <defs>\n      <path id=\"DejaVuSans-41\" d=\"M 2188 4044 \nL 1331 1722 \nL 3047 1722 \nL 2188 4044 \nz\nM 1831 4666 \nL 2547 4666 \nL 4325 0 \nL 3669 0 \nL 3244 1197 \nL 1141 1197 \nL 716 0 \nL 50 0 \nL 1831 4666 \nz\n\" transform=\"scale(0.015625)\"/>\n      <path id=\"DejaVuSans-79\" d=\"M 2059 -325 \nQ 1816 -950 1584 -1140 \nQ 1353 -1331 966 -1331 \nL 506 -1331 \nL 506 -850 \nL 844 -850 \nQ 1081 -850 1212 -737 \nQ 1344 -625 1503 -206 \nL 1606 56 \nL 191 3500 \nL 800 3500 \nL 1894 763 \nL 2988 3500 \nL 3597 3500 \nL 2059 -325 \nz\n\" transform=\"scale(0.015625)\"/>\n      <path id=\"DejaVuSans-67\" d=\"M 2906 1791 \nQ 2906 2416 2648 2759 \nQ 2391 3103 1925 3103 \nQ 1463 3103 1205 2759 \nQ 947 2416 947 1791 \nQ 947 1169 1205 825 \nQ 1463 481 1925 481 \nQ 2391 481 2648 825 \nQ 2906 1169 2906 1791 \nz\nM 3481 434 \nQ 3481 -459 3084 -895 \nQ 2688 -1331 1869 -1331 \nQ 1566 -1331 1297 -1286 \nQ 1028 -1241 775 -1147 \nL 775 -588 \nQ 1028 -725 1275 -790 \nQ 1522 -856 1778 -856 \nQ 2344 -856 2625 -561 \nQ 2906 -266 2906 331 \nL 2906 616 \nQ 2728 306 2450 153 \nQ 2172 0 1784 0 \nQ 1141 0 747 490 \nQ 353 981 353 1791 \nQ 353 2603 747 3093 \nQ 1141 3584 1784 3584 \nQ 2172 3584 2450 3431 \nQ 2728 3278 2906 2969 \nL 2906 3500 \nL 3481 3500 \nL 3481 434 \nz\n\" transform=\"scale(0.015625)\"/>\n      <path id=\"DejaVuSans-69\" d=\"M 603 3500 \nL 1178 3500 \nL 1178 0 \nL 603 0 \nL 603 3500 \nz\nM 603 4863 \nL 1178 4863 \nL 1178 4134 \nL 603 4134 \nL 603 4863 \nz\n\" transform=\"scale(0.015625)\"/>\n      <path id=\"DejaVuSans-6e\" d=\"M 3513 2113 \nL 3513 0 \nL 2938 0 \nL 2938 2094 \nQ 2938 2591 2744 2837 \nQ 2550 3084 2163 3084 \nQ 1697 3084 1428 2787 \nQ 1159 2491 1159 1978 \nL 1159 0 \nL 581 0 \nL 581 3500 \nL 1159 3500 \nL 1159 2956 \nQ 1366 3272 1645 3428 \nQ 1925 3584 2291 3584 \nQ 2894 3584 3203 3211 \nQ 3513 2838 3513 2113 \nz\n\" transform=\"scale(0.015625)\"/>\n      <path id=\"DejaVuSans-73\" d=\"M 2834 3397 \nL 2834 2853 \nQ 2591 2978 2328 3040 \nQ 2066 3103 1784 3103 \nQ 1356 3103 1142 2972 \nQ 928 2841 928 2578 \nQ 928 2378 1081 2264 \nQ 1234 2150 1697 2047 \nL 1894 2003 \nQ 2506 1872 2764 1633 \nQ 3022 1394 3022 966 \nQ 3022 478 2636 193 \nQ 2250 -91 1575 -91 \nQ 1294 -91 989 -36 \nQ 684 19 347 128 \nL 347 722 \nQ 666 556 975 473 \nQ 1284 391 1588 391 \nQ 1994 391 2212 530 \nQ 2431 669 2431 922 \nQ 2431 1156 2273 1281 \nQ 2116 1406 1581 1522 \nL 1381 1569 \nQ 847 1681 609 1914 \nQ 372 2147 372 2553 \nQ 372 3047 722 3315 \nQ 1072 3584 1716 3584 \nQ 2034 3584 2315 3537 \nQ 2597 3491 2834 3397 \nz\n\" transform=\"scale(0.015625)\"/>\n      <path id=\"DejaVuSans-74\" d=\"M 1172 4494 \nL 1172 3500 \nL 2356 3500 \nL 2356 3053 \nL 1172 3053 \nL 1172 1153 \nQ 1172 725 1289 603 \nQ 1406 481 1766 481 \nL 2356 481 \nL 2356 0 \nL 1766 0 \nQ 1100 0 847 248 \nQ 594 497 594 1153 \nL 594 3053 \nL 172 3053 \nL 172 3500 \nL 594 3500 \nL 594 4494 \nL 1172 4494 \nz\n\" transform=\"scale(0.015625)\"/>\n      <path id=\"DejaVuSans-66\" d=\"M 2375 4863 \nL 2375 4384 \nL 1825 4384 \nQ 1516 4384 1395 4259 \nQ 1275 4134 1275 3809 \nL 1275 3500 \nL 2222 3500 \nL 2222 3053 \nL 1275 3053 \nL 1275 0 \nL 697 0 \nL 697 3053 \nL 147 3053 \nL 147 3500 \nL 697 3500 \nL 697 3744 \nQ 697 4328 969 4595 \nQ 1241 4863 1831 4863 \nL 2375 4863 \nz\n\" transform=\"scale(0.015625)\"/>\n      <path id=\"DejaVuSans-7a\" d=\"M 353 3500 \nL 3084 3500 \nL 3084 2975 \nL 922 459 \nL 3084 459 \nL 3084 0 \nL 275 0 \nL 275 525 \nL 2438 3041 \nL 353 3041 \nL 353 3500 \nz\n\" transform=\"scale(0.015625)\"/>\n     </defs>\n     <use xlink:href=\"#DejaVuSans-41\"/>\n     <use xlink:href=\"#DejaVuSans-63\" x=\"66.658203\"/>\n     <use xlink:href=\"#DejaVuSans-63\" x=\"121.638672\"/>\n     <use xlink:href=\"#DejaVuSans-75\" x=\"176.619141\"/>\n     <use xlink:href=\"#DejaVuSans-72\" x=\"239.998047\"/>\n     <use xlink:href=\"#DejaVuSans-61\" x=\"281.111328\"/>\n     <use xlink:href=\"#DejaVuSans-63\" x=\"342.390625\"/>\n     <use xlink:href=\"#DejaVuSans-79\" x=\"397.371094\"/>\n     <use xlink:href=\"#DejaVuSans-20\" x=\"456.550781\"/>\n     <use xlink:href=\"#DejaVuSans-61\" x=\"488.337891\"/>\n     <use xlink:href=\"#DejaVuSans-67\" x=\"549.617188\"/>\n     <use xlink:href=\"#DejaVuSans-61\" x=\"613.09375\"/>\n     <use xlink:href=\"#DejaVuSans-69\" x=\"674.373047\"/>\n     <use xlink:href=\"#DejaVuSans-6e\" x=\"702.15625\"/>\n     <use xlink:href=\"#DejaVuSans-73\" x=\"765.535156\"/>\n     <use xlink:href=\"#DejaVuSans-74\" x=\"817.634766\"/>\n     <use xlink:href=\"#DejaVuSans-20\" x=\"856.84375\"/>\n     <use xlink:href=\"#DejaVuSans-66\" x=\"888.630859\"/>\n     <use xlink:href=\"#DejaVuSans-65\" x=\"923.835938\"/>\n     <use xlink:href=\"#DejaVuSans-61\" x=\"985.359375\"/>\n     <use xlink:href=\"#DejaVuSans-74\" x=\"1046.638672\"/>\n     <use xlink:href=\"#DejaVuSans-75\" x=\"1085.847656\"/>\n     <use xlink:href=\"#DejaVuSans-72\" x=\"1149.226562\"/>\n     <use xlink:href=\"#DejaVuSans-65\" x=\"1188.089844\"/>\n     <use xlink:href=\"#DejaVuSans-20\" x=\"1249.613281\"/>\n     <use xlink:href=\"#DejaVuSans-73\" x=\"1281.400391\"/>\n     <use xlink:href=\"#DejaVuSans-69\" x=\"1333.5\"/>\n     <use xlink:href=\"#DejaVuSans-7a\" x=\"1361.283203\"/>\n     <use xlink:href=\"#DejaVuSans-65\" x=\"1413.773438\"/>\n    </g>\n   </g>\n  </g>\n </g>\n <defs>\n  <clipPath id=\"p011bbeca9d\">\n   <rect x=\"50.14375\" y=\"22.318125\" width=\"357.12\" height=\"266.112\"/>\n  </clipPath>\n </defs>\n</svg>\n"
     },
     "metadata": {},
     "output_type": "display_data"
    }
   ],
   "source": [
    "score=[]\n",
    "fSize =[]\n",
    "for f in arange(100,5000,200):\n",
    "    #prepare data with different features\n",
    "    cntvect2 = feature_extraction.text.CountVectorizer(stop_words=\"english\",max_features=f)\n",
    "    cntvect2.fit(traindata)\n",
    "    trainX=cntvect2.transform(traindata)\n",
    "    testX=cntvect2.transform(testdata)\n",
    "\n",
    "    tf_trans = feature_extraction.text.TfidfTransformer(use_idf=True,norm=\"l1\")\n",
    "    trainXtf = tf_trans.fit_transform(trainX)\n",
    "    testXtf= tf_trans.fit_transform(testX)\n",
    "    trainXtf= trainXtf.toarray()\n",
    "    testXtf= testXtf.toarray()\n",
    "    \n",
    "    #train model with datas\n",
    "    mmodel_tf = naive_bayes.MultinomialNB(alpha=0.1)\n",
    "    mmodel_tf.fit(trainXtf,trainY)\n",
    "\n",
    "    predYtf = mmodel_tf.predict(testXtf)\n",
    "    accuracy=metrics.accuracy_score(predYtf,testY)\n",
    "    fSize.append(f)\n",
    "    score.append(accuracy)\n",
    "\n",
    "\n",
    "plt.title(\"Accuracy against feature size\")\n",
    "plt.plot(fSize,score)\n",
    "plt.xlabel(\"alpha Value\")\n",
    "plt.ylabel(\"Score\")\n",
    "plt.show()\n"
   ]
  },
  {
   "cell_type": "code",
   "execution_count": null,
   "metadata": {
    "ExecuteTime": {
     "end_time": "2023-09-13T04:28:32.028931300Z",
     "start_time": "2023-09-13T04:28:32.022387200Z"
    }
   },
   "outputs": [],
   "source": []
  },
  {
   "cell_type": "markdown",
   "metadata": {},
   "source": [
    "From above graph, the vocabulary size at 2000 has the best result."
   ]
  },
  {
   "cell_type": "markdown",
   "metadata": {},
   "source": [
    "## Poisson Naive Bayes\n",
    "\n",
    "Now we will implement a Naive Bayes classifier using a Poisson distribution to model the count of each word appearing in the document.  Recall that the Poisson distribution is:\n",
    "$$ \\mathrm{Poisson}(x,\\mu) = \\frac{1}{x!}e^{-\\mu} \\mu^x$$\n",
    "where $x \\in \\{0,1,2,\\cdots\\}$ is a counting number, and $\\mu$ is the Poisson mean (arrival rate).\n",
    "\n",
    "Here is some code showing how to compute the Poisson distribution using scipy."
   ]
  },
  {
   "cell_type": "code",
   "execution_count": 39,
   "metadata": {
    "ExecuteTime": {
     "end_time": "2023-09-15T05:01:41.894759400Z",
     "start_time": "2023-09-15T05:01:41.770494200Z"
    }
   },
   "outputs": [
    {
     "name": "stdout",
     "output_type": "stream",
     "text": [
      "[[ 0  0  0]\n",
      " [ 1  1  1]\n",
      " [ 2  2  2]\n",
      " [ 3  3  3]\n",
      " [ 4  4  4]\n",
      " [ 5  5  5]\n",
      " [ 6  6  6]\n",
      " [ 7  7  7]\n",
      " [ 8  8  8]\n",
      " [ 9  9  9]\n",
      " [10 10 10]\n",
      " [11 11 11]\n",
      " [12 12 12]\n",
      " [13 13 13]\n",
      " [14 14 14]\n",
      " [15 15 15]\n",
      " [16 16 16]\n",
      " [17 17 17]\n",
      " [18 18 18]\n",
      " [19 19 19]]\n",
      "[[3.67879441e-01 1.35335283e-01 3.01973834e-02]\n",
      " [3.67879441e-01 2.70670566e-01 1.05690842e-01]\n",
      " [1.83939721e-01 2.70670566e-01 1.84958973e-01]\n",
      " [6.13132402e-02 1.80447044e-01 2.15785469e-01]\n",
      " [1.53283100e-02 9.02235222e-02 1.88812285e-01]\n",
      " [3.06566201e-03 3.60894089e-02 1.32168600e-01]\n",
      " [5.10943668e-04 1.20298030e-02 7.70983499e-02]\n",
      " [7.29919526e-05 3.43708656e-03 3.85491749e-02]\n",
      " [9.12399408e-06 8.59271640e-04 1.68652640e-02]\n",
      " [1.01377712e-06 1.90949253e-04 6.55871379e-03]\n",
      " [1.01377712e-07 3.81898506e-05 2.29554983e-03]\n",
      " [9.21615563e-09 6.94360921e-06 7.30402218e-04]\n",
      " [7.68012969e-10 1.15726820e-06 2.13033980e-04]\n",
      " [5.90779207e-11 1.78041262e-07 5.73553024e-05]\n",
      " [4.21985148e-12 2.54344660e-08 1.43388256e-05]\n",
      " [2.81323432e-13 3.39126213e-09 3.34572597e-06]\n",
      " [1.75827145e-14 4.23907766e-10 7.31877556e-07]\n",
      " [1.03427732e-15 4.98715019e-11 1.50680673e-07]\n",
      " [5.74598513e-17 5.54127799e-12 2.92990198e-08]\n",
      " [3.02420270e-18 5.83292420e-13 5.39718786e-09]]\n"
     ]
    },
    {
     "data": {
      "text/plain": "<Figure size 640x480 with 1 Axes>",
      "image/svg+xml": "<?xml version=\"1.0\" encoding=\"utf-8\" standalone=\"no\"?>\n<!DOCTYPE svg PUBLIC \"-//W3C//DTD SVG 1.1//EN\"\n  \"http://www.w3.org/Graphics/SVG/1.1/DTD/svg11.dtd\">\n<svg xmlns:xlink=\"http://www.w3.org/1999/xlink\" width=\"414.46375pt\" height=\"325.986375pt\" viewBox=\"0 0 414.46375 325.986375\" xmlns=\"http://www.w3.org/2000/svg\" version=\"1.1\">\n <metadata>\n  <rdf:RDF xmlns:dc=\"http://purl.org/dc/elements/1.1/\" xmlns:cc=\"http://creativecommons.org/ns#\" xmlns:rdf=\"http://www.w3.org/1999/02/22-rdf-syntax-ns#\">\n   <cc:Work>\n    <dc:type rdf:resource=\"http://purl.org/dc/dcmitype/StillImage\"/>\n    <dc:date>2023-09-15T13:01:41.857543</dc:date>\n    <dc:format>image/svg+xml</dc:format>\n    <dc:creator>\n     <cc:Agent>\n      <dc:title>Matplotlib v3.7.1, https://matplotlib.org/</dc:title>\n     </cc:Agent>\n    </dc:creator>\n   </cc:Work>\n  </rdf:RDF>\n </metadata>\n <defs>\n  <style type=\"text/css\">*{stroke-linejoin: round; stroke-linecap: butt}</style>\n </defs>\n <g id=\"figure_1\">\n  <g id=\"patch_1\">\n   <path d=\"M 0 325.986375 \nL 414.46375 325.986375 \nL 414.46375 0 \nL 0 0 \nz\n\" style=\"fill: #ffffff\"/>\n  </g>\n  <g id=\"axes_1\">\n   <g id=\"patch_2\">\n    <path d=\"M 50.14375 288.430125 \nL 407.26375 288.430125 \nL 407.26375 22.318125 \nL 50.14375 22.318125 \nz\n\" style=\"fill: #ffffff\"/>\n   </g>\n   <g id=\"matplotlib.axis_1\">\n    <g id=\"xtick_1\">\n     <g id=\"line2d_1\">\n      <defs>\n       <path id=\"mc8aa6fd79b\" d=\"M 0 0 \nL 0 3.5 \n\" style=\"stroke: #000000; stroke-width: 0.8\"/>\n      </defs>\n      <g>\n       <use xlink:href=\"#mc8aa6fd79b\" x=\"66.376477\" y=\"288.430125\" style=\"stroke: #000000; stroke-width: 0.8\"/>\n      </g>\n     </g>\n     <g id=\"text_1\">\n      <!-- 0.0 -->\n      <g transform=\"translate(58.424915 303.028562) scale(0.1 -0.1)\">\n       <defs>\n        <path id=\"DejaVuSans-30\" d=\"M 2034 4250 \nQ 1547 4250 1301 3770 \nQ 1056 3291 1056 2328 \nQ 1056 1369 1301 889 \nQ 1547 409 2034 409 \nQ 2525 409 2770 889 \nQ 3016 1369 3016 2328 \nQ 3016 3291 2770 3770 \nQ 2525 4250 2034 4250 \nz\nM 2034 4750 \nQ 2819 4750 3233 4129 \nQ 3647 3509 3647 2328 \nQ 3647 1150 3233 529 \nQ 2819 -91 2034 -91 \nQ 1250 -91 836 529 \nQ 422 1150 422 2328 \nQ 422 3509 836 4129 \nQ 1250 4750 2034 4750 \nz\n\" transform=\"scale(0.015625)\"/>\n        <path id=\"DejaVuSans-2e\" d=\"M 684 794 \nL 1344 794 \nL 1344 0 \nL 684 0 \nL 684 794 \nz\n\" transform=\"scale(0.015625)\"/>\n       </defs>\n       <use xlink:href=\"#DejaVuSans-30\"/>\n       <use xlink:href=\"#DejaVuSans-2e\" x=\"63.623047\"/>\n       <use xlink:href=\"#DejaVuSans-30\" x=\"95.410156\"/>\n      </g>\n     </g>\n    </g>\n    <g id=\"xtick_2\">\n     <g id=\"line2d_2\">\n      <g>\n       <use xlink:href=\"#mc8aa6fd79b\" x=\"109.094181\" y=\"288.430125\" style=\"stroke: #000000; stroke-width: 0.8\"/>\n      </g>\n     </g>\n     <g id=\"text_2\">\n      <!-- 2.5 -->\n      <g transform=\"translate(101.142618 303.028562) scale(0.1 -0.1)\">\n       <defs>\n        <path id=\"DejaVuSans-32\" d=\"M 1228 531 \nL 3431 531 \nL 3431 0 \nL 469 0 \nL 469 531 \nQ 828 903 1448 1529 \nQ 2069 2156 2228 2338 \nQ 2531 2678 2651 2914 \nQ 2772 3150 2772 3378 \nQ 2772 3750 2511 3984 \nQ 2250 4219 1831 4219 \nQ 1534 4219 1204 4116 \nQ 875 4013 500 3803 \nL 500 4441 \nQ 881 4594 1212 4672 \nQ 1544 4750 1819 4750 \nQ 2544 4750 2975 4387 \nQ 3406 4025 3406 3419 \nQ 3406 3131 3298 2873 \nQ 3191 2616 2906 2266 \nQ 2828 2175 2409 1742 \nQ 1991 1309 1228 531 \nz\n\" transform=\"scale(0.015625)\"/>\n        <path id=\"DejaVuSans-35\" d=\"M 691 4666 \nL 3169 4666 \nL 3169 4134 \nL 1269 4134 \nL 1269 2991 \nQ 1406 3038 1543 3061 \nQ 1681 3084 1819 3084 \nQ 2600 3084 3056 2656 \nQ 3513 2228 3513 1497 \nQ 3513 744 3044 326 \nQ 2575 -91 1722 -91 \nQ 1428 -91 1123 -41 \nQ 819 9 494 109 \nL 494 744 \nQ 775 591 1075 516 \nQ 1375 441 1709 441 \nQ 2250 441 2565 725 \nQ 2881 1009 2881 1497 \nQ 2881 1984 2565 2268 \nQ 2250 2553 1709 2553 \nQ 1456 2553 1204 2497 \nQ 953 2441 691 2322 \nL 691 4666 \nz\n\" transform=\"scale(0.015625)\"/>\n       </defs>\n       <use xlink:href=\"#DejaVuSans-32\"/>\n       <use xlink:href=\"#DejaVuSans-2e\" x=\"63.623047\"/>\n       <use xlink:href=\"#DejaVuSans-35\" x=\"95.410156\"/>\n      </g>\n     </g>\n    </g>\n    <g id=\"xtick_3\">\n     <g id=\"line2d_3\">\n      <g>\n       <use xlink:href=\"#mc8aa6fd79b\" x=\"151.811884\" y=\"288.430125\" style=\"stroke: #000000; stroke-width: 0.8\"/>\n      </g>\n     </g>\n     <g id=\"text_3\">\n      <!-- 5.0 -->\n      <g transform=\"translate(143.860321 303.028562) scale(0.1 -0.1)\">\n       <use xlink:href=\"#DejaVuSans-35\"/>\n       <use xlink:href=\"#DejaVuSans-2e\" x=\"63.623047\"/>\n       <use xlink:href=\"#DejaVuSans-30\" x=\"95.410156\"/>\n      </g>\n     </g>\n    </g>\n    <g id=\"xtick_4\">\n     <g id=\"line2d_4\">\n      <g>\n       <use xlink:href=\"#mc8aa6fd79b\" x=\"194.529587\" y=\"288.430125\" style=\"stroke: #000000; stroke-width: 0.8\"/>\n      </g>\n     </g>\n     <g id=\"text_4\">\n      <!-- 7.5 -->\n      <g transform=\"translate(186.578025 303.028562) scale(0.1 -0.1)\">\n       <defs>\n        <path id=\"DejaVuSans-37\" d=\"M 525 4666 \nL 3525 4666 \nL 3525 4397 \nL 1831 0 \nL 1172 0 \nL 2766 4134 \nL 525 4134 \nL 525 4666 \nz\n\" transform=\"scale(0.015625)\"/>\n       </defs>\n       <use xlink:href=\"#DejaVuSans-37\"/>\n       <use xlink:href=\"#DejaVuSans-2e\" x=\"63.623047\"/>\n       <use xlink:href=\"#DejaVuSans-35\" x=\"95.410156\"/>\n      </g>\n     </g>\n    </g>\n    <g id=\"xtick_5\">\n     <g id=\"line2d_5\">\n      <g>\n       <use xlink:href=\"#mc8aa6fd79b\" x=\"237.247291\" y=\"288.430125\" style=\"stroke: #000000; stroke-width: 0.8\"/>\n      </g>\n     </g>\n     <g id=\"text_5\">\n      <!-- 10.0 -->\n      <g transform=\"translate(226.114478 303.028562) scale(0.1 -0.1)\">\n       <defs>\n        <path id=\"DejaVuSans-31\" d=\"M 794 531 \nL 1825 531 \nL 1825 4091 \nL 703 3866 \nL 703 4441 \nL 1819 4666 \nL 2450 4666 \nL 2450 531 \nL 3481 531 \nL 3481 0 \nL 794 0 \nL 794 531 \nz\n\" transform=\"scale(0.015625)\"/>\n       </defs>\n       <use xlink:href=\"#DejaVuSans-31\"/>\n       <use xlink:href=\"#DejaVuSans-30\" x=\"63.623047\"/>\n       <use xlink:href=\"#DejaVuSans-2e\" x=\"127.246094\"/>\n       <use xlink:href=\"#DejaVuSans-30\" x=\"159.033203\"/>\n      </g>\n     </g>\n    </g>\n    <g id=\"xtick_6\">\n     <g id=\"line2d_6\">\n      <g>\n       <use xlink:href=\"#mc8aa6fd79b\" x=\"279.964994\" y=\"288.430125\" style=\"stroke: #000000; stroke-width: 0.8\"/>\n      </g>\n     </g>\n     <g id=\"text_6\">\n      <!-- 12.5 -->\n      <g transform=\"translate(268.832182 303.028562) scale(0.1 -0.1)\">\n       <use xlink:href=\"#DejaVuSans-31\"/>\n       <use xlink:href=\"#DejaVuSans-32\" x=\"63.623047\"/>\n       <use xlink:href=\"#DejaVuSans-2e\" x=\"127.246094\"/>\n       <use xlink:href=\"#DejaVuSans-35\" x=\"159.033203\"/>\n      </g>\n     </g>\n    </g>\n    <g id=\"xtick_7\">\n     <g id=\"line2d_7\">\n      <g>\n       <use xlink:href=\"#mc8aa6fd79b\" x=\"322.682697\" y=\"288.430125\" style=\"stroke: #000000; stroke-width: 0.8\"/>\n      </g>\n     </g>\n     <g id=\"text_7\">\n      <!-- 15.0 -->\n      <g transform=\"translate(311.549885 303.028562) scale(0.1 -0.1)\">\n       <use xlink:href=\"#DejaVuSans-31\"/>\n       <use xlink:href=\"#DejaVuSans-35\" x=\"63.623047\"/>\n       <use xlink:href=\"#DejaVuSans-2e\" x=\"127.246094\"/>\n       <use xlink:href=\"#DejaVuSans-30\" x=\"159.033203\"/>\n      </g>\n     </g>\n    </g>\n    <g id=\"xtick_8\">\n     <g id=\"line2d_8\">\n      <g>\n       <use xlink:href=\"#mc8aa6fd79b\" x=\"365.400401\" y=\"288.430125\" style=\"stroke: #000000; stroke-width: 0.8\"/>\n      </g>\n     </g>\n     <g id=\"text_8\">\n      <!-- 17.5 -->\n      <g transform=\"translate(354.267588 303.028562) scale(0.1 -0.1)\">\n       <use xlink:href=\"#DejaVuSans-31\"/>\n       <use xlink:href=\"#DejaVuSans-37\" x=\"63.623047\"/>\n       <use xlink:href=\"#DejaVuSans-2e\" x=\"127.246094\"/>\n       <use xlink:href=\"#DejaVuSans-35\" x=\"159.033203\"/>\n      </g>\n     </g>\n    </g>\n    <g id=\"text_9\">\n     <!-- x -->\n     <g transform=\"translate(225.744375 316.706687) scale(0.1 -0.1)\">\n      <defs>\n       <path id=\"DejaVuSans-78\" d=\"M 3513 3500 \nL 2247 1797 \nL 3578 0 \nL 2900 0 \nL 1881 1375 \nL 863 0 \nL 184 0 \nL 1544 1831 \nL 300 3500 \nL 978 3500 \nL 1906 2253 \nL 2834 3500 \nL 3513 3500 \nz\n\" transform=\"scale(0.015625)\"/>\n      </defs>\n      <use xlink:href=\"#DejaVuSans-78\"/>\n     </g>\n    </g>\n   </g>\n   <g id=\"matplotlib.axis_2\">\n    <g id=\"ytick_1\">\n     <g id=\"line2d_9\">\n      <defs>\n       <path id=\"maa4b988d81\" d=\"M 0 0 \nL -3.5 0 \n\" style=\"stroke: #000000; stroke-width: 0.8\"/>\n      </defs>\n      <g>\n       <use xlink:href=\"#maa4b988d81\" x=\"50.14375\" y=\"276.334125\" style=\"stroke: #000000; stroke-width: 0.8\"/>\n      </g>\n     </g>\n     <g id=\"text_10\">\n      <!-- 0.00 -->\n      <g transform=\"translate(20.878125 280.133344) scale(0.1 -0.1)\">\n       <use xlink:href=\"#DejaVuSans-30\"/>\n       <use xlink:href=\"#DejaVuSans-2e\" x=\"63.623047\"/>\n       <use xlink:href=\"#DejaVuSans-30\" x=\"95.410156\"/>\n       <use xlink:href=\"#DejaVuSans-30\" x=\"159.033203\"/>\n      </g>\n     </g>\n    </g>\n    <g id=\"ytick_2\">\n     <g id=\"line2d_10\">\n      <g>\n       <use xlink:href=\"#maa4b988d81\" x=\"50.14375\" y=\"243.453788\" style=\"stroke: #000000; stroke-width: 0.8\"/>\n      </g>\n     </g>\n     <g id=\"text_11\">\n      <!-- 0.05 -->\n      <g transform=\"translate(20.878125 247.253007) scale(0.1 -0.1)\">\n       <use xlink:href=\"#DejaVuSans-30\"/>\n       <use xlink:href=\"#DejaVuSans-2e\" x=\"63.623047\"/>\n       <use xlink:href=\"#DejaVuSans-30\" x=\"95.410156\"/>\n       <use xlink:href=\"#DejaVuSans-35\" x=\"159.033203\"/>\n      </g>\n     </g>\n    </g>\n    <g id=\"ytick_3\">\n     <g id=\"line2d_11\">\n      <g>\n       <use xlink:href=\"#maa4b988d81\" x=\"50.14375\" y=\"210.573451\" style=\"stroke: #000000; stroke-width: 0.8\"/>\n      </g>\n     </g>\n     <g id=\"text_12\">\n      <!-- 0.10 -->\n      <g transform=\"translate(20.878125 214.37267) scale(0.1 -0.1)\">\n       <use xlink:href=\"#DejaVuSans-30\"/>\n       <use xlink:href=\"#DejaVuSans-2e\" x=\"63.623047\"/>\n       <use xlink:href=\"#DejaVuSans-31\" x=\"95.410156\"/>\n       <use xlink:href=\"#DejaVuSans-30\" x=\"159.033203\"/>\n      </g>\n     </g>\n    </g>\n    <g id=\"ytick_4\">\n     <g id=\"line2d_12\">\n      <g>\n       <use xlink:href=\"#maa4b988d81\" x=\"50.14375\" y=\"177.693114\" style=\"stroke: #000000; stroke-width: 0.8\"/>\n      </g>\n     </g>\n     <g id=\"text_13\">\n      <!-- 0.15 -->\n      <g transform=\"translate(20.878125 181.492333) scale(0.1 -0.1)\">\n       <use xlink:href=\"#DejaVuSans-30\"/>\n       <use xlink:href=\"#DejaVuSans-2e\" x=\"63.623047\"/>\n       <use xlink:href=\"#DejaVuSans-31\" x=\"95.410156\"/>\n       <use xlink:href=\"#DejaVuSans-35\" x=\"159.033203\"/>\n      </g>\n     </g>\n    </g>\n    <g id=\"ytick_5\">\n     <g id=\"line2d_13\">\n      <g>\n       <use xlink:href=\"#maa4b988d81\" x=\"50.14375\" y=\"144.812777\" style=\"stroke: #000000; stroke-width: 0.8\"/>\n      </g>\n     </g>\n     <g id=\"text_14\">\n      <!-- 0.20 -->\n      <g transform=\"translate(20.878125 148.611996) scale(0.1 -0.1)\">\n       <use xlink:href=\"#DejaVuSans-30\"/>\n       <use xlink:href=\"#DejaVuSans-2e\" x=\"63.623047\"/>\n       <use xlink:href=\"#DejaVuSans-32\" x=\"95.410156\"/>\n       <use xlink:href=\"#DejaVuSans-30\" x=\"159.033203\"/>\n      </g>\n     </g>\n    </g>\n    <g id=\"ytick_6\">\n     <g id=\"line2d_14\">\n      <g>\n       <use xlink:href=\"#maa4b988d81\" x=\"50.14375\" y=\"111.93244\" style=\"stroke: #000000; stroke-width: 0.8\"/>\n      </g>\n     </g>\n     <g id=\"text_15\">\n      <!-- 0.25 -->\n      <g transform=\"translate(20.878125 115.731659) scale(0.1 -0.1)\">\n       <use xlink:href=\"#DejaVuSans-30\"/>\n       <use xlink:href=\"#DejaVuSans-2e\" x=\"63.623047\"/>\n       <use xlink:href=\"#DejaVuSans-32\" x=\"95.410156\"/>\n       <use xlink:href=\"#DejaVuSans-35\" x=\"159.033203\"/>\n      </g>\n     </g>\n    </g>\n    <g id=\"ytick_7\">\n     <g id=\"line2d_15\">\n      <g>\n       <use xlink:href=\"#maa4b988d81\" x=\"50.14375\" y=\"79.052103\" style=\"stroke: #000000; stroke-width: 0.8\"/>\n      </g>\n     </g>\n     <g id=\"text_16\">\n      <!-- 0.30 -->\n      <g transform=\"translate(20.878125 82.851322) scale(0.1 -0.1)\">\n       <defs>\n        <path id=\"DejaVuSans-33\" d=\"M 2597 2516 \nQ 3050 2419 3304 2112 \nQ 3559 1806 3559 1356 \nQ 3559 666 3084 287 \nQ 2609 -91 1734 -91 \nQ 1441 -91 1130 -33 \nQ 819 25 488 141 \nL 488 750 \nQ 750 597 1062 519 \nQ 1375 441 1716 441 \nQ 2309 441 2620 675 \nQ 2931 909 2931 1356 \nQ 2931 1769 2642 2001 \nQ 2353 2234 1838 2234 \nL 1294 2234 \nL 1294 2753 \nL 1863 2753 \nQ 2328 2753 2575 2939 \nQ 2822 3125 2822 3475 \nQ 2822 3834 2567 4026 \nQ 2313 4219 1838 4219 \nQ 1578 4219 1281 4162 \nQ 984 4106 628 3988 \nL 628 4550 \nQ 988 4650 1302 4700 \nQ 1616 4750 1894 4750 \nQ 2613 4750 3031 4423 \nQ 3450 4097 3450 3541 \nQ 3450 3153 3228 2886 \nQ 3006 2619 2597 2516 \nz\n\" transform=\"scale(0.015625)\"/>\n       </defs>\n       <use xlink:href=\"#DejaVuSans-30\"/>\n       <use xlink:href=\"#DejaVuSans-2e\" x=\"63.623047\"/>\n       <use xlink:href=\"#DejaVuSans-33\" x=\"95.410156\"/>\n       <use xlink:href=\"#DejaVuSans-30\" x=\"159.033203\"/>\n      </g>\n     </g>\n    </g>\n    <g id=\"ytick_8\">\n     <g id=\"line2d_16\">\n      <g>\n       <use xlink:href=\"#maa4b988d81\" x=\"50.14375\" y=\"46.171766\" style=\"stroke: #000000; stroke-width: 0.8\"/>\n      </g>\n     </g>\n     <g id=\"text_17\">\n      <!-- 0.35 -->\n      <g transform=\"translate(20.878125 49.970985) scale(0.1 -0.1)\">\n       <use xlink:href=\"#DejaVuSans-30\"/>\n       <use xlink:href=\"#DejaVuSans-2e\" x=\"63.623047\"/>\n       <use xlink:href=\"#DejaVuSans-33\" x=\"95.410156\"/>\n       <use xlink:href=\"#DejaVuSans-35\" x=\"159.033203\"/>\n      </g>\n     </g>\n    </g>\n    <g id=\"text_18\">\n     <!-- p(x) -->\n     <g transform=\"translate(14.798438 165.409281) rotate(-90) scale(0.1 -0.1)\">\n      <defs>\n       <path id=\"DejaVuSans-70\" d=\"M 1159 525 \nL 1159 -1331 \nL 581 -1331 \nL 581 3500 \nL 1159 3500 \nL 1159 2969 \nQ 1341 3281 1617 3432 \nQ 1894 3584 2278 3584 \nQ 2916 3584 3314 3078 \nQ 3713 2572 3713 1747 \nQ 3713 922 3314 415 \nQ 2916 -91 2278 -91 \nQ 1894 -91 1617 61 \nQ 1341 213 1159 525 \nz\nM 3116 1747 \nQ 3116 2381 2855 2742 \nQ 2594 3103 2138 3103 \nQ 1681 3103 1420 2742 \nQ 1159 2381 1159 1747 \nQ 1159 1113 1420 752 \nQ 1681 391 2138 391 \nQ 2594 391 2855 752 \nQ 3116 1113 3116 1747 \nz\n\" transform=\"scale(0.015625)\"/>\n       <path id=\"DejaVuSans-28\" d=\"M 1984 4856 \nQ 1566 4138 1362 3434 \nQ 1159 2731 1159 2009 \nQ 1159 1288 1364 580 \nQ 1569 -128 1984 -844 \nL 1484 -844 \nQ 1016 -109 783 600 \nQ 550 1309 550 2009 \nQ 550 2706 781 3412 \nQ 1013 4119 1484 4856 \nL 1984 4856 \nz\n\" transform=\"scale(0.015625)\"/>\n       <path id=\"DejaVuSans-29\" d=\"M 513 4856 \nL 1013 4856 \nQ 1481 4119 1714 3412 \nQ 1947 2706 1947 2009 \nQ 1947 1309 1714 600 \nQ 1481 -109 1013 -844 \nL 513 -844 \nQ 928 -128 1133 580 \nQ 1338 1288 1338 2009 \nQ 1338 2731 1133 3434 \nQ 928 4138 513 4856 \nz\n\" transform=\"scale(0.015625)\"/>\n      </defs>\n      <use xlink:href=\"#DejaVuSans-70\"/>\n      <use xlink:href=\"#DejaVuSans-28\" x=\"63.476562\"/>\n      <use xlink:href=\"#DejaVuSans-78\" x=\"102.490234\"/>\n      <use xlink:href=\"#DejaVuSans-29\" x=\"161.669922\"/>\n     </g>\n    </g>\n   </g>\n   <g id=\"line2d_17\">\n    <path d=\"M 66.376477 34.414125 \nL 83.463559 34.414125 \nL 100.55064 155.374125 \nL 117.637721 236.014125 \nL 134.724803 266.254125 \nL 151.811884 274.318125 \nL 168.898965 275.998125 \nL 185.986047 276.286125 \nL 203.073128 276.328125 \nL 220.160209 276.333458 \nL 237.247291 276.334058 \nL 254.334372 276.334119 \nL 271.421453 276.334124 \nL 288.508535 276.334125 \nL 305.595616 276.334125 \nL 322.682697 276.334125 \nL 339.769779 276.334125 \nL 356.85686 276.334125 \nL 373.943941 276.334125 \nL 391.031023 276.334125 \n\" clip-path=\"url(#p856cbec15b)\" style=\"fill: none; stroke: #1f77b4; stroke-width: 1.5; stroke-linecap: square\"/>\n    <defs>\n     <path id=\"m74aca2ee2f\" d=\"M 0 1.5 \nC 0.397805 1.5 0.77937 1.341951 1.06066 1.06066 \nC 1.341951 0.77937 1.5 0.397805 1.5 0 \nC 1.5 -0.397805 1.341951 -0.77937 1.06066 -1.06066 \nC 0.77937 -1.341951 0.397805 -1.5 0 -1.5 \nC -0.397805 -1.5 -0.77937 -1.341951 -1.06066 -1.06066 \nC -1.341951 -0.77937 -1.5 -0.397805 -1.5 0 \nC -1.5 0.397805 -1.341951 0.77937 -1.06066 1.06066 \nC -0.77937 1.341951 -0.397805 1.5 0 1.5 \nz\n\" style=\"stroke: #1f77b4\"/>\n    </defs>\n    <g clip-path=\"url(#p856cbec15b)\">\n     <use xlink:href=\"#m74aca2ee2f\" x=\"66.376477\" y=\"34.414125\" style=\"fill: #1f77b4; stroke: #1f77b4\"/>\n     <use xlink:href=\"#m74aca2ee2f\" x=\"83.463559\" y=\"34.414125\" style=\"fill: #1f77b4; stroke: #1f77b4\"/>\n     <use xlink:href=\"#m74aca2ee2f\" x=\"100.55064\" y=\"155.374125\" style=\"fill: #1f77b4; stroke: #1f77b4\"/>\n     <use xlink:href=\"#m74aca2ee2f\" x=\"117.637721\" y=\"236.014125\" style=\"fill: #1f77b4; stroke: #1f77b4\"/>\n     <use xlink:href=\"#m74aca2ee2f\" x=\"134.724803\" y=\"266.254125\" style=\"fill: #1f77b4; stroke: #1f77b4\"/>\n     <use xlink:href=\"#m74aca2ee2f\" x=\"151.811884\" y=\"274.318125\" style=\"fill: #1f77b4; stroke: #1f77b4\"/>\n     <use xlink:href=\"#m74aca2ee2f\" x=\"168.898965\" y=\"275.998125\" style=\"fill: #1f77b4; stroke: #1f77b4\"/>\n     <use xlink:href=\"#m74aca2ee2f\" x=\"185.986047\" y=\"276.286125\" style=\"fill: #1f77b4; stroke: #1f77b4\"/>\n     <use xlink:href=\"#m74aca2ee2f\" x=\"203.073128\" y=\"276.328125\" style=\"fill: #1f77b4; stroke: #1f77b4\"/>\n     <use xlink:href=\"#m74aca2ee2f\" x=\"220.160209\" y=\"276.333458\" style=\"fill: #1f77b4; stroke: #1f77b4\"/>\n     <use xlink:href=\"#m74aca2ee2f\" x=\"237.247291\" y=\"276.334058\" style=\"fill: #1f77b4; stroke: #1f77b4\"/>\n     <use xlink:href=\"#m74aca2ee2f\" x=\"254.334372\" y=\"276.334119\" style=\"fill: #1f77b4; stroke: #1f77b4\"/>\n     <use xlink:href=\"#m74aca2ee2f\" x=\"271.421453\" y=\"276.334124\" style=\"fill: #1f77b4; stroke: #1f77b4\"/>\n     <use xlink:href=\"#m74aca2ee2f\" x=\"288.508535\" y=\"276.334125\" style=\"fill: #1f77b4; stroke: #1f77b4\"/>\n     <use xlink:href=\"#m74aca2ee2f\" x=\"305.595616\" y=\"276.334125\" style=\"fill: #1f77b4; stroke: #1f77b4\"/>\n     <use xlink:href=\"#m74aca2ee2f\" x=\"322.682697\" y=\"276.334125\" style=\"fill: #1f77b4; stroke: #1f77b4\"/>\n     <use xlink:href=\"#m74aca2ee2f\" x=\"339.769779\" y=\"276.334125\" style=\"fill: #1f77b4; stroke: #1f77b4\"/>\n     <use xlink:href=\"#m74aca2ee2f\" x=\"356.85686\" y=\"276.334125\" style=\"fill: #1f77b4; stroke: #1f77b4\"/>\n     <use xlink:href=\"#m74aca2ee2f\" x=\"373.943941\" y=\"276.334125\" style=\"fill: #1f77b4; stroke: #1f77b4\"/>\n     <use xlink:href=\"#m74aca2ee2f\" x=\"391.031023\" y=\"276.334125\" style=\"fill: #1f77b4; stroke: #1f77b4\"/>\n    </g>\n   </g>\n   <g id=\"line2d_18\">\n    <path d=\"M 66.376477 187.336731 \nL 83.463559 98.339336 \nL 100.55064 98.339336 \nL 117.637721 157.670932 \nL 134.724803 217.002529 \nL 151.811884 252.601486 \nL 168.898965 268.423245 \nL 185.986047 274.073874 \nL 203.073128 275.769062 \nL 220.160209 276.208555 \nL 237.247291 276.309011 \nL 254.334372 276.329559 \nL 271.421453 276.333364 \nL 288.508535 276.334008 \nL 305.595616 276.334108 \nL 322.682697 276.334123 \nL 339.769779 276.334125 \nL 356.85686 276.334125 \nL 373.943941 276.334125 \nL 391.031023 276.334125 \n\" clip-path=\"url(#p856cbec15b)\" style=\"fill: none; stroke: #ff7f0e; stroke-width: 1.5; stroke-linecap: square\"/>\n    <defs>\n     <path id=\"m9969e3b644\" d=\"M 0 1.5 \nC 0.397805 1.5 0.77937 1.341951 1.06066 1.06066 \nC 1.341951 0.77937 1.5 0.397805 1.5 0 \nC 1.5 -0.397805 1.341951 -0.77937 1.06066 -1.06066 \nC 0.77937 -1.341951 0.397805 -1.5 0 -1.5 \nC -0.397805 -1.5 -0.77937 -1.341951 -1.06066 -1.06066 \nC -1.341951 -0.77937 -1.5 -0.397805 -1.5 0 \nC -1.5 0.397805 -1.341951 0.77937 -1.06066 1.06066 \nC -0.77937 1.341951 -0.397805 1.5 0 1.5 \nz\n\" style=\"stroke: #ff7f0e\"/>\n    </defs>\n    <g clip-path=\"url(#p856cbec15b)\">\n     <use xlink:href=\"#m9969e3b644\" x=\"66.376477\" y=\"187.336731\" style=\"fill: #ff7f0e; stroke: #ff7f0e\"/>\n     <use xlink:href=\"#m9969e3b644\" x=\"83.463559\" y=\"98.339336\" style=\"fill: #ff7f0e; stroke: #ff7f0e\"/>\n     <use xlink:href=\"#m9969e3b644\" x=\"100.55064\" y=\"98.339336\" style=\"fill: #ff7f0e; stroke: #ff7f0e\"/>\n     <use xlink:href=\"#m9969e3b644\" x=\"117.637721\" y=\"157.670932\" style=\"fill: #ff7f0e; stroke: #ff7f0e\"/>\n     <use xlink:href=\"#m9969e3b644\" x=\"134.724803\" y=\"217.002529\" style=\"fill: #ff7f0e; stroke: #ff7f0e\"/>\n     <use xlink:href=\"#m9969e3b644\" x=\"151.811884\" y=\"252.601486\" style=\"fill: #ff7f0e; stroke: #ff7f0e\"/>\n     <use xlink:href=\"#m9969e3b644\" x=\"168.898965\" y=\"268.423245\" style=\"fill: #ff7f0e; stroke: #ff7f0e\"/>\n     <use xlink:href=\"#m9969e3b644\" x=\"185.986047\" y=\"274.073874\" style=\"fill: #ff7f0e; stroke: #ff7f0e\"/>\n     <use xlink:href=\"#m9969e3b644\" x=\"203.073128\" y=\"275.769062\" style=\"fill: #ff7f0e; stroke: #ff7f0e\"/>\n     <use xlink:href=\"#m9969e3b644\" x=\"220.160209\" y=\"276.208555\" style=\"fill: #ff7f0e; stroke: #ff7f0e\"/>\n     <use xlink:href=\"#m9969e3b644\" x=\"237.247291\" y=\"276.309011\" style=\"fill: #ff7f0e; stroke: #ff7f0e\"/>\n     <use xlink:href=\"#m9969e3b644\" x=\"254.334372\" y=\"276.329559\" style=\"fill: #ff7f0e; stroke: #ff7f0e\"/>\n     <use xlink:href=\"#m9969e3b644\" x=\"271.421453\" y=\"276.333364\" style=\"fill: #ff7f0e; stroke: #ff7f0e\"/>\n     <use xlink:href=\"#m9969e3b644\" x=\"288.508535\" y=\"276.334008\" style=\"fill: #ff7f0e; stroke: #ff7f0e\"/>\n     <use xlink:href=\"#m9969e3b644\" x=\"305.595616\" y=\"276.334108\" style=\"fill: #ff7f0e; stroke: #ff7f0e\"/>\n     <use xlink:href=\"#m9969e3b644\" x=\"322.682697\" y=\"276.334123\" style=\"fill: #ff7f0e; stroke: #ff7f0e\"/>\n     <use xlink:href=\"#m9969e3b644\" x=\"339.769779\" y=\"276.334125\" style=\"fill: #ff7f0e; stroke: #ff7f0e\"/>\n     <use xlink:href=\"#m9969e3b644\" x=\"356.85686\" y=\"276.334125\" style=\"fill: #ff7f0e; stroke: #ff7f0e\"/>\n     <use xlink:href=\"#m9969e3b644\" x=\"373.943941\" y=\"276.334125\" style=\"fill: #ff7f0e; stroke: #ff7f0e\"/>\n     <use xlink:href=\"#m9969e3b644\" x=\"391.031023\" y=\"276.334125\" style=\"fill: #ff7f0e; stroke: #ff7f0e\"/>\n    </g>\n   </g>\n   <g id=\"line2d_19\">\n    <path d=\"M 66.376477 256.476122 \nL 83.463559 206.831115 \nL 100.55064 154.703857 \nL 117.637721 134.432146 \nL 134.724803 152.169894 \nL 151.811884 189.419163 \nL 168.898965 225.63373 \nL 185.986047 250.983928 \nL 203.073128 265.243414 \nL 220.160209 272.021071 \nL 237.247291 274.824556 \nL 254.334372 275.853808 \nL 271.421453 276.194032 \nL 288.508535 276.296408 \nL 305.595616 276.324696 \nL 322.682697 276.331925 \nL 339.769779 276.333644 \nL 356.85686 276.334026 \nL 373.943941 276.334106 \nL 391.031023 276.334121 \n\" clip-path=\"url(#p856cbec15b)\" style=\"fill: none; stroke: #2ca02c; stroke-width: 1.5; stroke-linecap: square\"/>\n    <defs>\n     <path id=\"m0f55030e2c\" d=\"M 0 1.5 \nC 0.397805 1.5 0.77937 1.341951 1.06066 1.06066 \nC 1.341951 0.77937 1.5 0.397805 1.5 0 \nC 1.5 -0.397805 1.341951 -0.77937 1.06066 -1.06066 \nC 0.77937 -1.341951 0.397805 -1.5 0 -1.5 \nC -0.397805 -1.5 -0.77937 -1.341951 -1.06066 -1.06066 \nC -1.341951 -0.77937 -1.5 -0.397805 -1.5 0 \nC -1.5 0.397805 -1.341951 0.77937 -1.06066 1.06066 \nC -0.77937 1.341951 -0.397805 1.5 0 1.5 \nz\n\" style=\"stroke: #2ca02c\"/>\n    </defs>\n    <g clip-path=\"url(#p856cbec15b)\">\n     <use xlink:href=\"#m0f55030e2c\" x=\"66.376477\" y=\"256.476122\" style=\"fill: #2ca02c; stroke: #2ca02c\"/>\n     <use xlink:href=\"#m0f55030e2c\" x=\"83.463559\" y=\"206.831115\" style=\"fill: #2ca02c; stroke: #2ca02c\"/>\n     <use xlink:href=\"#m0f55030e2c\" x=\"100.55064\" y=\"154.703857\" style=\"fill: #2ca02c; stroke: #2ca02c\"/>\n     <use xlink:href=\"#m0f55030e2c\" x=\"117.637721\" y=\"134.432146\" style=\"fill: #2ca02c; stroke: #2ca02c\"/>\n     <use xlink:href=\"#m0f55030e2c\" x=\"134.724803\" y=\"152.169894\" style=\"fill: #2ca02c; stroke: #2ca02c\"/>\n     <use xlink:href=\"#m0f55030e2c\" x=\"151.811884\" y=\"189.419163\" style=\"fill: #2ca02c; stroke: #2ca02c\"/>\n     <use xlink:href=\"#m0f55030e2c\" x=\"168.898965\" y=\"225.63373\" style=\"fill: #2ca02c; stroke: #2ca02c\"/>\n     <use xlink:href=\"#m0f55030e2c\" x=\"185.986047\" y=\"250.983928\" style=\"fill: #2ca02c; stroke: #2ca02c\"/>\n     <use xlink:href=\"#m0f55030e2c\" x=\"203.073128\" y=\"265.243414\" style=\"fill: #2ca02c; stroke: #2ca02c\"/>\n     <use xlink:href=\"#m0f55030e2c\" x=\"220.160209\" y=\"272.021071\" style=\"fill: #2ca02c; stroke: #2ca02c\"/>\n     <use xlink:href=\"#m0f55030e2c\" x=\"237.247291\" y=\"274.824556\" style=\"fill: #2ca02c; stroke: #2ca02c\"/>\n     <use xlink:href=\"#m0f55030e2c\" x=\"254.334372\" y=\"275.853808\" style=\"fill: #2ca02c; stroke: #2ca02c\"/>\n     <use xlink:href=\"#m0f55030e2c\" x=\"271.421453\" y=\"276.194032\" style=\"fill: #2ca02c; stroke: #2ca02c\"/>\n     <use xlink:href=\"#m0f55030e2c\" x=\"288.508535\" y=\"276.296408\" style=\"fill: #2ca02c; stroke: #2ca02c\"/>\n     <use xlink:href=\"#m0f55030e2c\" x=\"305.595616\" y=\"276.324696\" style=\"fill: #2ca02c; stroke: #2ca02c\"/>\n     <use xlink:href=\"#m0f55030e2c\" x=\"322.682697\" y=\"276.331925\" style=\"fill: #2ca02c; stroke: #2ca02c\"/>\n     <use xlink:href=\"#m0f55030e2c\" x=\"339.769779\" y=\"276.333644\" style=\"fill: #2ca02c; stroke: #2ca02c\"/>\n     <use xlink:href=\"#m0f55030e2c\" x=\"356.85686\" y=\"276.334026\" style=\"fill: #2ca02c; stroke: #2ca02c\"/>\n     <use xlink:href=\"#m0f55030e2c\" x=\"373.943941\" y=\"276.334106\" style=\"fill: #2ca02c; stroke: #2ca02c\"/>\n     <use xlink:href=\"#m0f55030e2c\" x=\"391.031023\" y=\"276.334121\" style=\"fill: #2ca02c; stroke: #2ca02c\"/>\n    </g>\n   </g>\n   <g id=\"patch_3\">\n    <path d=\"M 50.14375 288.430125 \nL 50.14375 22.318125 \n\" style=\"fill: none; stroke: #000000; stroke-width: 0.8; stroke-linejoin: miter; stroke-linecap: square\"/>\n   </g>\n   <g id=\"patch_4\">\n    <path d=\"M 407.26375 288.430125 \nL 407.26375 22.318125 \n\" style=\"fill: none; stroke: #000000; stroke-width: 0.8; stroke-linejoin: miter; stroke-linecap: square\"/>\n   </g>\n   <g id=\"patch_5\">\n    <path d=\"M 50.14375 288.430125 \nL 407.26375 288.430125 \n\" style=\"fill: none; stroke: #000000; stroke-width: 0.8; stroke-linejoin: miter; stroke-linecap: square\"/>\n   </g>\n   <g id=\"patch_6\">\n    <path d=\"M 50.14375 22.318125 \nL 407.26375 22.318125 \n\" style=\"fill: none; stroke: #000000; stroke-width: 0.8; stroke-linejoin: miter; stroke-linecap: square\"/>\n   </g>\n   <g id=\"text_19\">\n    <!-- example Poissons -->\n    <g transform=\"translate(175.380625 16.318125) scale(0.12 -0.12)\">\n     <defs>\n      <path id=\"DejaVuSans-65\" d=\"M 3597 1894 \nL 3597 1613 \nL 953 1613 \nQ 991 1019 1311 708 \nQ 1631 397 2203 397 \nQ 2534 397 2845 478 \nQ 3156 559 3463 722 \nL 3463 178 \nQ 3153 47 2828 -22 \nQ 2503 -91 2169 -91 \nQ 1331 -91 842 396 \nQ 353 884 353 1716 \nQ 353 2575 817 3079 \nQ 1281 3584 2069 3584 \nQ 2775 3584 3186 3129 \nQ 3597 2675 3597 1894 \nz\nM 3022 2063 \nQ 3016 2534 2758 2815 \nQ 2500 3097 2075 3097 \nQ 1594 3097 1305 2825 \nQ 1016 2553 972 2059 \nL 3022 2063 \nz\n\" transform=\"scale(0.015625)\"/>\n      <path id=\"DejaVuSans-61\" d=\"M 2194 1759 \nQ 1497 1759 1228 1600 \nQ 959 1441 959 1056 \nQ 959 750 1161 570 \nQ 1363 391 1709 391 \nQ 2188 391 2477 730 \nQ 2766 1069 2766 1631 \nL 2766 1759 \nL 2194 1759 \nz\nM 3341 1997 \nL 3341 0 \nL 2766 0 \nL 2766 531 \nQ 2569 213 2275 61 \nQ 1981 -91 1556 -91 \nQ 1019 -91 701 211 \nQ 384 513 384 1019 \nQ 384 1609 779 1909 \nQ 1175 2209 1959 2209 \nL 2766 2209 \nL 2766 2266 \nQ 2766 2663 2505 2880 \nQ 2244 3097 1772 3097 \nQ 1472 3097 1187 3025 \nQ 903 2953 641 2809 \nL 641 3341 \nQ 956 3463 1253 3523 \nQ 1550 3584 1831 3584 \nQ 2591 3584 2966 3190 \nQ 3341 2797 3341 1997 \nz\n\" transform=\"scale(0.015625)\"/>\n      <path id=\"DejaVuSans-6d\" d=\"M 3328 2828 \nQ 3544 3216 3844 3400 \nQ 4144 3584 4550 3584 \nQ 5097 3584 5394 3201 \nQ 5691 2819 5691 2113 \nL 5691 0 \nL 5113 0 \nL 5113 2094 \nQ 5113 2597 4934 2840 \nQ 4756 3084 4391 3084 \nQ 3944 3084 3684 2787 \nQ 3425 2491 3425 1978 \nL 3425 0 \nL 2847 0 \nL 2847 2094 \nQ 2847 2600 2669 2842 \nQ 2491 3084 2119 3084 \nQ 1678 3084 1418 2786 \nQ 1159 2488 1159 1978 \nL 1159 0 \nL 581 0 \nL 581 3500 \nL 1159 3500 \nL 1159 2956 \nQ 1356 3278 1631 3431 \nQ 1906 3584 2284 3584 \nQ 2666 3584 2933 3390 \nQ 3200 3197 3328 2828 \nz\n\" transform=\"scale(0.015625)\"/>\n      <path id=\"DejaVuSans-6c\" d=\"M 603 4863 \nL 1178 4863 \nL 1178 0 \nL 603 0 \nL 603 4863 \nz\n\" transform=\"scale(0.015625)\"/>\n      <path id=\"DejaVuSans-20\" transform=\"scale(0.015625)\"/>\n      <path id=\"DejaVuSans-50\" d=\"M 1259 4147 \nL 1259 2394 \nL 2053 2394 \nQ 2494 2394 2734 2622 \nQ 2975 2850 2975 3272 \nQ 2975 3691 2734 3919 \nQ 2494 4147 2053 4147 \nL 1259 4147 \nz\nM 628 4666 \nL 2053 4666 \nQ 2838 4666 3239 4311 \nQ 3641 3956 3641 3272 \nQ 3641 2581 3239 2228 \nQ 2838 1875 2053 1875 \nL 1259 1875 \nL 1259 0 \nL 628 0 \nL 628 4666 \nz\n\" transform=\"scale(0.015625)\"/>\n      <path id=\"DejaVuSans-6f\" d=\"M 1959 3097 \nQ 1497 3097 1228 2736 \nQ 959 2375 959 1747 \nQ 959 1119 1226 758 \nQ 1494 397 1959 397 \nQ 2419 397 2687 759 \nQ 2956 1122 2956 1747 \nQ 2956 2369 2687 2733 \nQ 2419 3097 1959 3097 \nz\nM 1959 3584 \nQ 2709 3584 3137 3096 \nQ 3566 2609 3566 1747 \nQ 3566 888 3137 398 \nQ 2709 -91 1959 -91 \nQ 1206 -91 779 398 \nQ 353 888 353 1747 \nQ 353 2609 779 3096 \nQ 1206 3584 1959 3584 \nz\n\" transform=\"scale(0.015625)\"/>\n      <path id=\"DejaVuSans-69\" d=\"M 603 3500 \nL 1178 3500 \nL 1178 0 \nL 603 0 \nL 603 3500 \nz\nM 603 4863 \nL 1178 4863 \nL 1178 4134 \nL 603 4134 \nL 603 4863 \nz\n\" transform=\"scale(0.015625)\"/>\n      <path id=\"DejaVuSans-73\" d=\"M 2834 3397 \nL 2834 2853 \nQ 2591 2978 2328 3040 \nQ 2066 3103 1784 3103 \nQ 1356 3103 1142 2972 \nQ 928 2841 928 2578 \nQ 928 2378 1081 2264 \nQ 1234 2150 1697 2047 \nL 1894 2003 \nQ 2506 1872 2764 1633 \nQ 3022 1394 3022 966 \nQ 3022 478 2636 193 \nQ 2250 -91 1575 -91 \nQ 1294 -91 989 -36 \nQ 684 19 347 128 \nL 347 722 \nQ 666 556 975 473 \nQ 1284 391 1588 391 \nQ 1994 391 2212 530 \nQ 2431 669 2431 922 \nQ 2431 1156 2273 1281 \nQ 2116 1406 1581 1522 \nL 1381 1569 \nQ 847 1681 609 1914 \nQ 372 2147 372 2553 \nQ 372 3047 722 3315 \nQ 1072 3584 1716 3584 \nQ 2034 3584 2315 3537 \nQ 2597 3491 2834 3397 \nz\n\" transform=\"scale(0.015625)\"/>\n      <path id=\"DejaVuSans-6e\" d=\"M 3513 2113 \nL 3513 0 \nL 2938 0 \nL 2938 2094 \nQ 2938 2591 2744 2837 \nQ 2550 3084 2163 3084 \nQ 1697 3084 1428 2787 \nQ 1159 2491 1159 1978 \nL 1159 0 \nL 581 0 \nL 581 3500 \nL 1159 3500 \nL 1159 2956 \nQ 1366 3272 1645 3428 \nQ 1925 3584 2291 3584 \nQ 2894 3584 3203 3211 \nQ 3513 2838 3513 2113 \nz\n\" transform=\"scale(0.015625)\"/>\n     </defs>\n     <use xlink:href=\"#DejaVuSans-65\"/>\n     <use xlink:href=\"#DejaVuSans-78\" x=\"59.773438\"/>\n     <use xlink:href=\"#DejaVuSans-61\" x=\"118.953125\"/>\n     <use xlink:href=\"#DejaVuSans-6d\" x=\"180.232422\"/>\n     <use xlink:href=\"#DejaVuSans-70\" x=\"277.644531\"/>\n     <use xlink:href=\"#DejaVuSans-6c\" x=\"341.121094\"/>\n     <use xlink:href=\"#DejaVuSans-65\" x=\"368.904297\"/>\n     <use xlink:href=\"#DejaVuSans-20\" x=\"430.427734\"/>\n     <use xlink:href=\"#DejaVuSans-50\" x=\"462.214844\"/>\n     <use xlink:href=\"#DejaVuSans-6f\" x=\"518.892578\"/>\n     <use xlink:href=\"#DejaVuSans-69\" x=\"580.074219\"/>\n     <use xlink:href=\"#DejaVuSans-73\" x=\"607.857422\"/>\n     <use xlink:href=\"#DejaVuSans-73\" x=\"659.957031\"/>\n     <use xlink:href=\"#DejaVuSans-6f\" x=\"712.056641\"/>\n     <use xlink:href=\"#DejaVuSans-6e\" x=\"773.238281\"/>\n     <use xlink:href=\"#DejaVuSans-73\" x=\"836.617188\"/>\n    </g>\n   </g>\n  </g>\n </g>\n <defs>\n  <clipPath id=\"p856cbec15b\">\n   <rect x=\"50.14375\" y=\"22.318125\" width=\"357.12\" height=\"266.112\"/>\n  </clipPath>\n </defs>\n</svg>\n"
     },
     "metadata": {},
     "output_type": "display_data"
    }
   ],
   "source": [
    "# Poisson distribution\n",
    "from scipy.stats import poisson\n",
    "\n",
    "# compute log Poisson(x, lambda)\n",
    "data = arange(0,20).reshape((20,1))\n",
    "data = hstack((data,arange(0,20).reshape(20,1)))\n",
    "data = hstack((data,arange(0,20).reshape(20,1)))\n",
    "print(data)\n",
    "#px = poisson.logpmf(arange(0,20).reshape((20,1)), mu=[[1., 2., 3.5]])\n",
    "px = poisson.pmf(data, mu=[[1., 2., 3.5]])\n",
    "\n",
    "# NOTE: the function respects broadcasting\n",
    "# x is a column vector, and mu is a row vector\n",
    "# in the output px, each column is the log Poisson values for one mu\n",
    "print(px)\n",
    "\n",
    "# make a plot\n",
    "plt.title('example Poissons')\n",
    "plt.plot(arange(0,20), px, '.-')\n",
    "plt.xlabel('x')\n",
    "plt.ylabel('p(x)')\n",
    "plt.show()"
   ]
  },
  {
   "cell_type": "markdown",
   "metadata": {
    "collapsed": false
   },
   "source": [
    "Now let's see how to use the Poisson to create a Naive Bayes model. Let $x_i$ be the number of times the i-th word appears in the document. Then we model $x_i$ as a Poisson distribution for each class $c$,\n",
    "  $$p(x_i|y=c) = \\mathrm{Poisson}(x_i, \\mu_{i,c})$$\n",
    "where $\\mu_{i, c}$ is the Poisson parameter for the i-th word in the c-th class.  Given the data $\\{x_i^{(1)}, \\cdots x_i^{(N)}\\}$, corresponding the counts of the i-th word in the documents in the c-th class, $\\mu_{i,c}$ is estimated as the mean of the data: $\\mu_{i,c} = \\frac{1}{N} \\sum_{n=1}^N x_i^{(n)}$.\n",
    "\n",
    "Finally, given the document $\\mathbf{x} = [x_1,\\cdots,x_D]$, the document class-conditional likelihood is:\n",
    "  $$ p(\\mathbf{x}|y=c) = \\prod_{i=1}^D p(x_i|y=c) = \\prod_{i=1}^D \\mathrm{Poisson}(x_i, \\mu_{i,c})$$\n",
    "or CCD log-likelihood is\n",
    "  $$ \\log p(\\mathbf{x}|y=c) = \\sum_{i=1}^D \\log \\mathrm{Poisson}(x_i, \\mu_{i,c})$$\n",
    "\n",
    "Write a class for the Poisson Naive Bayes model.  Starting with the `GaussBayes` class from lecture as the template, you only need to change the estimation of the parameters $\\mu_{i,c}$ and the computation of the log CCD."
   ]
  },
  {
   "cell_type": "code",
   "execution_count": 72,
   "metadata": {
    "ExecuteTime": {
     "start_time": "2023-09-13T03:00:25.767414900Z"
    },
    "collapsed": false
   },
   "outputs": [],
   "source": [
    "### INSERT YOUR CODE HERE"
   ]
  },
  {
   "cell_type": "code",
   "execution_count": 40,
   "metadata": {
    "collapsed": false,
    "ExecuteTime": {
     "end_time": "2023-09-15T05:04:39.120833500Z",
     "start_time": "2023-09-15T05:04:39.072575400Z"
    }
   },
   "outputs": [],
   "source": [
    "# multivariate Gaussian functions\n",
    "from scipy.stats import multivariate_normal as mvn\n",
    "from scipy.special import logsumexp\n",
    "\n",
    "class PoissonBayes:\n",
    "    # constructor: \n",
    "    #  alpha is the regularizer on the covariance matrix: Sigma + alpha*I\n",
    "    def __init__(self, alpha=0.0):\n",
    "        self.alpha = alpha\n",
    "    \n",
    "    # Fit the model: assumes classes are [0,1,2,...K-1]\n",
    "    # K is the max value in y\n",
    "    def fit(self, X, y):\n",
    "        # get the number of classes\n",
    "        K = max(y)+1\n",
    "        self.K = K\n",
    "        \n",
    "        # estimate mean and covariance\n",
    "        self.mu = []\n",
    "        self.Sigma = []\n",
    "        for c in range(K):\n",
    "            Xc = X[y==c]   # select samples for this class\n",
    "            # estimate the mean and covariance\n",
    "            self.mu.append( mean(Xc, axis=0) )\n",
    "            self.Sigma.append( cov(Xc, rowvar=False) + self.alpha*eye(len(Xc[0])) )\n",
    "            \n",
    "        # estimate class priors\n",
    "        tmp = []\n",
    "        for c in range(K):\n",
    "            tmp.append( count_nonzero(y==c) ) # number of Class c\n",
    "        self.pi = array(tmp) / len(y)  # divide by the total\n",
    "    \n",
    "    # compute the log CCD for class c, log p(x|y=c)\n",
    "    def compute_logccd(self, X, c):\n",
    "        #lx = mvn.logpdf(X, mean=self.mu[c], cov=self.Sigma[c],allow_singular=True)\n",
    "        lx = poisson.logpmf(X,mu=self.mu[c]) # expect shape (n,1) current (n,2000)\n",
    "        lx= sum(lx,axis=1)\n",
    "       # print(lx.shape)\n",
    "        return lx\n",
    "    \n",
    "    # compute the joint log-likelihood: log p(x,y)\n",
    "    def compute_logjoint(self, X):\n",
    "        # compute log joint likelihood: log p(x|y) + log p(y)\n",
    "        jl = []\n",
    "        for c in range(self.K):\n",
    "            jl.append( self.compute_logccd(X, c) + log(self.pi[c]) )\n",
    "        \n",
    "        # p[i,c] = log p(X[i]|y=c)\n",
    "        p = stack( jl, axis=-1 )\n",
    "        return p\n",
    "        \n",
    "    # compute the posterior log-probability of each class given X\n",
    "    def predict_logproba(self, X):        \n",
    "        lp = self.compute_logjoint(X)  # compute joint loglikelihoods\n",
    "        lpx = logsumexp(lp, axis=1)    # compute log p(x) = log sum_c exp( log p(x,y))\n",
    "        return lp - lpx[:,newaxis]     # compute log posterior: log p(y|x) = log p(x,y) - log p(x)\n",
    "    \n",
    "    # compute the posterior probability of each class given X\n",
    "    def predict_proba(self, X):\n",
    "        return exp( self.predict_logproba(X) )\n",
    "    \n",
    "    # compute the most likely class given X\n",
    "    def predict(self, X):\n",
    "        lp = self.compute_logjoint(X)   # compute joint likelihoods\n",
    "        c = argmax(lp, axis=1)          # find the maximum\n",
    "        return c    "
   ]
  },
  {
   "cell_type": "code",
   "execution_count": null,
   "metadata": {
    "ExecuteTime": {
     "end_time": "2023-09-13T04:29:22.748077800Z",
     "start_time": "2023-09-13T04:29:22.747572100Z"
    }
   },
   "outputs": [],
   "source": []
  },
  {
   "cell_type": "markdown",
   "metadata": {},
   "source": [
    "Now test your Poisson NB model on the Newsgroup dataset."
   ]
  },
  {
   "cell_type": "code",
   "execution_count": 74,
   "metadata": {
    "ExecuteTime": {
     "end_time": "2023-09-13T04:29:23.871163Z",
     "start_time": "2023-09-13T04:29:23.855527400Z"
    }
   },
   "outputs": [],
   "source": [
    "### INSERT YOUR CODE HERE"
   ]
  },
  {
   "cell_type": "code",
   "execution_count": 46,
   "metadata": {
    "ExecuteTime": {
     "end_time": "2023-09-15T05:13:38.107954400Z",
     "start_time": "2023-09-15T05:13:37.316845400Z"
    }
   },
   "outputs": [
    {
     "name": "stdout",
     "output_type": "stream",
     "text": [
      "Train Shape (2034, 2000) Text Shape (1353, 2000)\n"
     ]
    }
   ],
   "source": [
    "# prepare data\n",
    "cntvect = feature_extraction.text.CountVectorizer(stop_words=\"english\",max_features=2000)\n",
    "cntvect.fit(traindata)\n",
    "trainX=cntvect.transform(traindata)\n",
    "testX=cntvect.transform(testdata)\n",
    "\n",
    "tf_trans = feature_extraction.text.TfidfTransformer(use_idf=True,norm=\"l1\")\n",
    "trainXtf = tf_trans.fit_transform(trainX)\n",
    "testXtf= tf_trans.fit_transform(testX)\n",
    "trainXtf = trainXtf.toarray()\n",
    "testXtf = testXtf.toarray()\n",
    "\n",
    "print(\"Train Shape {} Text Shape {}\".format(trainXtf.shape,testXtf.shape))"
   ]
  },
  {
   "cell_type": "code",
   "execution_count": 48,
   "metadata": {
    "collapsed": false,
    "ExecuteTime": {
     "end_time": "2023-09-15T05:13:52.165588700Z",
     "start_time": "2023-09-15T05:13:51.179442600Z"
    }
   },
   "outputs": [
    {
     "name": "stdout",
     "output_type": "stream",
     "text": [
      "accuracy:  0.24168514412416853\n"
     ]
    }
   ],
   "source": [
    "pnb = PoissonBayes(alpha=0.1)\n",
    "pnb.fit(trainXtf,trainY)\n",
    "predYPnb = pnb.predict(testXtf) \n",
    "res = metrics.accuracy_score(predYPnb,testY)\n",
    "print(\"accuracy: \",res)"
   ]
  },
  {
   "cell_type": "markdown",
   "metadata": {},
   "source": [
    "How does the Poisson NB model compare with the other models that you tested?  Is this a good model for documents?\n",
    "\n",
    "- **INSERT YOUR ANSWER HERE**\n",
    "\n",
    "The result from the poisson NB model is much lower than the above the model. As such, this is not a good model for documents."
   ]
  },
  {
   "cell_type": "code",
   "execution_count": null,
   "metadata": {
    "ExecuteTime": {
     "end_time": "2023-09-13T03:00:25.832404500Z",
     "start_time": "2023-09-13T03:00:25.792597500Z"
    }
   },
   "outputs": [],
   "source": []
  }
 ],
 "metadata": {
  "kernelspec": {
   "display_name": "Python 3 (ipykernel)",
   "language": "python",
   "name": "python3"
  },
  "language_info": {
   "codemirror_mode": {
    "name": "ipython",
    "version": 3
   },
   "file_extension": ".py",
   "mimetype": "text/x-python",
   "name": "python",
   "nbconvert_exporter": "python",
   "pygments_lexer": "ipython3",
   "version": "3.11.4"
  },
  "toc": {
   "base_numbering": 1,
   "nav_menu": {},
   "number_sections": true,
   "sideBar": true,
   "skip_h1_title": false,
   "title_cell": "Table of Contents",
   "title_sidebar": "Contents",
   "toc_cell": false,
   "toc_position": {},
   "toc_section_display": true,
   "toc_window_display": true
  }
 },
 "nbformat": 4,
 "nbformat_minor": 1
}
