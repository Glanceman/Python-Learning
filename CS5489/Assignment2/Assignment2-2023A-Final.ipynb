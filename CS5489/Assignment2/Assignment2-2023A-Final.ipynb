{
 "cells": [
  {
   "cell_type": "markdown",
   "metadata": {},
   "source": [
    "**Name:** Xian Jia Le ,Ben\n",
    "\n",
    "**EID:** 56214537\n",
    "\n",
    "**Kaggle Team Name:** Glanceman"
   ]
  },
  {
   "cell_type": "markdown",
   "metadata": {},
   "source": [
    "# CS5489 - Assignment 2 - Urban Sound Tagging\n",
    "Due date: see Assignment 2 on Canvas"
   ]
  },
  {
   "cell_type": "markdown",
   "metadata": {},
   "source": [
    "# FINAL SOLUTION"
   ]
  },
  {
   "cell_type": "code",
   "execution_count": null,
   "metadata": {
    "ExecuteTime": {
     "end_time": "2023-10-06T13:04:44.458060Z",
     "start_time": "2023-10-06T13:04:43.826465Z"
    }
   },
   "outputs": [],
   "source": [
    "%matplotlib inline\n",
    "import matplotlib_inline   # setup output image format\n",
    "matplotlib_inline.backend_inline.set_matplotlib_formats('svg')\n",
    "import matplotlib.pyplot as plt\n",
    "import matplotlib\n",
    "from numpy import *\n",
    "from sklearn import *\n",
    "from scipy import stats\n",
    "random.seed(100)\n",
    "import csv\n",
    "from scipy import io\n",
    "import pickle\n",
    "from IPython.display import Audio, display"
   ]
  },
  {
   "cell_type": "code",
   "execution_count": null,
   "metadata": {
    "ExecuteTime": {
     "end_time": "2023-10-06T13:04:44.461625Z",
     "start_time": "2023-10-06T13:04:44.459454Z"
    }
   },
   "outputs": [],
   "source": [
    "def showAudio(info):\n",
    "    myfile = 'musicmp3/' + info['fname'] + '.mp3'\n",
    "    if os.path.exists(myfile):\n",
    "        display(Audio(myfile))\n",
    "    else:\n",
    "        print(\"*** mp3 file \" + myfile + \" could not be found ***\")\n",
    "\n",
    "def load_pickle(fname):\n",
    "    f = open(fname, 'rb')\n",
    "    out = pickle.load(f)\n",
    "    f.close()\n",
    "    return out"
   ]
  },
  {
   "cell_type": "code",
   "execution_count": null,
   "metadata": {
    "ExecuteTime": {
     "end_time": "2023-10-06T13:04:44.838906Z",
     "start_time": "2023-10-06T13:04:44.507611Z"
    }
   },
   "outputs": [],
   "source": [
    "train_tags  = load_pickle('sounddata/train_tags.pickle3')\n",
    "train_mfccs = load_pickle('sounddata/train_mfccs.pickle3')\n",
    "train_mels  = load_pickle('sounddata/train_mels.pickle3')\n",
    "train_info  = load_pickle('sounddata/train_info.pickle3')\n",
    "\n",
    "test_mfccs = load_pickle('sounddata/test_mfccs.pickle3')\n",
    "test_mels  = load_pickle('sounddata/test_mels.pickle3')\n",
    "test_info  = load_pickle('sounddata/test_info.pickle3')"
   ]
  },
  {
   "cell_type": "code",
   "execution_count": null,
   "metadata": {
    "ExecuteTime": {
     "end_time": "2023-10-06T13:04:44.962829Z",
     "start_time": "2023-10-06T13:04:44.960334Z"
    }
   },
   "outputs": [],
   "source": [
    "# compute delta MFCCs\n",
    "def compute_delta_mfccs(mfccs):\n",
    "    dmfccs = []\n",
    "    for m in mfccs:\n",
    "        tmp = m[1:] - m[0:-1]\n",
    "        dm = hstack((m[0:-1], tmp))\n",
    "        dmfccs.append(dm)\n",
    "    return dmfccs"
   ]
  },
  {
   "cell_type": "code",
   "execution_count": null,
   "metadata": {
    "ExecuteTime": {
     "end_time": "2023-10-06T13:04:45.692773Z",
     "start_time": "2023-10-06T13:04:45.635160Z"
    }
   },
   "outputs": [],
   "source": [
    "train_dmfccs = compute_delta_mfccs(train_mfccs)\n",
    "test_dmfccs  = compute_delta_mfccs(test_mfccs)"
   ]
  },
  {
   "cell_type": "code",
   "execution_count": null,
   "metadata": {
    "ExecuteTime": {
     "end_time": "2023-10-06T13:04:46.079337Z",
     "start_time": "2023-10-06T13:04:46.071021Z"
    },
    "scrolled": false
   },
   "outputs": [],
   "source": [
    "alltagnames, alltagnames_counts = unique(concatenate(train_tags), return_counts=True)\n",
    "for a,b in zip(alltagnames, alltagnames_counts):\n",
    "    print(\"{}: {}\".format(a, b))\n",
    "\n",
    "# remove some tags\n",
    "blacklist = ['2-3_hoe-ram_presence', '2-4_pile-driver_presence', '5-2_car-alarm_presence', '5-X_other-unknown-alert-signal_presence', '6-3_ice-cream-truck_presence', '7-3_large-crowd_presence', '7-X_other-unknown-human-voice_presence']\n",
    "tagnames = [t for t in alltagnames if t not in blacklist]\n",
    "print(tagnames)"
   ]
  },
  {
   "cell_type": "code",
   "execution_count": null,
   "metadata": {
    "ExecuteTime": {
     "end_time": "2023-10-06T13:04:46.680838Z",
     "start_time": "2023-10-06T13:04:46.678538Z"
    }
   },
   "outputs": [],
   "source": [
    "# convert list of tags into binary class labels\n",
    "def tags2class(tags, tagnames):\n",
    "    b = zeros(shape=(len(tags), len(tagnames)))\n",
    "    for i,t in enumerate(tags):\n",
    "        for j,n in enumerate(tagnames):\n",
    "            if n in t:\n",
    "                b[i,j] = 1\n",
    "    return b"
   ]
  },
  {
   "cell_type": "code",
   "execution_count": null,
   "metadata": {
    "ExecuteTime": {
     "end_time": "2023-10-06T13:04:48.621227Z",
     "start_time": "2023-10-06T13:04:48.605411Z"
    }
   },
   "outputs": [],
   "source": [
    "# train_classes[i,j] = absence/presence of the j-th tag in the i-th sound\n",
    "train_classes = tags2class(train_tags, tagnames)"
   ]
  },
  {
   "cell_type": "code",
   "execution_count": null,
   "metadata": {
    "ExecuteTime": {
     "end_time": "2023-10-06T13:04:49.257016Z",
     "start_time": "2023-10-06T13:04:49.251577Z"
    }
   },
   "outputs": [],
   "source": [
    "import csv\n",
    "\n",
    "def write_csv_kaggle_tags(fname, tagnames, Yscores):\n",
    "    # header\n",
    "    tmp = [['Id']]\n",
    "    for t in tagnames:\n",
    "        tmp[0].append(t)    \n",
    "    \n",
    "    # add ID numbers for each Y, and usage if necessary\n",
    "    for i in range(len(Yscores)):\n",
    "        tmp2 = [(i+1)]\n",
    "        for t in range(len(tagnames)):\n",
    "            tmp2.append(Yscores[i,t])\n",
    "        \n",
    "        tmp.append(tmp2)\n",
    "        \n",
    "    # write CSV file\n",
    "    f = open(fname, 'w')\n",
    "    writer = csv.writer(f)\n",
    "    writer.writerows(tmp)\n",
    "    f.close()"
   ]
  },
  {
   "cell_type": "markdown",
   "metadata": {
    "collapsed": true
   },
   "source": [
    "## YOUR CODE and DOCUMENTATION HERE"
   ]
  },
  {
   "cell_type": "code",
   "execution_count": null,
   "metadata": {},
   "outputs": [],
   "source": [
    "from sklearn import linear_model,cluster\n",
    "from sklearn import feature_extraction\n",
    "\n",
    "def bow_transform(model, mfccs, num_components=100):\n",
    "    numwords = num_components #100\n",
    "    bows = zeros((len(mfccs), numwords))\n",
    "    for i in range(len(mfccs)): # loop tracks\n",
    "        w = model.predict(mfccs[i]) # predict track class \n",
    "        bw = bincount(w, minlength=numwords) # count num wthin first 100\n",
    "        bows[i,:] = bw # append the count for 2794\n",
    "    return bows\n",
    "\n",
    "def logistic_train_predict(trainX,trainY,testX,fileName):\n",
    "    tagmodels_log = {}\n",
    "    for i,t in enumerate(tagnames): #loop tag name\n",
    "        print('training {} - {}'.format(i, t))\n",
    "        myY = trainY[:,i].ravel() # get the corrspoend class col , flatten without copy\n",
    "        lr = linear_model.LogisticRegressionCV(Cs=logspace(-4,4,20),max_iter=1000, cv=5, class_weight='balanced', solver='liblinear')\n",
    "        lr.fit(trainX, myY)\n",
    "        tagmodels_log[t] = lr #store tag classifer\n",
    "\n",
    "    # # predict train\n",
    "    # train_predscore = zeros(shape=(len(train_mfccs), len(tagnames)))\n",
    "\n",
    "    # for i,t in enumerate(tagnames): # do prediction for each class \n",
    "    #     print('predicting {} - {}'.format(i, t))\n",
    "\n",
    "    #     tmp = tagmodels_log[t].decision_function(trainX)\n",
    "    #     train_predscore[:,i] = tmp\n",
    "\n",
    "    # plot_roc(tagnames, trainY, train_predscore) #test with training data\n",
    "\n",
    "    test_predscore = zeros(shape=(len(test_mfccs), len(tagnames)))\n",
    "\n",
    "    for i,t in enumerate(tagnames):\n",
    "        print('predicting {} - {}'.format(i, t))\n",
    "\n",
    "        tmp = tagmodels_log[t].decision_function(testX)\n",
    "        test_predscore[:,i] = tmp\n",
    "\n",
    "    # write result \n",
    "    write_csv_kaggle_tags(\"output/\"+fileName+\".csv\", tagnames, test_predscore)"
   ]
  },
  {
   "cell_type": "code",
   "execution_count": null,
   "metadata": {},
   "outputs": [],
   "source": [
    "def compute_delta_mfccs2(mfccs):\n",
    "    dmfccs = []\n",
    "    for m in mfccs: # loop audio audio\n",
    "        tmpPrev =m[:-1]-m[1:]\n",
    "        tmpNext = m[1:] - m[0:-1] # subtract the previous one -> get variation over the time (assume time 0 is 0)\n",
    "        dm = hstack((tmpPrev[:-1], m[1:-1], tmpNext[1:])) #first 20 is original freq value || 21 is variation for next \n",
    "        dmfccs.append(dm)\n",
    "    return dmfccs\n",
    "train_dmfccs2 = compute_delta_mfccs2(train_mfccs)\n",
    "test_dmfccs2  = compute_delta_mfccs2(test_mfccs)\n",
    "all_dmfccs2 = vstack(train_dmfccs2)\n",
    "print(all_dmfccs2.shape)"
   ]
  },
  {
   "cell_type": "code",
   "execution_count": null,
   "metadata": {},
   "outputs": [],
   "source": [
    "\n",
    "\n",
    "km = cluster.KMeans(n_clusters=124, random_state=4487)\n",
    "km.fit(all_dmfccs2[0::100])  # subsample by 10 to make it faster\n",
    "km.cluster_centers_\n",
    "print(f\"number of cluster {km.cluster_centers_.shape}\")\n",
    "train_km_bow = bow_transform(km, train_dmfccs2,km.cluster_centers_.shape[0])\n",
    "test_km_bow  = bow_transform(km, test_dmfccs2,km.cluster_centers_.shape[0])\n",
    "\n",
    "print(f\"shape = {train_km_bow.shape}\")\n",
    "print(f\"shape = {train_km_bow.shape}\")\n",
    "\n",
    "tf_trans = feature_extraction.text.TfidfTransformer(use_idf=True, norm='l1')\n",
    "train_km_Xtf = tf_trans.fit_transform(train_km_bow )\n",
    "test_km_Xtf  = tf_trans.transform(test_km_bow )\n",
    "\n",
    "#preidcition\n",
    "logistic_train_predict(trainX=train_km_Xtf,trainY=train_classes,testX=test_km_Xtf,fileName=\"sound_KM+Logistic\")"
   ]
  },
  {
   "cell_type": "code",
   "execution_count": null,
   "metadata": {},
   "outputs": [],
   "source": []
  },
  {
   "cell_type": "code",
   "execution_count": null,
   "metadata": {},
   "outputs": [],
   "source": []
  },
  {
   "cell_type": "code",
   "execution_count": null,
   "metadata": {},
   "outputs": [],
   "source": []
  },
  {
   "cell_type": "code",
   "execution_count": null,
   "metadata": {},
   "outputs": [],
   "source": []
  },
  {
   "cell_type": "code",
   "execution_count": null,
   "metadata": {},
   "outputs": [],
   "source": []
  },
  {
   "cell_type": "code",
   "execution_count": null,
   "metadata": {},
   "outputs": [],
   "source": []
  },
  {
   "cell_type": "code",
   "execution_count": null,
   "metadata": {},
   "outputs": [],
   "source": []
  }
 ],
 "metadata": {
  "anaconda-cloud": {},
  "kernelspec": {
   "display_name": "Python 3 (ipykernel)",
   "language": "python",
   "name": "python3"
  },
  "language_info": {
   "codemirror_mode": {
    "name": "ipython",
    "version": 3
   },
   "file_extension": ".py",
   "mimetype": "text/x-python",
   "name": "python",
   "nbconvert_exporter": "python",
   "pygments_lexer": "ipython3",
   "version": "3.9.15"
  },
  "toc": {
   "base_numbering": 1,
   "nav_menu": {},
   "number_sections": true,
   "sideBar": true,
   "skip_h1_title": false,
   "title_cell": "Table of Contents",
   "title_sidebar": "Contents",
   "toc_cell": false,
   "toc_position": {},
   "toc_section_display": true,
   "toc_window_display": false
  }
 },
 "nbformat": 4,
 "nbformat_minor": 1
}
