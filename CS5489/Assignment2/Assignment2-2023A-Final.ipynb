{
 "cells": [
  {
   "cell_type": "markdown",
   "metadata": {},
   "source": [
    "**Name:** Xian Jia Le ,Ben\n",
    "\n",
    "**EID:** 56214537\n",
    "\n",
    "**Kaggle Team Name:** Glanceman"
   ]
  },
  {
   "cell_type": "markdown",
   "metadata": {},
   "source": [
    "# CS5489 - Assignment 2 - Urban Sound Tagging\n",
    "Due date: see Assignment 2 on Canvas"
   ]
  },
  {
   "cell_type": "markdown",
   "metadata": {},
   "source": [
    "# FINAL SOLUTION"
   ]
  },
  {
   "cell_type": "code",
   "execution_count": 1,
   "metadata": {
    "ExecuteTime": {
     "end_time": "2023-10-06T13:04:44.458060Z",
     "start_time": "2023-10-06T13:04:43.826465Z"
    }
   },
   "outputs": [],
   "source": [
    "%matplotlib inline\n",
    "import matplotlib_inline   # setup output image format\n",
    "matplotlib_inline.backend_inline.set_matplotlib_formats('svg')\n",
    "import matplotlib.pyplot as plt\n",
    "import matplotlib\n",
    "from numpy import *\n",
    "from sklearn import *\n",
    "from scipy import stats\n",
    "random.seed(100)\n",
    "import csv\n",
    "from scipy import io\n",
    "import pickle\n",
    "from IPython.display import Audio, display"
   ]
  },
  {
   "cell_type": "code",
   "execution_count": 2,
   "metadata": {
    "ExecuteTime": {
     "end_time": "2023-10-06T13:04:44.461625Z",
     "start_time": "2023-10-06T13:04:44.459454Z"
    }
   },
   "outputs": [],
   "source": [
    "def showAudio(info):\n",
    "    myfile = 'musicmp3/' + info['fname'] + '.mp3'\n",
    "    if os.path.exists(myfile):\n",
    "        display(Audio(myfile))\n",
    "    else:\n",
    "        print(\"*** mp3 file \" + myfile + \" could not be found ***\")\n",
    "\n",
    "def load_pickle(fname):\n",
    "    f = open(fname, 'rb')\n",
    "    out = pickle.load(f)\n",
    "    f.close()\n",
    "    return out"
   ]
  },
  {
   "cell_type": "code",
   "execution_count": 3,
   "metadata": {
    "ExecuteTime": {
     "end_time": "2023-10-06T13:04:44.838906Z",
     "start_time": "2023-10-06T13:04:44.507611Z"
    }
   },
   "outputs": [],
   "source": [
    "train_tags  = load_pickle('sounddata/train_tags.pickle3')\n",
    "train_mfccs = load_pickle('sounddata/train_mfccs.pickle3')\n",
    "train_mels  = load_pickle('sounddata/train_mels.pickle3')\n",
    "train_info  = load_pickle('sounddata/train_info.pickle3')\n",
    "\n",
    "test_mfccs = load_pickle('sounddata/test_mfccs.pickle3')\n",
    "test_mels  = load_pickle('sounddata/test_mels.pickle3')\n",
    "test_info  = load_pickle('sounddata/test_info.pickle3')"
   ]
  },
  {
   "cell_type": "code",
   "execution_count": 4,
   "metadata": {
    "ExecuteTime": {
     "end_time": "2023-10-06T13:04:44.962829Z",
     "start_time": "2023-10-06T13:04:44.960334Z"
    }
   },
   "outputs": [],
   "source": [
    "# compute delta MFCCs\n",
    "def compute_delta_mfccs(mfccs):\n",
    "    dmfccs = []\n",
    "    for m in mfccs:\n",
    "        tmp = m[1:] - m[0:-1]\n",
    "        dm = hstack((m[0:-1], tmp))\n",
    "        dmfccs.append(dm)\n",
    "    return dmfccs"
   ]
  },
  {
   "cell_type": "code",
   "execution_count": 5,
   "metadata": {
    "ExecuteTime": {
     "end_time": "2023-10-06T13:04:45.692773Z",
     "start_time": "2023-10-06T13:04:45.635160Z"
    }
   },
   "outputs": [],
   "source": [
    "train_dmfccs = compute_delta_mfccs(train_mfccs)\n",
    "test_dmfccs  = compute_delta_mfccs(test_mfccs)"
   ]
  },
  {
   "cell_type": "code",
   "execution_count": 6,
   "metadata": {
    "ExecuteTime": {
     "end_time": "2023-10-06T13:04:46.079337Z",
     "start_time": "2023-10-06T13:04:46.071021Z"
    },
    "scrolled": false
   },
   "outputs": [
    {
     "name": "stdout",
     "output_type": "stream",
     "text": [
      "1-1_small-sounding-engine_presence: 193\n",
      "1-2_medium-sounding-engine_presence: 616\n",
      "1-3_large-sounding-engine_presence: 775\n",
      "1-X_engine-of-uncertain-size_presence: 307\n",
      "1_engine_presence: 1492\n",
      "2-1_rock-drill_presence: 264\n",
      "2-2_jackhammer_presence: 179\n",
      "2-3_hoe-ram_presence: 79\n",
      "2-4_pile-driver_presence: 55\n",
      "2-X_other-unknown-impact-machinery_presence: 255\n",
      "2_machinery-impact_presence: 650\n",
      "3-1_non-machinery-impact_presence: 349\n",
      "3_non-machinery-impact_presence: 349\n",
      "4-1_chainsaw_presence: 101\n",
      "4-2_small-medium-rotating-saw_presence: 100\n",
      "4-3_large-rotating-saw_presence: 96\n",
      "4-X_other-unknown-powered-saw_presence: 79\n",
      "4_powered-saw_presence: 267\n",
      "5-1_car-horn_presence: 286\n",
      "5-2_car-alarm_presence: 28\n",
      "5-3_siren_presence: 174\n",
      "5-4_reverse-beeper_presence: 175\n",
      "5-X_other-unknown-alert-signal_presence: 70\n",
      "5_alert-signal_presence: 635\n",
      "6-1_stationary-music_presence: 84\n",
      "6-2_mobile-music_presence: 26\n",
      "6-3_ice-cream-truck_presence: 6\n",
      "6-X_music-from-uncertain-source_presence: 73\n",
      "6_music_presence: 150\n",
      "7-1_person-or-small-group-talking_presence: 886\n",
      "7-2_person-or-small-group-shouting_presence: 113\n",
      "7-3_large-crowd_presence: 52\n",
      "7-4_amplified-speech_presence: 11\n",
      "7-X_other-unknown-human-voice_presence: 114\n",
      "7_human-voice_presence: 977\n",
      "8-1_dog-barking-whining_presence: 157\n",
      "8_dog_presence: 157\n",
      "['1-1_small-sounding-engine_presence', '1-2_medium-sounding-engine_presence', '1-3_large-sounding-engine_presence', '1-X_engine-of-uncertain-size_presence', '1_engine_presence', '2-1_rock-drill_presence', '2-2_jackhammer_presence', '2-X_other-unknown-impact-machinery_presence', '2_machinery-impact_presence', '3-1_non-machinery-impact_presence', '3_non-machinery-impact_presence', '4-1_chainsaw_presence', '4-2_small-medium-rotating-saw_presence', '4-3_large-rotating-saw_presence', '4-X_other-unknown-powered-saw_presence', '4_powered-saw_presence', '5-1_car-horn_presence', '5-3_siren_presence', '5-4_reverse-beeper_presence', '5_alert-signal_presence', '6-1_stationary-music_presence', '6-2_mobile-music_presence', '6-X_music-from-uncertain-source_presence', '6_music_presence', '7-1_person-or-small-group-talking_presence', '7-2_person-or-small-group-shouting_presence', '7-4_amplified-speech_presence', '7_human-voice_presence', '8-1_dog-barking-whining_presence', '8_dog_presence']\n"
     ]
    }
   ],
   "source": [
    "alltagnames, alltagnames_counts = unique(concatenate(train_tags), return_counts=True)\n",
    "for a,b in zip(alltagnames, alltagnames_counts):\n",
    "    print(\"{}: {}\".format(a, b))\n",
    "\n",
    "# remove some tags\n",
    "blacklist = ['2-3_hoe-ram_presence', '2-4_pile-driver_presence', '5-2_car-alarm_presence', '5-X_other-unknown-alert-signal_presence', '6-3_ice-cream-truck_presence', '7-3_large-crowd_presence', '7-X_other-unknown-human-voice_presence']\n",
    "tagnames = [t for t in alltagnames if t not in blacklist]\n",
    "print(tagnames)"
   ]
  },
  {
   "cell_type": "code",
   "execution_count": 7,
   "metadata": {
    "ExecuteTime": {
     "end_time": "2023-10-06T13:04:46.680838Z",
     "start_time": "2023-10-06T13:04:46.678538Z"
    }
   },
   "outputs": [],
   "source": [
    "# convert list of tags into binary class labels\n",
    "def tags2class(tags, tagnames):\n",
    "    b = zeros(shape=(len(tags), len(tagnames)))\n",
    "    for i,t in enumerate(tags):\n",
    "        for j,n in enumerate(tagnames):\n",
    "            if n in t:\n",
    "                b[i,j] = 1\n",
    "    return b"
   ]
  },
  {
   "cell_type": "code",
   "execution_count": 8,
   "metadata": {
    "ExecuteTime": {
     "end_time": "2023-10-06T13:04:48.621227Z",
     "start_time": "2023-10-06T13:04:48.605411Z"
    }
   },
   "outputs": [],
   "source": [
    "# train_classes[i,j] = absence/presence of the j-th tag in the i-th sound\n",
    "train_classes = tags2class(train_tags, tagnames)"
   ]
  },
  {
   "cell_type": "code",
   "execution_count": 9,
   "metadata": {
    "ExecuteTime": {
     "end_time": "2023-10-06T13:04:49.257016Z",
     "start_time": "2023-10-06T13:04:49.251577Z"
    }
   },
   "outputs": [],
   "source": [
    "import csv\n",
    "\n",
    "def write_csv_kaggle_tags(fname, tagnames, Yscores):\n",
    "    # header\n",
    "    tmp = [['Id']]\n",
    "    for t in tagnames:\n",
    "        tmp[0].append(t)    \n",
    "    \n",
    "    # add ID numbers for each Y, and usage if necessary\n",
    "    for i in range(len(Yscores)):\n",
    "        tmp2 = [(i+1)]\n",
    "        for t in range(len(tagnames)):\n",
    "            tmp2.append(Yscores[i,t])\n",
    "        \n",
    "        tmp.append(tmp2)\n",
    "        \n",
    "    # write CSV file\n",
    "    f = open(fname, 'w')\n",
    "    writer = csv.writer(f)\n",
    "    writer.writerows(tmp)\n",
    "    f.close()"
   ]
  },
  {
   "cell_type": "markdown",
   "metadata": {
    "collapsed": true
   },
   "source": [
    "## YOUR CODE and DOCUMENTATION HERE"
   ]
  },
  {
   "cell_type": "code",
   "execution_count": 10,
   "metadata": {},
   "outputs": [],
   "source": [
    "from sklearn import linear_model,cluster\n",
    "from sklearn import feature_extraction\n",
    "\n",
    "def bow_transform(model, mfccs, num_components=100):\n",
    "    numwords = num_components #100\n",
    "    bows = zeros((len(mfccs), numwords))\n",
    "    for i in range(len(mfccs)): # loop tracks\n",
    "        w = model.predict(mfccs[i]) # predict track class \n",
    "        bw = bincount(w, minlength=numwords) # count num wthin first 100\n",
    "        bows[i,:] = bw # append the count for 2794\n",
    "    return bows\n",
    "\n",
    "def logistic_train_predict(trainX,trainY,testX,fileName):\n",
    "    tagmodels_log = {}\n",
    "    for i,t in enumerate(tagnames): #loop tag name\n",
    "        print('training {} - {}'.format(i, t))\n",
    "        myY = trainY[:,i].ravel() # get the corrspoend class col , flatten without copy\n",
    "        lr = linear_model.LogisticRegressionCV(Cs=logspace(-4,4,20),max_iter=1000, cv=5, class_weight='balanced', solver='liblinear')\n",
    "        lr.fit(trainX, myY)\n",
    "        tagmodels_log[t] = lr #store tag classifer\n",
    "\n",
    "    # # predict train\n",
    "    # train_predscore = zeros(shape=(len(train_mfccs), len(tagnames)))\n",
    "\n",
    "    # for i,t in enumerate(tagnames): # do prediction for each class \n",
    "    #     print('predicting {} - {}'.format(i, t))\n",
    "\n",
    "    #     tmp = tagmodels_log[t].decision_function(trainX)\n",
    "    #     train_predscore[:,i] = tmp\n",
    "\n",
    "    # plot_roc(tagnames, trainY, train_predscore) #test with training data\n",
    "\n",
    "    test_predscore = zeros(shape=(len(test_mfccs), len(tagnames)))\n",
    "\n",
    "    for i,t in enumerate(tagnames):\n",
    "        print('predicting {} - {}'.format(i, t))\n",
    "\n",
    "        tmp = tagmodels_log[t].decision_function(testX)\n",
    "        test_predscore[:,i] = tmp\n",
    "\n",
    "    # write result \n",
    "    write_csv_kaggle_tags(\"output/\"+fileName+\".csv\", tagnames, test_predscore)"
   ]
  },
  {
   "cell_type": "markdown",
   "metadata": {},
   "source": [
    "**Feature Engineer**"
   ]
  },
  {
   "cell_type": "code",
   "execution_count": 11,
   "metadata": {},
   "outputs": [
    {
     "name": "stdout",
     "output_type": "stream",
     "text": [
      "(1198613, 60)\n"
     ]
    }
   ],
   "source": [
    "def compute_delta_mfccs2(mfccs):\n",
    "    dmfccs = []\n",
    "    for m in mfccs: # loop audio audio\n",
    "        tmpPrev =m[:-1]-m[1:]\n",
    "        tmpNext = m[1:] - m[0:-1] # subtract the previous one -> get variation over the time (assume time 0 is 0)\n",
    "        dm = hstack((tmpPrev[:-1], m[1:-1], tmpNext[1:])) #first 20 is original freq value || 21 is variation for next \n",
    "        dmfccs.append(dm)\n",
    "    return dmfccs\n",
    "train_dmfccs2 = compute_delta_mfccs2(train_mfccs)\n",
    "test_dmfccs2  = compute_delta_mfccs2(test_mfccs)\n",
    "all_dmfccs2 = vstack(train_dmfccs2)\n",
    "print(all_dmfccs2.shape)"
   ]
  },
  {
   "cell_type": "markdown",
   "metadata": {},
   "source": [
    "**Classification** kmeans + logistic "
   ]
  },
  {
   "cell_type": "code",
   "execution_count": 12,
   "metadata": {},
   "outputs": [
    {
     "name": "stderr",
     "output_type": "stream",
     "text": [
      "d:\\anaconda3\\Lib\\site-packages\\sklearn\\cluster\\_kmeans.py:1412: FutureWarning: The default value of `n_init` will change from 10 to 'auto' in 1.4. Set the value of `n_init` explicitly to suppress the warning\n",
      "  super()._check_params_vs_input(X, default_n_init=10)\n"
     ]
    },
    {
     "name": "stdout",
     "output_type": "stream",
     "text": [
      "number of cluster (124, 60)\n",
      "shape = (2794, 124)\n",
      "shape = (2794, 124)\n",
      "training 0 - 1-1_small-sounding-engine_presence\n",
      "training 1 - 1-2_medium-sounding-engine_presence\n",
      "training 2 - 1-3_large-sounding-engine_presence\n",
      "training 3 - 1-X_engine-of-uncertain-size_presence\n",
      "training 4 - 1_engine_presence\n",
      "training 5 - 2-1_rock-drill_presence\n",
      "training 6 - 2-2_jackhammer_presence\n",
      "training 7 - 2-X_other-unknown-impact-machinery_presence\n",
      "training 8 - 2_machinery-impact_presence\n",
      "training 9 - 3-1_non-machinery-impact_presence\n",
      "training 10 - 3_non-machinery-impact_presence\n",
      "training 11 - 4-1_chainsaw_presence\n",
      "training 12 - 4-2_small-medium-rotating-saw_presence\n",
      "training 13 - 4-3_large-rotating-saw_presence\n",
      "training 14 - 4-X_other-unknown-powered-saw_presence\n",
      "training 15 - 4_powered-saw_presence\n",
      "training 16 - 5-1_car-horn_presence\n",
      "training 17 - 5-3_siren_presence\n",
      "training 18 - 5-4_reverse-beeper_presence\n",
      "training 19 - 5_alert-signal_presence\n",
      "training 20 - 6-1_stationary-music_presence\n",
      "training 21 - 6-2_mobile-music_presence\n",
      "training 22 - 6-X_music-from-uncertain-source_presence\n",
      "training 23 - 6_music_presence\n",
      "training 24 - 7-1_person-or-small-group-talking_presence\n",
      "training 25 - 7-2_person-or-small-group-shouting_presence\n",
      "training 26 - 7-4_amplified-speech_presence\n",
      "training 27 - 7_human-voice_presence\n",
      "training 28 - 8-1_dog-barking-whining_presence\n",
      "training 29 - 8_dog_presence\n",
      "predicting 0 - 1-1_small-sounding-engine_presence\n",
      "predicting 1 - 1-2_medium-sounding-engine_presence\n",
      "predicting 2 - 1-3_large-sounding-engine_presence\n",
      "predicting 3 - 1-X_engine-of-uncertain-size_presence\n",
      "predicting 4 - 1_engine_presence\n",
      "predicting 5 - 2-1_rock-drill_presence\n",
      "predicting 6 - 2-2_jackhammer_presence\n",
      "predicting 7 - 2-X_other-unknown-impact-machinery_presence\n",
      "predicting 8 - 2_machinery-impact_presence\n",
      "predicting 9 - 3-1_non-machinery-impact_presence\n",
      "predicting 10 - 3_non-machinery-impact_presence\n",
      "predicting 11 - 4-1_chainsaw_presence\n",
      "predicting 12 - 4-2_small-medium-rotating-saw_presence\n",
      "predicting 13 - 4-3_large-rotating-saw_presence\n",
      "predicting 14 - 4-X_other-unknown-powered-saw_presence\n",
      "predicting 15 - 4_powered-saw_presence\n",
      "predicting 16 - 5-1_car-horn_presence\n",
      "predicting 17 - 5-3_siren_presence\n",
      "predicting 18 - 5-4_reverse-beeper_presence\n",
      "predicting 19 - 5_alert-signal_presence\n",
      "predicting 20 - 6-1_stationary-music_presence\n",
      "predicting 21 - 6-2_mobile-music_presence\n",
      "predicting 22 - 6-X_music-from-uncertain-source_presence\n",
      "predicting 23 - 6_music_presence\n",
      "predicting 24 - 7-1_person-or-small-group-talking_presence\n",
      "predicting 25 - 7-2_person-or-small-group-shouting_presence\n",
      "predicting 26 - 7-4_amplified-speech_presence\n",
      "predicting 27 - 7_human-voice_presence\n",
      "predicting 28 - 8-1_dog-barking-whining_presence\n",
      "predicting 29 - 8_dog_presence\n"
     ]
    }
   ],
   "source": [
    "\n",
    "\n",
    "km = cluster.KMeans(n_clusters=124, random_state=4487)\n",
    "km.fit(all_dmfccs2[0::100])  # subsample by 10 to make it faster\n",
    "km.cluster_centers_\n",
    "print(f\"number of cluster {km.cluster_centers_.shape}\")\n",
    "train_km_bow = bow_transform(km, train_dmfccs2,km.cluster_centers_.shape[0])\n",
    "test_km_bow  = bow_transform(km, test_dmfccs2,km.cluster_centers_.shape[0])\n",
    "\n",
    "print(f\"shape = {train_km_bow.shape}\")\n",
    "print(f\"shape = {train_km_bow.shape}\")\n",
    "\n",
    "tf_trans = feature_extraction.text.TfidfTransformer(use_idf=True, norm='l1')\n",
    "train_km_Xtf = tf_trans.fit_transform(train_km_bow )\n",
    "test_km_Xtf  = tf_trans.transform(test_km_bow )\n",
    "\n",
    "#preidcition\n",
    "logistic_train_predict(trainX=train_km_Xtf,trainY=train_classes,testX=test_km_Xtf,fileName=\"sound_KM+Logistic_Final\")"
   ]
  },
  {
   "cell_type": "code",
   "execution_count": null,
   "metadata": {},
   "outputs": [],
   "source": []
  },
  {
   "cell_type": "code",
   "execution_count": null,
   "metadata": {},
   "outputs": [],
   "source": []
  },
  {
   "cell_type": "code",
   "execution_count": null,
   "metadata": {},
   "outputs": [],
   "source": []
  },
  {
   "cell_type": "code",
   "execution_count": null,
   "metadata": {},
   "outputs": [],
   "source": []
  },
  {
   "cell_type": "code",
   "execution_count": null,
   "metadata": {},
   "outputs": [],
   "source": []
  },
  {
   "cell_type": "code",
   "execution_count": null,
   "metadata": {},
   "outputs": [],
   "source": []
  },
  {
   "cell_type": "code",
   "execution_count": null,
   "metadata": {},
   "outputs": [],
   "source": []
  }
 ],
 "metadata": {
  "anaconda-cloud": {},
  "kernelspec": {
   "display_name": "Python 3 (ipykernel)",
   "language": "python",
   "name": "python3"
  },
  "language_info": {
   "codemirror_mode": {
    "name": "ipython",
    "version": 3
   },
   "file_extension": ".py",
   "mimetype": "text/x-python",
   "name": "python",
   "nbconvert_exporter": "python",
   "pygments_lexer": "ipython3",
   "version": "3.11.4"
  },
  "toc": {
   "base_numbering": 1,
   "nav_menu": {},
   "number_sections": true,
   "sideBar": true,
   "skip_h1_title": false,
   "title_cell": "Table of Contents",
   "title_sidebar": "Contents",
   "toc_cell": false,
   "toc_position": {},
   "toc_section_display": true,
   "toc_window_display": false
  }
 },
 "nbformat": 4,
 "nbformat_minor": 1
}
