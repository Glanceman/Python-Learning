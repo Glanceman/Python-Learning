{
 "cells": [
  {
   "cell_type": "code",
   "execution_count": 1,
   "id": "bb529b7f",
   "metadata": {},
   "outputs": [],
   "source": [
    "from sklearn import tree,datasets,preprocessing\n",
    "from sklearn.metrics import accuracy_score, confusion_matrix\n",
    "import numpy as np"
   ]
  },
  {
   "cell_type": "code",
   "execution_count": 2,
   "id": "039bb660",
   "metadata": {},
   "outputs": [],
   "source": [
    "iris=datasets.load_iris()"
   ]
  },
  {
   "cell_type": "code",
   "execution_count": 3,
   "id": "20050ae9",
   "metadata": {},
   "outputs": [
    {
     "name": "stdout",
     "output_type": "stream",
     "text": [
      "[5.1 3.5 1.4 0.2]   0\n",
      "['setosa' 'versicolor' 'virginica']\n"
     ]
    }
   ],
   "source": [
    "print(iris.data[0],\" \", iris.target[0])\n",
    "print(iris.target_names)"
   ]
  },
  {
   "cell_type": "code",
   "execution_count": 4,
   "id": "7fa0aca1",
   "metadata": {},
   "outputs": [
    {
     "name": "stdout",
     "output_type": "stream",
     "text": [
      "[0 1 2]\n"
     ]
    }
   ],
   "source": [
    "le = preprocessing.LabelEncoder()\n",
    "label=le.fit_transform(iris.target_names)\n",
    "print(label)"
   ]
  },
  {
   "cell_type": "code",
   "execution_count": 5,
   "id": "5b113170",
   "metadata": {},
   "outputs": [],
   "source": [
    "clf=tree.DecisionTreeClassifier(max_depth=3,criterion=\"entropy\")\n",
    "clf=clf.fit(iris.data,iris.target)"
   ]
  },
  {
   "cell_type": "code",
   "execution_count": 6,
   "id": "3573377f",
   "metadata": {},
   "outputs": [
    {
     "data": {
      "text/plain": [
       "'Iris.pdf'"
      ]
     },
     "execution_count": 6,
     "metadata": {},
     "output_type": "execute_result"
    }
   ],
   "source": [
    "import graphviz\n",
    "dot_data = tree.export_graphviz(clf,out_file=None,feature_names=iris.feature_names,class_names=iris.target_names, filled=True)\n",
    "graph=graphviz.Source(dot_data)\n",
    "graph.render(\"Iris\",view=True)"
   ]
  },
  {
   "attachments": {},
   "cell_type": "markdown",
   "id": "c32aa7c2",
   "metadata": {},
   "source": [
    "Prediction"
   ]
  },
  {
   "cell_type": "code",
   "execution_count": 13,
   "id": "c4deaf21",
   "metadata": {},
   "outputs": [
    {
     "name": "stdout",
     "output_type": "stream",
     "text": [
      "setosa\n"
     ]
    }
   ],
   "source": [
    "# XTest = np.array([\n",
    "#     [4.6,3.5,1.1,0.25],\n",
    "#     [5.7,2.5,2.8,1.2],\n",
    "#     [7.3,2.8,6.6,2.2],\n",
    "# ])\n",
    "XTest=iris.data\n",
    "Target=iris.target\n",
    "Prediction = clf.predict(XTest)\n",
    "print(iris.target_names[Prediction[0]])"
   ]
  },
  {
   "cell_type": "code",
   "execution_count": 14,
   "id": "078beb5c",
   "metadata": {},
   "outputs": [
    {
     "name": "stdout",
     "output_type": "stream",
     "text": [
      "Accurary Score 0.9733333333333334\n",
      "confusion matrix\n",
      "[[50  0  0]\n",
      " [ 0 47  3]\n",
      " [ 0  1 49]]\n"
     ]
    }
   ],
   "source": [
    "\n",
    "print(\"Accurary Score\",accuracy_score(Target,Prediction))\n",
    "print(\"confusion matrix\")\n",
    "print(confusion_matrix(Target,Prediction))"
   ]
  },
  {
   "cell_type": "code",
   "execution_count": 15,
   "id": "af9097e4",
   "metadata": {},
   "outputs": [
    {
     "name": "stdout",
     "output_type": "stream",
     "text": [
      "[[[50. 50. 50.]]\n",
      "\n",
      " [[50.  0.  0.]]\n",
      "\n",
      " [[ 0. 50. 50.]]\n",
      "\n",
      " [[ 0. 49.  5.]]\n",
      "\n",
      " [[ 0. 47.  1.]]\n",
      "\n",
      " [[ 0.  2.  4.]]\n",
      "\n",
      " [[ 0.  1. 45.]]\n",
      "\n",
      " [[ 0.  1.  2.]]\n",
      "\n",
      " [[ 0.  0. 43.]]]\n"
     ]
    }
   ],
   "source": [
    "print(clf.tree_.value)"
   ]
  },
  {
   "cell_type": "code",
   "execution_count": 16,
   "id": "0b9e90a7",
   "metadata": {},
   "outputs": [
    {
     "name": "stdout",
     "output_type": "stream",
     "text": [
      "[[1 1 0 ... 0 0 0]\n",
      " [1 1 0 ... 0 0 0]\n",
      " [1 1 0 ... 0 0 0]\n",
      " ...\n",
      " [1 0 1 ... 1 0 1]\n",
      " [1 0 1 ... 1 0 1]\n",
      " [1 0 1 ... 1 0 1]]\n"
     ]
    }
   ],
   "source": [
    "print(clf.decision_path(XTest).todense())"
   ]
  }
 ],
 "metadata": {
  "kernelspec": {
   "display_name": "base",
   "language": "python",
   "name": "python3"
  },
  "language_info": {
   "codemirror_mode": {
    "name": "ipython",
    "version": 3
   },
   "file_extension": ".py",
   "mimetype": "text/x-python",
   "name": "python",
   "nbconvert_exporter": "python",
   "pygments_lexer": "ipython3",
   "version": "3.9.13"
  },
  "vscode": {
   "interpreter": {
    "hash": "b09ec625f77bf4fd762565a912b97636504ad6ec901eb2d0f4cf5a7de23e1ee5"
   }
  }
 },
 "nbformat": 4,
 "nbformat_minor": 5
}
