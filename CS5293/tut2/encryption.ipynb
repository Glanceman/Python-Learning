{
 "cells": [
  {
   "cell_type": "markdown",
   "metadata": {},
   "source": [
    "# Understanding Different Modes of Block Cipher \n",
    "\n",
    "Consider two messages, each of which owns n blocks: $M_1 = m_1||m_2||...||m_n$ and $M_2 = m'_1||m_2||...||m_n$, where $M_1$ and $M_2$ differ only in the first block. For instance, \n",
    "\n",
    "$M_1$ = \"11335577 is my student ID. We will encrypt the message with different ways.\"  \n",
    "$M_2$ = \"22446688 is my student ID. We will encrypt the message with different ways.\"\n",
    "\n",
    "Which of the following statements hold? Assume the same key is used for all encryption.\n",
    "\n",
    "1) If $M_1$ and $M_2$ are encrypted using `Electronic Code Book (ECB)`, none of the cipher text blocks will repeat between each message.\n",
    "2) If $M_1$ and $M_2$ are encrypted using `Cipher Block Chaining (CBC)`, but the same Initialization Vector (IV) is used for encrypting both messages, none of the cipher text blocks will repeat between each message."
   ]
  },
  {
   "cell_type": "code",
   "execution_count": 2,
   "metadata": {},
   "outputs": [],
   "source": [
    "M1 = b\"11335577 is my student ID. We will encrypt the message in different ways.\"\n",
    "M2 = b\"22446688 is my student ID. We will encrypt the message in different ways.\""
   ]
  },
  {
   "cell_type": "code",
   "execution_count": 1,
   "metadata": {},
   "outputs": [
    {
     "name": "stdout",
     "output_type": "stream",
     "text": [
      "Defaulting to user installation because normal site-packages is not writeable\n",
      "Requirement already satisfied: cryptography in c:\\anaconda3\\lib\\site-packages (41.0.2)\n",
      "Requirement already satisfied: cffi>=1.12 in c:\\anaconda3\\lib\\site-packages (from cryptography) (1.15.1)\n",
      "Requirement already satisfied: pycparser in c:\\anaconda3\\lib\\site-packages (from cffi>=1.12->cryptography) (2.21)\n"
     ]
    }
   ],
   "source": [
    "!python -m pip install cryptography"
   ]
  },
  {
   "cell_type": "markdown",
   "metadata": {},
   "source": [
    "## Available modes in OpenSSL\n",
    "\n",
    "aes-[128|192|256]-cbc  128/192/256 bit AES in CBC mode  \n",
    "aes[128|192|256]       Alias for aes-[128|192|256]-cbc  \n",
    "aes-[128|192|256]-cfb  128/192/256 bit AES in 128 bit CFB mode  \n",
    "aes-[128|192|256]-cfb1 128/192/256 bit AES in 1 bit CFB mode  \n",
    "aes-[128|192|256]-cfb8 128/192/256 bit AES in 8 bit CFB mode  \n",
    "aes-[128|192|256]-ctr  128/192/256 bit AES in CTR mode  \n",
    "aes-[128|192|256]-ecb  128/192/256 bit AES in ECB mode  \n",
    "aes-[128|192|256]-ofb  128/192/256 bit AES in OFB mode"
   ]
  },
  {
   "cell_type": "code",
   "execution_count": 3,
   "metadata": {},
   "outputs": [],
   "source": [
    "from cryptography.hazmat.primitives.ciphers import Cipher, algorithms, modes\n",
    "from cryptography.hazmat.primitives.padding import PKCS7"
   ]
  },
  {
   "cell_type": "code",
   "execution_count": 4,
   "metadata": {},
   "outputs": [
    {
     "name": "stdout",
     "output_type": "stream",
     "text": [
      "c5d71484f8cf9bf4b76f47904730804b 9e3225a9f133b5dea168f4e2851f072f\n"
     ]
    }
   ],
   "source": [
    "import random\n",
    "\n",
    "SEED = 0\n",
    "BLOCK_SIZE = 128\n",
    "\n",
    "# seed\n",
    "random.seed(0)\n",
    "\n",
    "# generate random key and iv\n",
    "KEY = bytes(random.randrange(256) for _ in range(BLOCK_SIZE // 8))\n",
    "IV = bytes(random.randrange(256) for _ in range(BLOCK_SIZE // 8))\n",
    "print(KEY.hex(), IV.hex())"
   ]
  },
  {
   "cell_type": "code",
   "execution_count": 5,
   "metadata": {},
   "outputs": [
    {
     "name": "stdout",
     "output_type": "stream",
     "text": [
      "b'11335577 is my student ID. We will encrypt the message in different ways.\\x07\\x07\\x07\\x07\\x07\\x07\\x07'\n",
      "b'11335577 is my student ID. We will encrypt the message in different ways.'\n",
      "b'22446688 is my student ID. We will encrypt the message in different ways.\\x07\\x07\\x07\\x07\\x07\\x07\\x07'\n",
      "b'22446688 is my student ID. We will encrypt the message in different ways.'\n"
     ]
    }
   ],
   "source": [
    "# create padder that required by ECB and CBC modes, https://cryptography.io/en/latest/hazmat/primitives/symmetric-encryption/\n",
    "padder, unpadder = PKCS7(BLOCK_SIZE).padder(), PKCS7(BLOCK_SIZE).unpadder()\n",
    "padded_data = padder.update(M1) + padder.finalize()\n",
    "print(padded_data)\n",
    "print(unpadder.update(padded_data) + unpadder.finalize())\n",
    "\n",
    "padder, unpadder = PKCS7(BLOCK_SIZE).padder(), PKCS7(BLOCK_SIZE).unpadder()\n",
    "padded_data = padder.update(M2) + padder.finalize()\n",
    "print(padded_data)\n",
    "print(unpadder.update(padded_data) + unpadder.finalize())"
   ]
  },
  {
   "cell_type": "code",
   "execution_count": 6,
   "metadata": {},
   "outputs": [],
   "source": [
    "def encrypt_then_decrypt(plaintext, mode=modes.ECB()):\n",
    "    cipher = Cipher(algorithms.AES(KEY), mode)\n",
    "    encryptor, decryptor = cipher.encryptor(), cipher.decryptor()\n",
    "    padder, unpadder = PKCS7(128).padder(), PKCS7(128).unpadder()\n",
    "\n",
    "    # encrypt\n",
    "    if len(plaintext) % 16 != 0:\n",
    "        padded_data = padder.update(plaintext) + padder.finalize()\n",
    "    else:\n",
    "        padded_data = plaintext\n",
    "\n",
    "    ciphered_data = encryptor.update(padded_data) + encryptor.finalize()\n",
    "\n",
    "    # decrypt\n",
    "    decipered_data = decryptor.update(ciphered_data) + decryptor.finalize()\n",
    "    if len(plaintext) % 16 != 0:\n",
    "        unpadded_data = unpadder.update(decipered_data) + unpadder.finalize()\n",
    "        assert plaintext == unpadded_data\n",
    "\n",
    "    return ciphered_data"
   ]
  },
  {
   "cell_type": "code",
   "execution_count": 7,
   "metadata": {},
   "outputs": [],
   "source": [
    "import textwrap\n",
    "\n",
    "color2num = dict(\n",
    "    gray=30,\n",
    "    red=31,\n",
    "    green=32,\n",
    "    yellow=33,\n",
    "    blue=34,\n",
    "    magenta=35,\n",
    "    cyan=36,\n",
    "    white=37,\n",
    "    crimson=38,\n",
    ")\n",
    "\n",
    "def colorize(string, color, bold=True, highlight=False):\n",
    "    \"\"\"\n",
    "    Colorize a string.\n",
    "\n",
    "    This function was originally written by John Schulman.\n",
    "    \"\"\"\n",
    "    attr = []\n",
    "    num = color2num[color]\n",
    "    if highlight:\n",
    "        num += 10\n",
    "    attr.append(str(num))\n",
    "    if bold:\n",
    "        attr.append(\"1\")\n",
    "    return \"\\x1b[%sm%s\\x1b[0m\" % (\";\".join(attr), string)\n",
    "\n",
    "def visual_hex_diff(bstr_1, bstr_2, hex_names=(\"HEX 1\", \"HEX 2\")):\n",
    "    SEP = \"   |   \"\n",
    "    print(\"  \", f\"{hex_names[0]}\".ljust(16 + 7), hex_names[1], sep=SEP)\n",
    "    # block level\n",
    "    hex_1, hex_2 = textwrap.wrap(bstr_1.hex(), 16), textwrap.wrap(bstr_2.hex(), 16)\n",
    "    for i, (block_1, block_2) in enumerate(zip(hex_1, hex_2)):\n",
    "        # byte level\n",
    "        block_1, block_2 = textwrap.wrap(block_1, 2), textwrap.wrap(block_2, 2)\n",
    "        block_2 = [colorize(v2, \"red\" if v1 != v2 else \"green\") for v1, v2 in zip(block_1, block_2)]\n",
    "        print(str(i).rjust(2), \" \".join(block_1).ljust(16 + 7), \" \".join(block_2).ljust( 16 + 7), sep=SEP)"
   ]
  },
  {
   "cell_type": "code",
   "execution_count": 8,
   "metadata": {},
   "outputs": [
    {
     "name": "stdout",
     "output_type": "stream",
     "text": [
      "     |   deciphered M1             |   deciphered M2\n",
      " 0   |   f9 ac 8d ae 3b fe f7 44   |   \u001b[31;1m91\u001b[0m \u001b[31;1m59\u001b[0m \u001b[31;1m26\u001b[0m \u001b[31;1m98\u001b[0m \u001b[31;1m55\u001b[0m \u001b[31;1m62\u001b[0m \u001b[31;1m5c\u001b[0m \u001b[31;1mc3\u001b[0m\n",
      " 1   |   88 0c 3c 13 ee 28 ee b2   |   \u001b[31;1m93\u001b[0m \u001b[31;1m9c\u001b[0m \u001b[31;1m01\u001b[0m \u001b[31;1m87\u001b[0m \u001b[31;1m87\u001b[0m \u001b[31;1m7e\u001b[0m \u001b[31;1mc1\u001b[0m \u001b[31;1me0\u001b[0m\n",
      " 2   |   e4 1e 2f ad aa 39 39 21   |   \u001b[32;1me4\u001b[0m \u001b[32;1m1e\u001b[0m \u001b[32;1m2f\u001b[0m \u001b[32;1mad\u001b[0m \u001b[32;1maa\u001b[0m \u001b[32;1m39\u001b[0m \u001b[32;1m39\u001b[0m \u001b[32;1m21\u001b[0m\n",
      " 3   |   55 21 cd f8 04 20 a7 d9   |   \u001b[32;1m55\u001b[0m \u001b[32;1m21\u001b[0m \u001b[32;1mcd\u001b[0m \u001b[32;1mf8\u001b[0m \u001b[32;1m04\u001b[0m \u001b[32;1m20\u001b[0m \u001b[32;1ma7\u001b[0m \u001b[32;1md9\u001b[0m\n",
      " 4   |   e5 ae 86 39 1e a0 18 5b   |   \u001b[32;1me5\u001b[0m \u001b[32;1mae\u001b[0m \u001b[32;1m86\u001b[0m \u001b[32;1m39\u001b[0m \u001b[32;1m1e\u001b[0m \u001b[32;1ma0\u001b[0m \u001b[32;1m18\u001b[0m \u001b[32;1m5b\u001b[0m\n",
      " 5   |   be 9f da d5 16 05 d4 1b   |   \u001b[32;1mbe\u001b[0m \u001b[32;1m9f\u001b[0m \u001b[32;1mda\u001b[0m \u001b[32;1md5\u001b[0m \u001b[32;1m16\u001b[0m \u001b[32;1m05\u001b[0m \u001b[32;1md4\u001b[0m \u001b[32;1m1b\u001b[0m\n",
      " 6   |   56 c8 43 97 48 49 ee f2   |   \u001b[32;1m56\u001b[0m \u001b[32;1mc8\u001b[0m \u001b[32;1m43\u001b[0m \u001b[32;1m97\u001b[0m \u001b[32;1m48\u001b[0m \u001b[32;1m49\u001b[0m \u001b[32;1mee\u001b[0m \u001b[32;1mf2\u001b[0m\n",
      " 7   |   81 87 6d 73 ac d9 9d 70   |   \u001b[32;1m81\u001b[0m \u001b[32;1m87\u001b[0m \u001b[32;1m6d\u001b[0m \u001b[32;1m73\u001b[0m \u001b[32;1mac\u001b[0m \u001b[32;1md9\u001b[0m \u001b[32;1m9d\u001b[0m \u001b[32;1m70\u001b[0m\n",
      " 8   |   0d 7a 24 96 06 97 c9 6b   |   \u001b[32;1m0d\u001b[0m \u001b[32;1m7a\u001b[0m \u001b[32;1m24\u001b[0m \u001b[32;1m96\u001b[0m \u001b[32;1m06\u001b[0m \u001b[32;1m97\u001b[0m \u001b[32;1mc9\u001b[0m \u001b[32;1m6b\u001b[0m\n",
      " 9   |   fe 8d 61 39 26 93 c8 d7   |   \u001b[32;1mfe\u001b[0m \u001b[32;1m8d\u001b[0m \u001b[32;1m61\u001b[0m \u001b[32;1m39\u001b[0m \u001b[32;1m26\u001b[0m \u001b[32;1m93\u001b[0m \u001b[32;1mc8\u001b[0m \u001b[32;1md7\u001b[0m\n"
     ]
    }
   ],
   "source": [
    "ciphered_M1 = encrypt_then_decrypt(M1, modes.ECB())\n",
    "ciphered_M2 = encrypt_then_decrypt(M2, modes.ECB())\n",
    "visual_hex_diff(ciphered_M1, ciphered_M2, [\"deciphered M1\", \"deciphered M2\"])"
   ]
  },
  {
   "cell_type": "code",
   "execution_count": 9,
   "metadata": {},
   "outputs": [
    {
     "name": "stdout",
     "output_type": "stream",
     "text": [
      "     |   deciphered M1             |   deciphered M2\n",
      " 0   |   51 0a 1f 95 1e 74 d2 bd   |   \u001b[31;1m04\u001b[0m \u001b[31;1md7\u001b[0m \u001b[31;1m5e\u001b[0m \u001b[31;1m34\u001b[0m \u001b[31;1m54\u001b[0m \u001b[32;1m74\u001b[0m \u001b[31;1mef\u001b[0m \u001b[31;1md6\u001b[0m\n",
      " 1   |   91 8c 60 7c 59 ec c7 08   |   \u001b[31;1mc9\u001b[0m \u001b[31;1m3c\u001b[0m \u001b[31;1m7b\u001b[0m \u001b[31;1m27\u001b[0m \u001b[31;1m67\u001b[0m \u001b[31;1md0\u001b[0m \u001b[31;1m3a\u001b[0m \u001b[31;1m2c\u001b[0m\n",
      " 2   |   de f5 a0 a2 86 d7 8a 6f   |   \u001b[31;1mfb\u001b[0m \u001b[31;1m32\u001b[0m \u001b[31;1m41\u001b[0m \u001b[31;1m7b\u001b[0m \u001b[31;1mf8\u001b[0m \u001b[31;1ma8\u001b[0m \u001b[31;1m0a\u001b[0m \u001b[31;1mb3\u001b[0m\n",
      " 3   |   b5 68 ee fc 92 43 91 a9   |   \u001b[31;1mbd\u001b[0m \u001b[31;1m46\u001b[0m \u001b[31;1m27\u001b[0m \u001b[31;1m41\u001b[0m \u001b[31;1m30\u001b[0m \u001b[31;1m51\u001b[0m \u001b[31;1m07\u001b[0m \u001b[31;1m25\u001b[0m\n",
      " 4   |   81 73 cc 12 21 7f 0a 39   |   \u001b[31;1mc5\u001b[0m \u001b[31;1maa\u001b[0m \u001b[31;1m36\u001b[0m \u001b[31;1m45\u001b[0m \u001b[31;1m1c\u001b[0m \u001b[31;1mb2\u001b[0m \u001b[31;1mf9\u001b[0m \u001b[31;1ma4\u001b[0m\n",
      " 5   |   2a 73 82 19 ed 52 c6 01   |   \u001b[31;1m22\u001b[0m \u001b[31;1mce\u001b[0m \u001b[31;1m4a\u001b[0m \u001b[31;1mac\u001b[0m \u001b[31;1me2\u001b[0m \u001b[31;1mda\u001b[0m \u001b[31;1med\u001b[0m \u001b[31;1m57\u001b[0m\n",
      " 6   |   65 34 86 05 59 b1 c8 aa   |   \u001b[31;1ma3\u001b[0m \u001b[31;1m24\u001b[0m \u001b[31;1m1f\u001b[0m \u001b[31;1m83\u001b[0m \u001b[31;1m26\u001b[0m \u001b[31;1m8b\u001b[0m \u001b[31;1m2f\u001b[0m \u001b[31;1ma3\u001b[0m\n",
      " 7   |   6a 82 f0 eb a8 bd 57 93   |   \u001b[31;1m35\u001b[0m \u001b[31;1m9a\u001b[0m \u001b[31;1mb8\u001b[0m \u001b[31;1md3\u001b[0m \u001b[31;1m31\u001b[0m \u001b[31;1m3e\u001b[0m \u001b[31;1med\u001b[0m \u001b[31;1m73\u001b[0m\n",
      " 8   |   a4 a8 da 02 be ae ea 97   |   \u001b[31;1mfc\u001b[0m \u001b[31;1m69\u001b[0m \u001b[31;1m79\u001b[0m \u001b[31;1m5d\u001b[0m \u001b[31;1mc1\u001b[0m \u001b[31;1m97\u001b[0m \u001b[31;1m0d\u001b[0m \u001b[31;1m57\u001b[0m\n",
      " 9   |   93 1c 5b 3b a9 8e 52 b1   |   \u001b[31;1m97\u001b[0m \u001b[31;1m4a\u001b[0m \u001b[31;1m15\u001b[0m \u001b[31;1mb3\u001b[0m \u001b[31;1mcb\u001b[0m \u001b[31;1mda\u001b[0m \u001b[31;1m9d\u001b[0m \u001b[31;1ma3\u001b[0m\n"
     ]
    }
   ],
   "source": [
    "ciphered_M1 = encrypt_then_decrypt(M1, modes.CBC(IV))\n",
    "ciphered_M2 = encrypt_then_decrypt(M2, modes.CBC(IV))\n",
    "visual_hex_diff(ciphered_M1, ciphered_M2, [\"deciphered M1\", \"deciphered M2\"])"
   ]
  }
 ],
 "metadata": {
  "kernelspec": {
   "display_name": "llm",
   "language": "python",
   "name": "python3"
  },
  "language_info": {
   "codemirror_mode": {
    "name": "ipython",
    "version": 3
   },
   "file_extension": ".py",
   "mimetype": "text/x-python",
   "name": "python",
   "nbconvert_exporter": "python",
   "pygments_lexer": "ipython3",
   "version": "3.9.16"
  }
 },
 "nbformat": 4,
 "nbformat_minor": 2
}
