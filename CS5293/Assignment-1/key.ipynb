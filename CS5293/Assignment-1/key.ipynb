{
 "cells": [
  {
   "cell_type": "code",
   "execution_count": null,
   "metadata": {},
   "outputs": [],
   "source": [
    "from cryptography.hazmat.primitives.ciphers import Cipher, algorithms, modes\n",
    "from cryptography.hazmat.primitives.padding import PKCS7\n",
    "\n",
    "def encrypt_then_decrypt(plaintext, mode=modes.ECB()):\n",
    "    cipher = Cipher(algorithms.AES(KEY), mode)\n",
    "    encryptor, decryptor = cipher.encryptor(), cipher.decryptor()\n",
    "    padder, unpadder = PKCS7(128).padder(), PKCS7(128).unpadder()\n",
    "\n",
    "    # encrypt\n",
    "    if len(plaintext) % 16 != 0:\n",
    "        padded_data = padder.update(plaintext) + padder.finalize()\n",
    "    else:\n",
    "        padded_data = plaintext\n",
    "\n",
    "    ciphered_data = encryptor.update(padded_data) + encryptor.finalize()\n",
    "\n",
    "    # decrypt\n",
    "    decipered_data = decryptor.update(ciphered_data) + decryptor.finalize()\n",
    "    if len(plaintext) % 16 != 0:\n",
    "        unpadded_data = unpadder.update(decipered_data) + unpadder.finalize()\n",
    "        assert plaintext == unpadded_data\n",
    "\n",
    "    return ciphered_data\n",
    "\n",
    "def decrypt(decryptor,data):\n",
    "    decipered_data = decryptor.update(data) + decryptor.finalize()\n",
    "    return decipered_data"
   ]
  }
 ],
 "metadata": {
  "kernelspec": {
   "display_name": "base",
   "language": "python",
   "name": "python3"
  },
  "language_info": {
   "name": "python",
   "version": "0.0.0"
  }
 },
 "nbformat": 4,
 "nbformat_minor": 2
}
