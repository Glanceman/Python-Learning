{
 "cells": [
  {
   "cell_type": "markdown",
   "metadata": {},
   "source": [
    "# Hashing: Secure Hash Algorithm (SHA)\n",
    "\n",
    "To understand the properties of one-way hash functions, we would like to do the following exercise for SHA256.\n",
    "\n",
    "1. Create a text file of any length M1.\n",
    "3. Flip one bit of the input file (not one byte!) into M2. You can achieve this modification using ghex or bless or `python`.\n",
    "2. Generate the hash values H1 of M1 and H2 of M2.\n",
    "5. Please observe whether H1 and H2 are similar or not.\n",
    "\n",
    "Please refer to https://cryptography.io/en/latest/hazmat/primitives/cryptographic-hashes/ for details of the usage of cryptographic-hashes."
   ]
  },
  {
   "cell_type": "code",
   "execution_count": 1,
   "metadata": {},
   "outputs": [],
   "source": [
    "# visualization tools\n",
    "import textwrap\n",
    "\n",
    "color2num = dict(\n",
    "    gray=30,\n",
    "    red=31,\n",
    "    green=32,\n",
    "    yellow=33,\n",
    "    blue=34,\n",
    "    magenta=35,\n",
    "    cyan=36,\n",
    "    white=37,\n",
    "    crimson=38,\n",
    ")\n",
    "\n",
    "def colorize(string, color, bold=True, highlight=False):\n",
    "    \"\"\"\n",
    "    Colorize a string.\n",
    "\n",
    "    This function was originally written by John Schulman.\n",
    "    \"\"\"\n",
    "    attr = []\n",
    "    num = color2num[color]\n",
    "    if highlight:\n",
    "        num += 10\n",
    "    attr.append(str(num))\n",
    "    if bold:\n",
    "        attr.append(\"1\")\n",
    "    return \"\\x1b[%sm%s\\x1b[0m\" % (\";\".join(attr), string)\n",
    "\n",
    "def visual_hex_diff(bstr_1, bstr_2, hex_names=(\"HEX 1\", \"HEX 2\")):\n",
    "    SEP = \"   |   \"\n",
    "    print(\"  \", f\"{hex_names[0]}\".ljust(16 + 7), hex_names[1], sep=SEP)\n",
    "    # block level\n",
    "    hex_1, hex_2 = textwrap.wrap(bstr_1.hex(), 16), textwrap.wrap(bstr_2.hex(), 16)\n",
    "    for i, (block_1, block_2) in enumerate(zip(hex_1, hex_2)):\n",
    "        # byte level\n",
    "        block_1, block_2 = textwrap.wrap(block_1, 2), textwrap.wrap(block_2, 2)\n",
    "        block_2 = [colorize(v2, \"red\" if v1 != v2 else \"green\") for v1, v2 in zip(block_1, block_2)]\n",
    "        print(str(i).rjust(2), \" \".join(block_1).ljust(16 + 7), \" \".join(block_2).ljust( 16 + 7), sep=SEP)"
   ]
  },
  {
   "cell_type": "code",
   "execution_count": 2,
   "metadata": {},
   "outputs": [],
   "source": [
    "M1 = b\"0123\""
   ]
  },
  {
   "cell_type": "code",
   "execution_count": 3,
   "metadata": {},
   "outputs": [
    {
     "name": "stdout",
     "output_type": "stream",
     "text": [
      "b'012s'\n"
     ]
    }
   ],
   "source": [
    "import random\n",
    "\n",
    "random.seed(0)  # Set the seed to 0 to get a predictable output\n",
    "\n",
    "# Convert bytes string to a list of integers\n",
    "int_list = list(M1)\n",
    "\n",
    "# Generate a random index to select an integer from the list\n",
    "index = random.randint(0, len(int_list) - 1)\n",
    "\n",
    "# Generate a random bit position to flip (0 to 7)\n",
    "bit_position = random.randint(0, 7)\n",
    "\n",
    "# Flip the bit at the random position in the selected integer\n",
    "original_int = int_list[index]\n",
    "int_list[index] ^= (1 << bit_position)\n",
    "\n",
    "# Convert the list of integers back to a bytes string\n",
    "M2 = bytes(int_list)\n",
    "print(M2)"
   ]
  },
  {
   "cell_type": "code",
   "execution_count": 4,
   "metadata": {},
   "outputs": [
    {
     "name": "stdout",
     "output_type": "stream",
     "text": [
      "Before Flipping: \t0 0 1 1 0 0 1 1 ('3', 0x33)\n",
      "After Flipping: \t\u001b[32;1m0\u001b[0m \u001b[31;1m1\u001b[0m \u001b[32;1m1\u001b[0m \u001b[32;1m1\u001b[0m \u001b[32;1m0\u001b[0m \u001b[32;1m0\u001b[0m \u001b[32;1m1\u001b[0m \u001b[32;1m1\u001b[0m ('s', 0x73)\n"
     ]
    }
   ],
   "source": [
    "# visualize the bit flipping\n",
    "original_bits = list(bin(original_int)[2:].rjust(8, \"0\"))\n",
    "flipped_bits = list(bin(int_list[index])[2:].rjust(8, \"0\"))\n",
    "flipped_bits = [colorize(v2, \"red\" if v1 != v2 else \"green\") for v1, v2 in zip(original_bits, flipped_bits)]\n",
    "print(\"Before Flipping: \\t{} ('{}', 0x{})\".format(\" \".join(original_bits), M1.decode()[index], M1.decode()[-1].encode().hex()))\n",
    "print(\"After Flipping: \\t{} ('{}', 0x{})\".format(\" \".join(flipped_bits), M2.decode()[index], M2.decode()[-1].encode().hex()))"
   ]
  },
  {
   "cell_type": "code",
   "execution_count": 5,
   "metadata": {},
   "outputs": [
    {
     "name": "stdout",
     "output_type": "stream",
     "text": [
      "     |   M1                        |   M2\n",
      " 0   |   30 31 32 33               |   \u001b[32;1m30\u001b[0m \u001b[32;1m31\u001b[0m \u001b[32;1m32\u001b[0m \u001b[31;1m73\u001b[0m\n"
     ]
    }
   ],
   "source": [
    "visual_hex_diff(M1, M2, (\"M1\", \"M2\"))"
   ]
  },
  {
   "cell_type": "code",
   "execution_count": 6,
   "metadata": {},
   "outputs": [
    {
     "name": "stdout",
     "output_type": "stream",
     "text": [
      "     |   H1                        |   H2\n",
      " 0   |   1b e2 e4 52 b4 6d 7a 0d   |   \u001b[31;1mf6\u001b[0m \u001b[31;1m67\u001b[0m \u001b[31;1m75\u001b[0m \u001b[31;1m65\u001b[0m \u001b[31;1maa\u001b[0m \u001b[31;1mba\u001b[0m \u001b[31;1m82\u001b[0m \u001b[31;1m19\u001b[0m\n",
      " 1   |   96 56 bb b1 f7 68 e8 24   |   \u001b[31;1m50\u001b[0m \u001b[31;1m07\u001b[0m \u001b[31;1mf8\u001b[0m \u001b[31;1md9\u001b[0m \u001b[31;1m13\u001b[0m \u001b[31;1m28\u001b[0m \u001b[31;1mf8\u001b[0m \u001b[31;1m04\u001b[0m\n",
      " 2   |   8e ba 1b 75 ba ed 65 f5   |   \u001b[31;1mfa\u001b[0m \u001b[31;1m6b\u001b[0m \u001b[31;1m96\u001b[0m \u001b[31;1meb\u001b[0m \u001b[31;1m6c\u001b[0m \u001b[31;1me9\u001b[0m \u001b[31;1m91\u001b[0m \u001b[31;1mbe\u001b[0m\n",
      " 3   |   d9 9e af a9 48 89 9a 6a   |   \u001b[31;1m4b\u001b[0m \u001b[31;1md0\u001b[0m \u001b[31;1m97\u001b[0m \u001b[31;1mcd\u001b[0m \u001b[31;1me6\u001b[0m \u001b[31;1md9\u001b[0m \u001b[31;1md7\u001b[0m \u001b[31;1m71\u001b[0m\n"
     ]
    }
   ],
   "source": [
    "from cryptography.hazmat.primitives import hashes\n",
    "\n",
    "def digest(msg):\n",
    "    digest = hashes.Hash(hashes.SHA256())\n",
    "    digest.update(msg)\n",
    "    return digest.finalize()\n",
    "\n",
    "H1, H2 = digest(M1), digest(M2)\n",
    "visual_hex_diff(H1, H2, (\"H1\", \"H2\"))"
   ]
  },
  {
   "cell_type": "markdown",
   "metadata": {},
   "source": [
    "# MD5 Collision"
   ]
  },
  {
   "cell_type": "code",
   "execution_count": 7,
   "metadata": {},
   "outputs": [
    {
     "name": "stdout",
     "output_type": "stream",
     "text": [
      "MD5 collision generator v1.5\n",
      "by Marc Stevens (http://www.win.tue.nl/hashclash/)\n",
      "\n",
      "Allowed options:\n",
      "  -h [ --help ]           Show options.\n",
      "  -q [ --quiet ]          Be less verbose.\n",
      "  -i [ --ihv ] arg        Use specified initial value. Default is MD5 initial \n",
      "                          value.\n",
      "  -p [ --prefixfile ] arg Calculate initial value using given prefixfile. Also \n",
      "                          copies data to output files.\n",
      "  -o [ --out ] arg        Set output filenames. This must be the last option \n",
      "                          and exactly 2 filenames must be specified. \n",
      "                          Default: -o msg1.bin msg2.bin\n",
      "\n"
     ]
    }
   ],
   "source": [
    "!/usr/bin/md5collgen"
   ]
  },
  {
   "cell_type": "code",
   "execution_count": 8,
   "metadata": {},
   "outputs": [
    {
     "name": "stdout",
     "output_type": "stream",
     "text": [
      "MD5 collision generator v1.5\n",
      "by Marc Stevens (http://www.win.tue.nl/hashclash/)\n",
      "\n",
      "Using output filenames: 'exp1_msg1.bin' and 'exp1_msg2.bin'\n",
      "Using initial value: 0123456789abcdeffedcba9876543210\n",
      "\n",
      "Generating first block: ...\n",
      "Generating second block: S10...........\n",
      "Running time: 4.10271 s\n"
     ]
    }
   ],
   "source": [
    "!/usr/bin/md5collgen -o exp1_msg1.bin exp1_msg2.bin"
   ]
  },
  {
   "cell_type": "code",
   "execution_count": 9,
   "metadata": {},
   "outputs": [],
   "source": [
    "with open(\"exp1_msg1.bin\", \"rb\") as f:\n",
    "    exp1_msg1 = f.read()"
   ]
  },
  {
   "cell_type": "code",
   "execution_count": 10,
   "metadata": {},
   "outputs": [
    {
     "data": {
      "text/plain": [
       "b'8L\\xe8*\\x88\\x01Z\\xd7\\xcf$\\xe8\\xa3\\x18\\xb7]e\\x02\\xb6\\xee\\x90\\x0ck\\x1dnRn9\\x0e\\xc9\\x8c\\x88\\xf4\\xf2\\xc1\\xaf\\xea~\\x0f*:\\x8bhV\\xf4\\xf8\\xcf6F\\xf0\\xb2\\xcd\\xd9.A\\xbe\\x17{\\xe2Q\\x8b`\\xb3GeJB5#\\xffp\\xc4\\xab\\xe92\\x13,:\\x01\\xac\\x16\\x1f\\xd2\\x97nX\\x99\\xa1\\xef\\xab\\xb3\\x00\\xcf;`H\\xc7\\xd3\\r\\x0c\\x18\\x97I\\xff5v=\\xccZ+\\x04\"I9\\xef\\xfbz\\x87\\r\\xd6\\x82q\\x86\\xfe\\xe7\\xac\\x19\\t\\x18'"
      ]
     },
     "execution_count": 10,
     "metadata": {},
     "output_type": "execute_result"
    }
   ],
   "source": [
    "exp1_msg1"
   ]
  },
  {
   "cell_type": "code",
   "execution_count": 11,
   "metadata": {},
   "outputs": [],
   "source": [
    "with open(\"exp1_msg2.bin\", \"rb\") as f:\n",
    "    exp1_msg2 = f.read()"
   ]
  },
  {
   "cell_type": "code",
   "execution_count": 12,
   "metadata": {},
   "outputs": [
    {
     "data": {
      "text/plain": [
       "b'8L\\xe8*\\x88\\x01Z\\xd7\\xcf$\\xe8\\xa3\\x18\\xb7]e\\x02\\xb6\\xee\\x10\\x0ck\\x1dnRn9\\x0e\\xc9\\x8c\\x88\\xf4\\xf2\\xc1\\xaf\\xea~\\x0f*:\\x8bhV\\xf4\\xf8O7F\\xf0\\xb2\\xcd\\xd9.A\\xbe\\x17{\\xe2Q\\x0b`\\xb3GeJB5#\\xffp\\xc4\\xab\\xe92\\x13,:\\x01\\xac\\x16\\x1f\\xd2\\x97\\xeeX\\x99\\xa1\\xef\\xab\\xb3\\x00\\xcf;`H\\xc7\\xd3\\r\\x0c\\x18\\x97I\\xff5v=\\xccZ+\\x84!I9\\xef\\xfbz\\x87\\r\\xd6\\x82q\\x86\\xfeg\\xac\\x19\\t\\x18'"
      ]
     },
     "execution_count": 12,
     "metadata": {},
     "output_type": "execute_result"
    }
   ],
   "source": [
    "exp1_msg2"
   ]
  },
  {
   "cell_type": "code",
   "execution_count": 13,
   "metadata": {},
   "outputs": [
    {
     "name": "stdout",
     "output_type": "stream",
     "text": [
      "     |   exp1_msg1                 |   exp1_msg2\n",
      " 0   |   38 4c e8 2a 88 01 5a d7   |   \u001b[32;1m38\u001b[0m \u001b[32;1m4c\u001b[0m \u001b[32;1me8\u001b[0m \u001b[32;1m2a\u001b[0m \u001b[32;1m88\u001b[0m \u001b[32;1m01\u001b[0m \u001b[32;1m5a\u001b[0m \u001b[32;1md7\u001b[0m\n",
      " 1   |   cf 24 e8 a3 18 b7 5d 65   |   \u001b[32;1mcf\u001b[0m \u001b[32;1m24\u001b[0m \u001b[32;1me8\u001b[0m \u001b[32;1ma3\u001b[0m \u001b[32;1m18\u001b[0m \u001b[32;1mb7\u001b[0m \u001b[32;1m5d\u001b[0m \u001b[32;1m65\u001b[0m\n",
      " 2   |   02 b6 ee 90 0c 6b 1d 6e   |   \u001b[32;1m02\u001b[0m \u001b[32;1mb6\u001b[0m \u001b[32;1mee\u001b[0m \u001b[31;1m10\u001b[0m \u001b[32;1m0c\u001b[0m \u001b[32;1m6b\u001b[0m \u001b[32;1m1d\u001b[0m \u001b[32;1m6e\u001b[0m\n",
      " 3   |   52 6e 39 0e c9 8c 88 f4   |   \u001b[32;1m52\u001b[0m \u001b[32;1m6e\u001b[0m \u001b[32;1m39\u001b[0m \u001b[32;1m0e\u001b[0m \u001b[32;1mc9\u001b[0m \u001b[32;1m8c\u001b[0m \u001b[32;1m88\u001b[0m \u001b[32;1mf4\u001b[0m\n",
      " 4   |   f2 c1 af ea 7e 0f 2a 3a   |   \u001b[32;1mf2\u001b[0m \u001b[32;1mc1\u001b[0m \u001b[32;1maf\u001b[0m \u001b[32;1mea\u001b[0m \u001b[32;1m7e\u001b[0m \u001b[32;1m0f\u001b[0m \u001b[32;1m2a\u001b[0m \u001b[32;1m3a\u001b[0m\n",
      " 5   |   8b 68 56 f4 f8 cf 36 46   |   \u001b[32;1m8b\u001b[0m \u001b[32;1m68\u001b[0m \u001b[32;1m56\u001b[0m \u001b[32;1mf4\u001b[0m \u001b[32;1mf8\u001b[0m \u001b[31;1m4f\u001b[0m \u001b[31;1m37\u001b[0m \u001b[32;1m46\u001b[0m\n",
      " 6   |   f0 b2 cd d9 2e 41 be 17   |   \u001b[32;1mf0\u001b[0m \u001b[32;1mb2\u001b[0m \u001b[32;1mcd\u001b[0m \u001b[32;1md9\u001b[0m \u001b[32;1m2e\u001b[0m \u001b[32;1m41\u001b[0m \u001b[32;1mbe\u001b[0m \u001b[32;1m17\u001b[0m\n",
      " 7   |   7b e2 51 8b 60 b3 47 65   |   \u001b[32;1m7b\u001b[0m \u001b[32;1me2\u001b[0m \u001b[32;1m51\u001b[0m \u001b[31;1m0b\u001b[0m \u001b[32;1m60\u001b[0m \u001b[32;1mb3\u001b[0m \u001b[32;1m47\u001b[0m \u001b[32;1m65\u001b[0m\n",
      " 8   |   4a 42 35 23 ff 70 c4 ab   |   \u001b[32;1m4a\u001b[0m \u001b[32;1m42\u001b[0m \u001b[32;1m35\u001b[0m \u001b[32;1m23\u001b[0m \u001b[32;1mff\u001b[0m \u001b[32;1m70\u001b[0m \u001b[32;1mc4\u001b[0m \u001b[32;1mab\u001b[0m\n",
      " 9   |   e9 32 13 2c 3a 01 ac 16   |   \u001b[32;1me9\u001b[0m \u001b[32;1m32\u001b[0m \u001b[32;1m13\u001b[0m \u001b[32;1m2c\u001b[0m \u001b[32;1m3a\u001b[0m \u001b[32;1m01\u001b[0m \u001b[32;1mac\u001b[0m \u001b[32;1m16\u001b[0m\n",
      "10   |   1f d2 97 6e 58 99 a1 ef   |   \u001b[32;1m1f\u001b[0m \u001b[32;1md2\u001b[0m \u001b[32;1m97\u001b[0m \u001b[31;1mee\u001b[0m \u001b[32;1m58\u001b[0m \u001b[32;1m99\u001b[0m \u001b[32;1ma1\u001b[0m \u001b[32;1mef\u001b[0m\n",
      "11   |   ab b3 00 cf 3b 60 48 c7   |   \u001b[32;1mab\u001b[0m \u001b[32;1mb3\u001b[0m \u001b[32;1m00\u001b[0m \u001b[32;1mcf\u001b[0m \u001b[32;1m3b\u001b[0m \u001b[32;1m60\u001b[0m \u001b[32;1m48\u001b[0m \u001b[32;1mc7\u001b[0m\n",
      "12   |   d3 0d 0c 18 97 49 ff 35   |   \u001b[32;1md3\u001b[0m \u001b[32;1m0d\u001b[0m \u001b[32;1m0c\u001b[0m \u001b[32;1m18\u001b[0m \u001b[32;1m97\u001b[0m \u001b[32;1m49\u001b[0m \u001b[32;1mff\u001b[0m \u001b[32;1m35\u001b[0m\n",
      "13   |   76 3d cc 5a 2b 04 22 49   |   \u001b[32;1m76\u001b[0m \u001b[32;1m3d\u001b[0m \u001b[32;1mcc\u001b[0m \u001b[32;1m5a\u001b[0m \u001b[32;1m2b\u001b[0m \u001b[31;1m84\u001b[0m \u001b[31;1m21\u001b[0m \u001b[32;1m49\u001b[0m\n",
      "14   |   39 ef fb 7a 87 0d d6 82   |   \u001b[32;1m39\u001b[0m \u001b[32;1mef\u001b[0m \u001b[32;1mfb\u001b[0m \u001b[32;1m7a\u001b[0m \u001b[32;1m87\u001b[0m \u001b[32;1m0d\u001b[0m \u001b[32;1md6\u001b[0m \u001b[32;1m82\u001b[0m\n",
      "15   |   71 86 fe e7 ac 19 09 18   |   \u001b[32;1m71\u001b[0m \u001b[32;1m86\u001b[0m \u001b[32;1mfe\u001b[0m \u001b[31;1m67\u001b[0m \u001b[32;1mac\u001b[0m \u001b[32;1m19\u001b[0m \u001b[32;1m09\u001b[0m \u001b[32;1m18\u001b[0m\n"
     ]
    }
   ],
   "source": [
    "visual_hex_diff(exp1_msg1, exp1_msg2, (\"exp1_msg1\", \"exp1_msg2\"))"
   ]
  },
  {
   "cell_type": "code",
   "execution_count": 14,
   "metadata": {},
   "outputs": [],
   "source": [
    "prefix = \"Hello, World!\"\n",
    "with open(\"prefix.txt\", \"w\") as f:\n",
    "    f.write(prefix)"
   ]
  },
  {
   "cell_type": "code",
   "execution_count": 15,
   "metadata": {},
   "outputs": [
    {
     "name": "stdout",
     "output_type": "stream",
     "text": [
      "MD5 collision generator v1.5\n",
      "by Marc Stevens (http://www.win.tue.nl/hashclash/)\n",
      "\n",
      "Using output filenames: 'exp2_msg1.bin' and 'exp2_msg2.bin'\n",
      "Using prefixfile: 'prefix.txt'\n",
      "Using initial value: 7b0db9355979517113266afbb9e2f08e\n",
      "\n",
      "Generating first block: .....\n",
      "Generating second block: S11.........\n",
      "Running time: 3.62773 s\n"
     ]
    }
   ],
   "source": [
    "!/usr/bin/md5collgen -o exp2_msg1.bin exp2_msg2.bin -p prefix.txt"
   ]
  },
  {
   "cell_type": "code",
   "execution_count": 16,
   "metadata": {},
   "outputs": [],
   "source": [
    "with open(\"exp2_msg1.bin\", \"rb\") as f:\n",
    "    exp2_msg1 = f.read()\n",
    "with open(\"exp2_msg2.bin\", \"rb\") as f:\n",
    "    exp2_msg2 = f.read()"
   ]
  },
  {
   "cell_type": "code",
   "execution_count": 17,
   "metadata": {},
   "outputs": [
    {
     "data": {
      "text/plain": [
       "'48656c6c6f2c20576f726c6421'"
      ]
     },
     "execution_count": 17,
     "metadata": {},
     "output_type": "execute_result"
    }
   ],
   "source": [
    "prefix.encode().hex()"
   ]
  },
  {
   "cell_type": "code",
   "execution_count": 18,
   "metadata": {},
   "outputs": [
    {
     "name": "stdout",
     "output_type": "stream",
     "text": [
      "     |   exp2_msg1                 |   exp2_msg2\n",
      " 0   |   48 65 6c 6c 6f 2c 20 57   |   \u001b[32;1m48\u001b[0m \u001b[32;1m65\u001b[0m \u001b[32;1m6c\u001b[0m \u001b[32;1m6c\u001b[0m \u001b[32;1m6f\u001b[0m \u001b[32;1m2c\u001b[0m \u001b[32;1m20\u001b[0m \u001b[32;1m57\u001b[0m\n",
      " 1   |   6f 72 6c 64 21 00 00 00   |   \u001b[32;1m6f\u001b[0m \u001b[32;1m72\u001b[0m \u001b[32;1m6c\u001b[0m \u001b[32;1m64\u001b[0m \u001b[32;1m21\u001b[0m \u001b[32;1m00\u001b[0m \u001b[32;1m00\u001b[0m \u001b[32;1m00\u001b[0m\n",
      " 2   |   00 00 00 00 00 00 00 00   |   \u001b[32;1m00\u001b[0m \u001b[32;1m00\u001b[0m \u001b[32;1m00\u001b[0m \u001b[32;1m00\u001b[0m \u001b[32;1m00\u001b[0m \u001b[32;1m00\u001b[0m \u001b[32;1m00\u001b[0m \u001b[32;1m00\u001b[0m\n",
      " 3   |   00 00 00 00 00 00 00 00   |   \u001b[32;1m00\u001b[0m \u001b[32;1m00\u001b[0m \u001b[32;1m00\u001b[0m \u001b[32;1m00\u001b[0m \u001b[32;1m00\u001b[0m \u001b[32;1m00\u001b[0m \u001b[32;1m00\u001b[0m \u001b[32;1m00\u001b[0m\n",
      " 4   |   00 00 00 00 00 00 00 00   |   \u001b[32;1m00\u001b[0m \u001b[32;1m00\u001b[0m \u001b[32;1m00\u001b[0m \u001b[32;1m00\u001b[0m \u001b[32;1m00\u001b[0m \u001b[32;1m00\u001b[0m \u001b[32;1m00\u001b[0m \u001b[32;1m00\u001b[0m\n",
      " 5   |   00 00 00 00 00 00 00 00   |   \u001b[32;1m00\u001b[0m \u001b[32;1m00\u001b[0m \u001b[32;1m00\u001b[0m \u001b[32;1m00\u001b[0m \u001b[32;1m00\u001b[0m \u001b[32;1m00\u001b[0m \u001b[32;1m00\u001b[0m \u001b[32;1m00\u001b[0m\n",
      " 6   |   00 00 00 00 00 00 00 00   |   \u001b[32;1m00\u001b[0m \u001b[32;1m00\u001b[0m \u001b[32;1m00\u001b[0m \u001b[32;1m00\u001b[0m \u001b[32;1m00\u001b[0m \u001b[32;1m00\u001b[0m \u001b[32;1m00\u001b[0m \u001b[32;1m00\u001b[0m\n",
      " 7   |   00 00 00 00 00 00 00 00   |   \u001b[32;1m00\u001b[0m \u001b[32;1m00\u001b[0m \u001b[32;1m00\u001b[0m \u001b[32;1m00\u001b[0m \u001b[32;1m00\u001b[0m \u001b[32;1m00\u001b[0m \u001b[32;1m00\u001b[0m \u001b[32;1m00\u001b[0m\n",
      " 8   |   80 08 2c de d0 e4 87 12   |   \u001b[32;1m80\u001b[0m \u001b[32;1m08\u001b[0m \u001b[32;1m2c\u001b[0m \u001b[32;1mde\u001b[0m \u001b[32;1md0\u001b[0m \u001b[32;1me4\u001b[0m \u001b[32;1m87\u001b[0m \u001b[32;1m12\u001b[0m\n",
      " 9   |   d5 42 71 7a 05 7c 34 b7   |   \u001b[32;1md5\u001b[0m \u001b[32;1m42\u001b[0m \u001b[32;1m71\u001b[0m \u001b[32;1m7a\u001b[0m \u001b[32;1m05\u001b[0m \u001b[32;1m7c\u001b[0m \u001b[32;1m34\u001b[0m \u001b[32;1mb7\u001b[0m\n",
      "10   |   a5 40 dc 5a f5 bf 06 f4   |   \u001b[32;1ma5\u001b[0m \u001b[32;1m40\u001b[0m \u001b[32;1mdc\u001b[0m \u001b[31;1mda\u001b[0m \u001b[32;1mf5\u001b[0m \u001b[32;1mbf\u001b[0m \u001b[32;1m06\u001b[0m \u001b[32;1mf4\u001b[0m\n",
      "11   |   36 9e 7b 5e 0e aa b8 d0   |   \u001b[32;1m36\u001b[0m \u001b[32;1m9e\u001b[0m \u001b[32;1m7b\u001b[0m \u001b[32;1m5e\u001b[0m \u001b[32;1m0e\u001b[0m \u001b[32;1maa\u001b[0m \u001b[32;1mb8\u001b[0m \u001b[32;1md0\u001b[0m\n",
      "12   |   35 9d b0 e7 5e 30 2a 63   |   \u001b[32;1m35\u001b[0m \u001b[32;1m9d\u001b[0m \u001b[32;1mb0\u001b[0m \u001b[32;1me7\u001b[0m \u001b[32;1m5e\u001b[0m \u001b[32;1m30\u001b[0m \u001b[32;1m2a\u001b[0m \u001b[32;1m63\u001b[0m\n",
      "13   |   0b 24 6f d3 a8 01 4c 3c   |   \u001b[32;1m0b\u001b[0m \u001b[32;1m24\u001b[0m \u001b[32;1m6f\u001b[0m \u001b[32;1md3\u001b[0m \u001b[32;1ma8\u001b[0m \u001b[31;1m81\u001b[0m \u001b[32;1m4c\u001b[0m \u001b[32;1m3c\u001b[0m\n",
      "14   |   15 ff 47 a4 6e 30 5e 8c   |   \u001b[32;1m15\u001b[0m \u001b[32;1mff\u001b[0m \u001b[32;1m47\u001b[0m \u001b[32;1ma4\u001b[0m \u001b[32;1m6e\u001b[0m \u001b[32;1m30\u001b[0m \u001b[32;1m5e\u001b[0m \u001b[32;1m8c\u001b[0m\n",
      "15   |   9c 29 5d 7a f0 7c 62 6d   |   \u001b[32;1m9c\u001b[0m \u001b[32;1m29\u001b[0m \u001b[32;1m5d\u001b[0m \u001b[31;1mfa\u001b[0m \u001b[32;1mf0\u001b[0m \u001b[32;1m7c\u001b[0m \u001b[32;1m62\u001b[0m \u001b[32;1m6d\u001b[0m\n",
      "16   |   8f ec 38 f6 85 9c d0 ec   |   \u001b[32;1m8f\u001b[0m \u001b[32;1mec\u001b[0m \u001b[32;1m38\u001b[0m \u001b[32;1mf6\u001b[0m \u001b[32;1m85\u001b[0m \u001b[32;1m9c\u001b[0m \u001b[32;1md0\u001b[0m \u001b[32;1mec\u001b[0m\n",
      "17   |   be 4b 23 23 4c 20 f8 84   |   \u001b[32;1mbe\u001b[0m \u001b[32;1m4b\u001b[0m \u001b[32;1m23\u001b[0m \u001b[32;1m23\u001b[0m \u001b[32;1m4c\u001b[0m \u001b[32;1m20\u001b[0m \u001b[32;1mf8\u001b[0m \u001b[32;1m84\u001b[0m\n",
      "18   |   47 97 f3 80 07 6c 9d 8e   |   \u001b[32;1m47\u001b[0m \u001b[32;1m97\u001b[0m \u001b[32;1mf3\u001b[0m \u001b[31;1m00\u001b[0m \u001b[32;1m07\u001b[0m \u001b[32;1m6c\u001b[0m \u001b[32;1m9d\u001b[0m \u001b[32;1m8e\u001b[0m\n",
      "19   |   74 89 c3 5f 4f 1d 2b 41   |   \u001b[32;1m74\u001b[0m \u001b[32;1m89\u001b[0m \u001b[32;1mc3\u001b[0m \u001b[32;1m5f\u001b[0m \u001b[32;1m4f\u001b[0m \u001b[32;1m1d\u001b[0m \u001b[32;1m2b\u001b[0m \u001b[32;1m41\u001b[0m\n",
      "20   |   da 1c b1 8e 87 27 73 57   |   \u001b[32;1mda\u001b[0m \u001b[32;1m1c\u001b[0m \u001b[32;1mb1\u001b[0m \u001b[32;1m8e\u001b[0m \u001b[32;1m87\u001b[0m \u001b[32;1m27\u001b[0m \u001b[32;1m73\u001b[0m \u001b[32;1m57\u001b[0m\n",
      "21   |   a7 98 e7 90 9a 42 f1 24   |   \u001b[32;1ma7\u001b[0m \u001b[32;1m98\u001b[0m \u001b[32;1me7\u001b[0m \u001b[32;1m90\u001b[0m \u001b[32;1m9a\u001b[0m \u001b[31;1mc2\u001b[0m \u001b[31;1mf0\u001b[0m \u001b[32;1m24\u001b[0m\n",
      "22   |   98 37 b1 0b 7b cf 0e 88   |   \u001b[32;1m98\u001b[0m \u001b[32;1m37\u001b[0m \u001b[32;1mb1\u001b[0m \u001b[32;1m0b\u001b[0m \u001b[32;1m7b\u001b[0m \u001b[32;1mcf\u001b[0m \u001b[32;1m0e\u001b[0m \u001b[32;1m88\u001b[0m\n",
      "23   |   a2 88 eb d3 df d2 59 b0   |   \u001b[32;1ma2\u001b[0m \u001b[32;1m88\u001b[0m \u001b[32;1meb\u001b[0m \u001b[31;1m53\u001b[0m \u001b[32;1mdf\u001b[0m \u001b[32;1md2\u001b[0m \u001b[32;1m59\u001b[0m \u001b[32;1mb0\u001b[0m\n"
     ]
    }
   ],
   "source": [
    "visual_hex_diff(exp2_msg1, exp2_msg2, (\"exp2_msg1\", \"exp2_msg2\"))"
   ]
  },
  {
   "cell_type": "code",
   "execution_count": 19,
   "metadata": {},
   "outputs": [
    {
     "data": {
      "text/plain": [
       "'c5d71484f8cf9bf4b76f47904730804b'"
      ]
     },
     "execution_count": 19,
     "metadata": {},
     "output_type": "execute_result"
    }
   ],
   "source": [
    "import random\n",
    "\n",
    "random.seed(0)  # Set the seed to 0 to get a predictable output\n",
    "bytes(random.randrange(256) for _ in range(16)).hex()"
   ]
  },
  {
   "cell_type": "code",
   "execution_count": 20,
   "metadata": {},
   "outputs": [
    {
     "name": "stdout",
     "output_type": "stream",
     "text": [
      "MD5 collision generator v1.5\n",
      "by Marc Stevens (http://www.win.tue.nl/hashclash/)\n",
      "\n",
      "Using output filenames: 'exp3_msg1.bin' and 'exp3_msg2.bin'\n",
      "Using initial value: a1b8c8e9072dd1d8ca7938bc0f65fc4c\n",
      "\n",
      "Generating first block: ...................................\n",
      "Generating second block: S10.........\n",
      "Running time: 30.8252 s\n"
     ]
    }
   ],
   "source": [
    "!/usr/bin/md5collgen -o exp3_msg1.bin exp3_msg2.bin -i a1b8c8e9072dd1d8ca7938bc0f65fc4c"
   ]
  },
  {
   "cell_type": "code",
   "execution_count": 21,
   "metadata": {},
   "outputs": [
    {
     "name": "stdout",
     "output_type": "stream",
     "text": [
      "     |   exp3_msg1                 |   exp3_msg2\n",
      " 0   |   01 e6 3e 13 74 e0 0b 1c   |   \u001b[32;1m01\u001b[0m \u001b[32;1me6\u001b[0m \u001b[32;1m3e\u001b[0m \u001b[32;1m13\u001b[0m \u001b[32;1m74\u001b[0m \u001b[32;1me0\u001b[0m \u001b[32;1m0b\u001b[0m \u001b[32;1m1c\u001b[0m\n",
      " 1   |   91 7e 86 89 f8 aa 21 be   |   \u001b[32;1m91\u001b[0m \u001b[32;1m7e\u001b[0m \u001b[32;1m86\u001b[0m \u001b[32;1m89\u001b[0m \u001b[32;1mf8\u001b[0m \u001b[32;1maa\u001b[0m \u001b[32;1m21\u001b[0m \u001b[32;1mbe\u001b[0m\n",
      " 2   |   0e 4c 87 25 7a 3d 5a 2a   |   \u001b[32;1m0e\u001b[0m \u001b[32;1m4c\u001b[0m \u001b[32;1m87\u001b[0m \u001b[31;1ma5\u001b[0m \u001b[32;1m7a\u001b[0m \u001b[32;1m3d\u001b[0m \u001b[32;1m5a\u001b[0m \u001b[32;1m2a\u001b[0m\n",
      " 3   |   26 ae 7c 6a 30 b4 b9 15   |   \u001b[32;1m26\u001b[0m \u001b[32;1mae\u001b[0m \u001b[32;1m7c\u001b[0m \u001b[32;1m6a\u001b[0m \u001b[32;1m30\u001b[0m \u001b[32;1mb4\u001b[0m \u001b[32;1mb9\u001b[0m \u001b[32;1m15\u001b[0m\n",
      " 4   |   91 db be e4 38 85 86 f2   |   \u001b[32;1m91\u001b[0m \u001b[32;1mdb\u001b[0m \u001b[32;1mbe\u001b[0m \u001b[32;1me4\u001b[0m \u001b[32;1m38\u001b[0m \u001b[32;1m85\u001b[0m \u001b[32;1m86\u001b[0m \u001b[32;1mf2\u001b[0m\n",
      " 5   |   07 04 6c d2 9c 57 64 1b   |   \u001b[32;1m07\u001b[0m \u001b[32;1m04\u001b[0m \u001b[32;1m6c\u001b[0m \u001b[32;1md2\u001b[0m \u001b[32;1m9c\u001b[0m \u001b[31;1md7\u001b[0m \u001b[32;1m64\u001b[0m \u001b[32;1m1b\u001b[0m\n",
      " 6   |   21 64 55 f3 82 ec db f7   |   \u001b[32;1m21\u001b[0m \u001b[32;1m64\u001b[0m \u001b[32;1m55\u001b[0m \u001b[32;1mf3\u001b[0m \u001b[32;1m82\u001b[0m \u001b[32;1mec\u001b[0m \u001b[32;1mdb\u001b[0m \u001b[32;1mf7\u001b[0m\n",
      " 7   |   76 af d3 a5 4a 8f 02 33   |   \u001b[32;1m76\u001b[0m \u001b[32;1maf\u001b[0m \u001b[32;1md3\u001b[0m \u001b[31;1m25\u001b[0m \u001b[32;1m4a\u001b[0m \u001b[32;1m8f\u001b[0m \u001b[32;1m02\u001b[0m \u001b[32;1m33\u001b[0m\n",
      " 8   |   44 95 26 ba 4f b6 b2 65   |   \u001b[32;1m44\u001b[0m \u001b[32;1m95\u001b[0m \u001b[32;1m26\u001b[0m \u001b[32;1mba\u001b[0m \u001b[32;1m4f\u001b[0m \u001b[32;1mb6\u001b[0m \u001b[32;1mb2\u001b[0m \u001b[32;1m65\u001b[0m\n",
      " 9   |   89 31 e2 cf a2 7b cd 51   |   \u001b[32;1m89\u001b[0m \u001b[32;1m31\u001b[0m \u001b[32;1me2\u001b[0m \u001b[32;1mcf\u001b[0m \u001b[32;1ma2\u001b[0m \u001b[32;1m7b\u001b[0m \u001b[32;1mcd\u001b[0m \u001b[32;1m51\u001b[0m\n",
      "10   |   31 74 56 8b 74 5f c3 39   |   \u001b[32;1m31\u001b[0m \u001b[32;1m74\u001b[0m \u001b[32;1m56\u001b[0m \u001b[31;1m0b\u001b[0m \u001b[32;1m74\u001b[0m \u001b[32;1m5f\u001b[0m \u001b[32;1mc3\u001b[0m \u001b[32;1m39\u001b[0m\n",
      "11   |   8d c5 20 58 ab 5f 88 c8   |   \u001b[32;1m8d\u001b[0m \u001b[32;1mc5\u001b[0m \u001b[32;1m20\u001b[0m \u001b[32;1m58\u001b[0m \u001b[32;1mab\u001b[0m \u001b[32;1m5f\u001b[0m \u001b[32;1m88\u001b[0m \u001b[32;1mc8\u001b[0m\n",
      "12   |   cf b3 24 38 af 84 2e 34   |   \u001b[32;1mcf\u001b[0m \u001b[32;1mb3\u001b[0m \u001b[32;1m24\u001b[0m \u001b[32;1m38\u001b[0m \u001b[32;1maf\u001b[0m \u001b[32;1m84\u001b[0m \u001b[32;1m2e\u001b[0m \u001b[32;1m34\u001b[0m\n",
      "13   |   b4 3b cc 7a d9 ab fd 4c   |   \u001b[32;1mb4\u001b[0m \u001b[32;1m3b\u001b[0m \u001b[32;1mcc\u001b[0m \u001b[32;1m7a\u001b[0m \u001b[32;1md9\u001b[0m \u001b[31;1m2b\u001b[0m \u001b[32;1mfd\u001b[0m \u001b[32;1m4c\u001b[0m\n",
      "14   |   0b 46 a2 3c c9 2e e1 04   |   \u001b[32;1m0b\u001b[0m \u001b[32;1m46\u001b[0m \u001b[32;1ma2\u001b[0m \u001b[32;1m3c\u001b[0m \u001b[32;1mc9\u001b[0m \u001b[32;1m2e\u001b[0m \u001b[32;1me1\u001b[0m \u001b[32;1m04\u001b[0m\n",
      "15   |   2d 1e 6f e7 0a 0c fe 40   |   \u001b[32;1m2d\u001b[0m \u001b[32;1m1e\u001b[0m \u001b[32;1m6f\u001b[0m \u001b[31;1m67\u001b[0m \u001b[32;1m0a\u001b[0m \u001b[32;1m0c\u001b[0m \u001b[32;1mfe\u001b[0m \u001b[32;1m40\u001b[0m\n"
     ]
    }
   ],
   "source": [
    "with open(\"exp3_msg1.bin\", \"rb\") as f:\n",
    "    exp3_msg1 = f.read()\n",
    "with open(\"exp3_msg2.bin\", \"rb\") as f:\n",
    "    exp3_msg2 = f.read()\n",
    "visual_hex_diff(exp3_msg1, exp3_msg2, (\"exp3_msg1\", \"exp3_msg2\"))"
   ]
  },
  {
   "cell_type": "code",
   "execution_count": null,
   "metadata": {},
   "outputs": [],
   "source": []
  }
 ],
 "metadata": {
  "kernelspec": {
   "display_name": "llm",
   "language": "python",
   "name": "python3"
  },
  "language_info": {
   "codemirror_mode": {
    "name": "ipython",
    "version": 3
   },
   "file_extension": ".py",
   "mimetype": "text/x-python",
   "name": "python",
   "nbconvert_exporter": "python",
   "pygments_lexer": "ipython3",
   "version": "3.11.7"
  }
 },
 "nbformat": 4,
 "nbformat_minor": 2
}
