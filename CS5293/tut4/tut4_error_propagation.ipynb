{
 "cells": [
  {
   "cell_type": "markdown",
   "metadata": {},
   "source": [
    "# Error Propagation on Corrupted Cipher Text\n",
    "\n",
    "1. Encrypt a <font color=\"yellow\">64 bytes</font> long text file with <font color=\"yellow\">AES-128</font>;\n",
    "\n",
    "2. Flip a single bit, let’s say in the <font color=\"yellow\">28th</font> byte, corrupted, which means you need to modify one bit in the cipher text;\n",
    "\n",
    "3. Decrypt the modified cipher text using the correct key and IV;\n",
    "\n",
    "4. How much info can you recover by decrypting the corrupted file, if the encryption mode is ECB, CBC, CFB, OFB, and CTR?"
   ]
  },
  {
   "cell_type": "code",
   "execution_count": 1,
   "metadata": {},
   "outputs": [],
   "source": [
    "# visualization tools\n",
    "import textwrap\n",
    "\n",
    "color2num = dict(\n",
    "    gray=30,\n",
    "    red=31,\n",
    "    green=32,\n",
    "    yellow=33,\n",
    "    blue=34,\n",
    "    magenta=35,\n",
    "    cyan=36,\n",
    "    white=37,\n",
    "    crimson=38,\n",
    ")\n",
    "\n",
    "def colorize(string, color, bold=True, highlight=False):\n",
    "    \"\"\"\n",
    "    Colorize a string.\n",
    "\n",
    "    This function was originally written by John Schulman.\n",
    "    \"\"\"\n",
    "    attr = []\n",
    "    num = color2num[color]\n",
    "    if highlight:\n",
    "        num += 10\n",
    "    attr.append(str(num))\n",
    "    if bold:\n",
    "        attr.append(\"1\")\n",
    "    return \"\\x1b[%sm%s\\x1b[0m\" % (\";\".join(attr), string)\n",
    "\n",
    "def visual_hex_diff(bstr_1, bstr_2, hex_names=(\"HEX 1\", \"HEX 2\")):\n",
    "    SEP = \"   |   \"\n",
    "    print(\"  \", f\"{hex_names[0]}\".ljust(16 + 7), hex_names[1], sep=SEP)\n",
    "    # block level\n",
    "    hex_1, hex_2 = textwrap.wrap(bstr_1.hex(), 16), textwrap.wrap(bstr_2.hex(), 16)\n",
    "    for i, (block_1, block_2) in enumerate(zip(hex_1, hex_2)):\n",
    "        # byte level\n",
    "        block_1, block_2 = textwrap.wrap(block_1, 2), textwrap.wrap(block_2, 2)\n",
    "        block_2 = [colorize(v2, \"red\" if v1 != v2 else \"green\") for v1, v2 in zip(block_1, block_2)]\n",
    "        print(str(i).rjust(2), \" \".join(block_1).ljust(16 + 7), \" \".join(block_2).ljust( 16 + 7), sep=SEP)"
   ]
  },
  {
   "cell_type": "markdown",
   "metadata": {},
   "source": [
    "# Create random string"
   ]
  },
  {
   "cell_type": "code",
   "execution_count": 2,
   "metadata": {},
   "outputs": [
    {
     "name": "stdout",
     "output_type": "stream",
     "text": [
      "c5 d7 14 84 f8 cf 9b f4 b7 6f 47 90 47 30 80 4b 9e 32 25 a9 f1 33 b5 de a1 68 f4 e2 85 1f 07 2f cc 00 fc aa 7c a6 20 61 71 7a 48 e5 2e 29 a3 fa 37 9a 95 3f aa 68 93 e3 2e c5 a2 7b 94 5e 60 5f\n"
     ]
    }
   ],
   "source": [
    "import random\n",
    "\n",
    "random.seed(0)\n",
    "\n",
    "PLAINTEXT_BYTES = 64\n",
    "BLOCK_SIZE = 128 // 8 # AES block size\n",
    "\n",
    "plaintext = bytes(random.randrange(256) for _ in range(PLAINTEXT_BYTES))\n",
    "\n",
    "# save plaintext\n",
    "with open(\"h1_plaintext_origin\", \"wb\") as f:\n",
    "    f.write(plaintext)\n",
    "\n",
    "print(plaintext.hex(\" \"))"
   ]
  },
  {
   "cell_type": "markdown",
   "metadata": {},
   "source": [
    "## Available ciphers in openssl enc"
   ]
  },
  {
   "cell_type": "code",
   "execution_count": 3,
   "metadata": {},
   "outputs": [
    {
     "name": "stdout",
     "output_type": "stream",
     "text": [
      "-aes-128-cbc               -aes-128-cfb               -aes-128-cfb1             \n",
      "-aes-128-cfb8              -aes-128-ctr               -aes-128-ecb              \n",
      "-aes-128-ofb               -aes-192-cbc               -aes-192-cfb              \n"
     ]
    }
   ],
   "source": [
    "!openssl enc --list | grep -aes-128"
   ]
  },
  {
   "cell_type": "code",
   "execution_count": 4,
   "metadata": {},
   "outputs": [
    {
     "name": "stdout",
     "output_type": "stream",
     "text": [
      "1085f3232d424c1329c88d786ed68ce6 fcb62aa63bf9ab617c088a3b70be57aa\n"
     ]
    }
   ],
   "source": [
    "BLOCK_SIZE = 128\n",
    "\n",
    "# generate random key and iv\n",
    "KEY = bytes(random.randrange(256) for _ in range(BLOCK_SIZE // 8))\n",
    "IV = bytes(random.randrange(256) for _ in range(BLOCK_SIZE // 8))\n",
    "print(KEY.hex(), IV.hex())"
   ]
  },
  {
   "cell_type": "code",
   "execution_count": 5,
   "metadata": {},
   "outputs": [],
   "source": [
    "from cryptography.hazmat.primitives.ciphers import Cipher, algorithms, modes\n",
    "from cryptography.hazmat.primitives.padding import PKCS7\n",
    "\n",
    "def encrypt_corrupt_then_decrypt(plaintext, mode=modes.ECB(), corrupt_fn=lambda x: x):\n",
    "    # create cipher\n",
    "    cipher = Cipher(algorithms.AES(KEY), mode)\n",
    "    encryptor, decryptor = cipher.encryptor(), cipher.decryptor()\n",
    "    padder, unpadder = PKCS7(128).padder(), PKCS7(128).unpadder()\n",
    "\n",
    "    # encrypt\n",
    "    plaintext = padder.update(plaintext) + padder.finalize() if len(plaintext) % 16 else plaintext\n",
    "    ciphertext = encryptor.update(plaintext) + encryptor.finalize()\n",
    "\n",
    "    # corrupt\n",
    "    ciphertext = corrupt_fn(ciphertext)\n",
    "\n",
    "    # decrypt\n",
    "    deciphertext = decryptor.update(ciphertext) + decryptor.finalize()\n",
    "    deciphertext = unpadder.update(deciphertext) + unpadder.finalize() if len(plaintext) % 16 else deciphertext\n",
    "    return ciphertext, deciphertext"
   ]
  },
  {
   "cell_type": "code",
   "execution_count": 6,
   "metadata": {},
   "outputs": [],
   "source": [
    "def visual_bits_diff(a, b):\n",
    "    bit_str = lambda x: list(bin(int(x,16))[2:].rjust(8, \"0\"))\n",
    "    a, b = bit_str(a), bit_str(b)\n",
    "    b = [colorize(v2, \"red\" if v1 != v2 else \"green\") for v1, v2 in zip(a, b)]\n",
    "    print(\"Before Flipping: \\t{}\\nAfter Flipping: \\t{}\".format(\" \".join(a), \" \".join(b)))\n",
    "\n",
    "def flip_one_bit(x, index=0, bit_position=0):\n",
    "    int_list = list(x)\n",
    "    original_int = int_list[index]\n",
    "    int_list[index] ^= (1 << bit_position)\n",
    "    visual_bits_diff(bytes([original_int]).hex(), bytes([int_list[index]]).hex())\n",
    "    return bytes(int_list)"
   ]
  },
  {
   "cell_type": "code",
   "execution_count": 7,
   "metadata": {},
   "outputs": [
    {
     "name": "stdout",
     "output_type": "stream",
     "text": [
      "Before Flipping: \t0 0 1 1 0 0 0 0\n",
      "After Flipping: \t\u001b[32;1m0\u001b[0m \u001b[32;1m0\u001b[0m \u001b[32;1m1\u001b[0m \u001b[32;1m1\u001b[0m \u001b[31;1m1\u001b[0m \u001b[32;1m0\u001b[0m \u001b[32;1m0\u001b[0m \u001b[32;1m0\u001b[0m\n"
     ]
    },
    {
     "data": {
      "text/plain": [
       "b'81'"
      ]
     },
     "execution_count": 7,
     "metadata": {},
     "output_type": "execute_result"
    }
   ],
   "source": [
    "flip_one_bit(b\"01\", 0, 3)"
   ]
  },
  {
   "cell_type": "code",
   "execution_count": 8,
   "metadata": {},
   "outputs": [
    {
     "name": "stdout",
     "output_type": "stream",
     "text": [
      "Before Flipping: \t0 0 1 1 0 0 0 0\n",
      "After Flipping: \t\u001b[31;1m1\u001b[0m \u001b[32;1m0\u001b[0m \u001b[32;1m1\u001b[0m \u001b[32;1m1\u001b[0m \u001b[32;1m0\u001b[0m \u001b[32;1m0\u001b[0m \u001b[32;1m0\u001b[0m \u001b[32;1m0\u001b[0m\n"
     ]
    },
    {
     "data": {
      "text/plain": [
       "b'\\xb0'"
      ]
     },
     "execution_count": 8,
     "metadata": {},
     "output_type": "execute_result"
    }
   ],
   "source": [
    "flip_one_bit(b\"0\", 0, 7)"
   ]
  },
  {
   "cell_type": "markdown",
   "metadata": {},
   "source": [
    "## ECB"
   ]
  },
  {
   "cell_type": "code",
   "execution_count": 9,
   "metadata": {},
   "outputs": [
    {
     "name": "stdout",
     "output_type": "stream",
     "text": [
      "Before Flipping: \t0 1 0 1 1 1 0 0\n",
      "After Flipping: \t\u001b[32;1m0\u001b[0m \u001b[32;1m1\u001b[0m \u001b[32;1m0\u001b[0m \u001b[32;1m1\u001b[0m \u001b[32;1m1\u001b[0m \u001b[32;1m1\u001b[0m \u001b[32;1m0\u001b[0m \u001b[31;1m1\u001b[0m\n",
      "     |   ciphertext                |   corrupted ciphertext\n",
      " 0   |   b0 7a 37 e2 9c 41 78 5f   |   \u001b[32;1mb0\u001b[0m \u001b[32;1m7a\u001b[0m \u001b[32;1m37\u001b[0m \u001b[32;1me2\u001b[0m \u001b[32;1m9c\u001b[0m \u001b[32;1m41\u001b[0m \u001b[32;1m78\u001b[0m \u001b[32;1m5f\u001b[0m\n",
      " 1   |   81 94 05 f3 b4 60 d7 9f   |   \u001b[32;1m81\u001b[0m \u001b[32;1m94\u001b[0m \u001b[32;1m05\u001b[0m \u001b[32;1mf3\u001b[0m \u001b[32;1mb4\u001b[0m \u001b[32;1m60\u001b[0m \u001b[32;1md7\u001b[0m \u001b[32;1m9f\u001b[0m\n",
      " 2   |   7a de 5d 3d 61 1d c7 7f   |   \u001b[32;1m7a\u001b[0m \u001b[32;1mde\u001b[0m \u001b[32;1m5d\u001b[0m \u001b[32;1m3d\u001b[0m \u001b[32;1m61\u001b[0m \u001b[32;1m1d\u001b[0m \u001b[32;1mc7\u001b[0m \u001b[32;1m7f\u001b[0m\n",
      " 3   |   45 63 d6 5c b1 83 98 83   |   \u001b[32;1m45\u001b[0m \u001b[32;1m63\u001b[0m \u001b[32;1md6\u001b[0m \u001b[31;1m5d\u001b[0m \u001b[32;1mb1\u001b[0m \u001b[32;1m83\u001b[0m \u001b[32;1m98\u001b[0m \u001b[32;1m83\u001b[0m\n",
      " 4   |   0e 42 8c 06 9e da 56 e6   |   \u001b[32;1m0e\u001b[0m \u001b[32;1m42\u001b[0m \u001b[32;1m8c\u001b[0m \u001b[32;1m06\u001b[0m \u001b[32;1m9e\u001b[0m \u001b[32;1mda\u001b[0m \u001b[32;1m56\u001b[0m \u001b[32;1me6\u001b[0m\n",
      " 5   |   32 67 4d b9 c2 ac 54 bd   |   \u001b[32;1m32\u001b[0m \u001b[32;1m67\u001b[0m \u001b[32;1m4d\u001b[0m \u001b[32;1mb9\u001b[0m \u001b[32;1mc2\u001b[0m \u001b[32;1mac\u001b[0m \u001b[32;1m54\u001b[0m \u001b[32;1mbd\u001b[0m\n",
      " 6   |   8e db 04 cd 53 4a 44 7c   |   \u001b[32;1m8e\u001b[0m \u001b[32;1mdb\u001b[0m \u001b[32;1m04\u001b[0m \u001b[32;1mcd\u001b[0m \u001b[32;1m53\u001b[0m \u001b[32;1m4a\u001b[0m \u001b[32;1m44\u001b[0m \u001b[32;1m7c\u001b[0m\n",
      " 7   |   90 11 b3 8c 68 8f db c5   |   \u001b[32;1m90\u001b[0m \u001b[32;1m11\u001b[0m \u001b[32;1mb3\u001b[0m \u001b[32;1m8c\u001b[0m \u001b[32;1m68\u001b[0m \u001b[32;1m8f\u001b[0m \u001b[32;1mdb\u001b[0m \u001b[32;1mc5\u001b[0m\n",
      "     |   deciphertext              |   corrupted deciphertext\n",
      " 0   |   c5 d7 14 84 f8 cf 9b f4   |   \u001b[32;1mc5\u001b[0m \u001b[32;1md7\u001b[0m \u001b[32;1m14\u001b[0m \u001b[32;1m84\u001b[0m \u001b[32;1mf8\u001b[0m \u001b[32;1mcf\u001b[0m \u001b[32;1m9b\u001b[0m \u001b[32;1mf4\u001b[0m\n",
      " 1   |   b7 6f 47 90 47 30 80 4b   |   \u001b[32;1mb7\u001b[0m \u001b[32;1m6f\u001b[0m \u001b[32;1m47\u001b[0m \u001b[32;1m90\u001b[0m \u001b[32;1m47\u001b[0m \u001b[32;1m30\u001b[0m \u001b[32;1m80\u001b[0m \u001b[32;1m4b\u001b[0m\n",
      " 2   |   9e 32 25 a9 f1 33 b5 de   |   \u001b[31;1m71\u001b[0m \u001b[31;1m2f\u001b[0m \u001b[31;1mb7\u001b[0m \u001b[31;1m62\u001b[0m \u001b[31;1m85\u001b[0m \u001b[31;1m97\u001b[0m \u001b[31;1ma5\u001b[0m \u001b[31;1mbe\u001b[0m\n",
      " 3   |   a1 68 f4 e2 85 1f 07 2f   |   \u001b[31;1m3b\u001b[0m \u001b[31;1m6a\u001b[0m \u001b[31;1m63\u001b[0m \u001b[31;1m68\u001b[0m \u001b[31;1m2e\u001b[0m \u001b[31;1m65\u001b[0m \u001b[31;1m04\u001b[0m \u001b[31;1mac\u001b[0m\n",
      " 4   |   cc 00 fc aa 7c a6 20 61   |   \u001b[32;1mcc\u001b[0m \u001b[32;1m00\u001b[0m \u001b[32;1mfc\u001b[0m \u001b[32;1maa\u001b[0m \u001b[32;1m7c\u001b[0m \u001b[32;1ma6\u001b[0m \u001b[32;1m20\u001b[0m \u001b[32;1m61\u001b[0m\n",
      " 5   |   71 7a 48 e5 2e 29 a3 fa   |   \u001b[32;1m71\u001b[0m \u001b[32;1m7a\u001b[0m \u001b[32;1m48\u001b[0m \u001b[32;1me5\u001b[0m \u001b[32;1m2e\u001b[0m \u001b[32;1m29\u001b[0m \u001b[32;1ma3\u001b[0m \u001b[32;1mfa\u001b[0m\n",
      " 6   |   37 9a 95 3f aa 68 93 e3   |   \u001b[32;1m37\u001b[0m \u001b[32;1m9a\u001b[0m \u001b[32;1m95\u001b[0m \u001b[32;1m3f\u001b[0m \u001b[32;1maa\u001b[0m \u001b[32;1m68\u001b[0m \u001b[32;1m93\u001b[0m \u001b[32;1me3\u001b[0m\n",
      " 7   |   2e c5 a2 7b 94 5e 60 5f   |   \u001b[32;1m2e\u001b[0m \u001b[32;1mc5\u001b[0m \u001b[32;1ma2\u001b[0m \u001b[32;1m7b\u001b[0m \u001b[32;1m94\u001b[0m \u001b[32;1m5e\u001b[0m \u001b[32;1m60\u001b[0m \u001b[32;1m5f\u001b[0m\n"
     ]
    }
   ],
   "source": [
    "from functools import partial\n",
    "\n",
    "ciphertext, deciphertext = encrypt_corrupt_then_decrypt(plaintext, modes.ECB())\n",
    "corrupted_ciphertext, corrupted_deciphertext = encrypt_corrupt_then_decrypt(plaintext, modes.ECB(), partial(flip_one_bit, index=27, bit_position=0))\n",
    "visual_hex_diff(ciphertext, corrupted_ciphertext, [\"ciphertext\", \"corrupted ciphertext\"])\n",
    "visual_hex_diff(deciphertext, corrupted_deciphertext, [\"deciphertext\", \"corrupted deciphertext\"])"
   ]
  },
  {
   "cell_type": "markdown",
   "metadata": {},
   "source": [
    "## CBC"
   ]
  },
  {
   "cell_type": "code",
   "execution_count": 10,
   "metadata": {},
   "outputs": [
    {
     "name": "stdout",
     "output_type": "stream",
     "text": [
      "Before Flipping: \t0 0 0 1 1 0 0 1\n",
      "After Flipping: \t\u001b[32;1m0\u001b[0m \u001b[32;1m0\u001b[0m \u001b[32;1m0\u001b[0m \u001b[32;1m1\u001b[0m \u001b[32;1m1\u001b[0m \u001b[32;1m0\u001b[0m \u001b[31;1m1\u001b[0m \u001b[32;1m1\u001b[0m\n",
      "     |   ciphertext                |   corrupted ciphertext\n",
      " 0   |   2c f6 2e 7e 50 95 57 6b   |   \u001b[32;1m2c\u001b[0m \u001b[32;1mf6\u001b[0m \u001b[32;1m2e\u001b[0m \u001b[32;1m7e\u001b[0m \u001b[32;1m50\u001b[0m \u001b[32;1m95\u001b[0m \u001b[32;1m57\u001b[0m \u001b[32;1m6b\u001b[0m\n",
      " 1   |   44 60 f1 3c 25 fb 75 c2   |   \u001b[32;1m44\u001b[0m \u001b[32;1m60\u001b[0m \u001b[32;1mf1\u001b[0m \u001b[32;1m3c\u001b[0m \u001b[32;1m25\u001b[0m \u001b[32;1mfb\u001b[0m \u001b[32;1m75\u001b[0m \u001b[32;1mc2\u001b[0m\n",
      " 2   |   7d 1e 2b cb bd 6f f8 d2   |   \u001b[32;1m7d\u001b[0m \u001b[32;1m1e\u001b[0m \u001b[32;1m2b\u001b[0m \u001b[32;1mcb\u001b[0m \u001b[32;1mbd\u001b[0m \u001b[32;1m6f\u001b[0m \u001b[32;1mf8\u001b[0m \u001b[32;1md2\u001b[0m\n",
      " 3   |   97 79 65 19 0c f2 5c 80   |   \u001b[32;1m97\u001b[0m \u001b[32;1m79\u001b[0m \u001b[32;1m65\u001b[0m \u001b[31;1m1b\u001b[0m \u001b[32;1m0c\u001b[0m \u001b[32;1mf2\u001b[0m \u001b[32;1m5c\u001b[0m \u001b[32;1m80\u001b[0m\n",
      " 4   |   c5 ed db 5a 21 d9 d2 da   |   \u001b[32;1mc5\u001b[0m \u001b[32;1med\u001b[0m \u001b[32;1mdb\u001b[0m \u001b[32;1m5a\u001b[0m \u001b[32;1m21\u001b[0m \u001b[32;1md9\u001b[0m \u001b[32;1md2\u001b[0m \u001b[32;1mda\u001b[0m\n",
      " 5   |   12 2c 57 e0 96 26 41 13   |   \u001b[32;1m12\u001b[0m \u001b[32;1m2c\u001b[0m \u001b[32;1m57\u001b[0m \u001b[32;1me0\u001b[0m \u001b[32;1m96\u001b[0m \u001b[32;1m26\u001b[0m \u001b[32;1m41\u001b[0m \u001b[32;1m13\u001b[0m\n",
      " 6   |   ba 93 95 b5 9a 3e e9 23   |   \u001b[32;1mba\u001b[0m \u001b[32;1m93\u001b[0m \u001b[32;1m95\u001b[0m \u001b[32;1mb5\u001b[0m \u001b[32;1m9a\u001b[0m \u001b[32;1m3e\u001b[0m \u001b[32;1me9\u001b[0m \u001b[32;1m23\u001b[0m\n",
      " 7   |   b1 b7 d1 37 9c 0f ca cc   |   \u001b[32;1mb1\u001b[0m \u001b[32;1mb7\u001b[0m \u001b[32;1md1\u001b[0m \u001b[32;1m37\u001b[0m \u001b[32;1m9c\u001b[0m \u001b[32;1m0f\u001b[0m \u001b[32;1mca\u001b[0m \u001b[32;1mcc\u001b[0m\n",
      "     |   deciphertext              |   corrupted deciphertext\n",
      " 0   |   c5 d7 14 84 f8 cf 9b f4   |   \u001b[32;1mc5\u001b[0m \u001b[32;1md7\u001b[0m \u001b[32;1m14\u001b[0m \u001b[32;1m84\u001b[0m \u001b[32;1mf8\u001b[0m \u001b[32;1mcf\u001b[0m \u001b[32;1m9b\u001b[0m \u001b[32;1mf4\u001b[0m\n",
      " 1   |   b7 6f 47 90 47 30 80 4b   |   \u001b[32;1mb7\u001b[0m \u001b[32;1m6f\u001b[0m \u001b[32;1m47\u001b[0m \u001b[32;1m90\u001b[0m \u001b[32;1m47\u001b[0m \u001b[32;1m30\u001b[0m \u001b[32;1m80\u001b[0m \u001b[32;1m4b\u001b[0m\n",
      " 2   |   9e 32 25 a9 f1 33 b5 de   |   \u001b[31;1me6\u001b[0m \u001b[31;1m1e\u001b[0m \u001b[31;1m39\u001b[0m \u001b[31;1mbd\u001b[0m \u001b[31;1m68\u001b[0m \u001b[31;1mce\u001b[0m \u001b[31;1m92\u001b[0m \u001b[31;1m3e\u001b[0m\n",
      " 3   |   a1 68 f4 e2 85 1f 07 2f   |   \u001b[31;1m45\u001b[0m \u001b[31;1mc5\u001b[0m \u001b[31;1mf0\u001b[0m \u001b[31;1m80\u001b[0m \u001b[31;1m94\u001b[0m \u001b[31;1m6d\u001b[0m \u001b[31;1m66\u001b[0m \u001b[31;1m74\u001b[0m\n",
      " 4   |   cc 00 fc aa 7c a6 20 61   |   \u001b[32;1mcc\u001b[0m \u001b[32;1m00\u001b[0m \u001b[32;1mfc\u001b[0m \u001b[32;1maa\u001b[0m \u001b[32;1m7c\u001b[0m \u001b[32;1ma6\u001b[0m \u001b[32;1m20\u001b[0m \u001b[32;1m61\u001b[0m\n",
      " 5   |   71 7a 48 e5 2e 29 a3 fa   |   \u001b[32;1m71\u001b[0m \u001b[32;1m7a\u001b[0m \u001b[32;1m48\u001b[0m \u001b[31;1me7\u001b[0m \u001b[32;1m2e\u001b[0m \u001b[32;1m29\u001b[0m \u001b[32;1ma3\u001b[0m \u001b[32;1mfa\u001b[0m\n",
      " 6   |   37 9a 95 3f aa 68 93 e3   |   \u001b[32;1m37\u001b[0m \u001b[32;1m9a\u001b[0m \u001b[32;1m95\u001b[0m \u001b[32;1m3f\u001b[0m \u001b[32;1maa\u001b[0m \u001b[32;1m68\u001b[0m \u001b[32;1m93\u001b[0m \u001b[32;1me3\u001b[0m\n",
      " 7   |   2e c5 a2 7b 94 5e 60 5f   |   \u001b[32;1m2e\u001b[0m \u001b[32;1mc5\u001b[0m \u001b[32;1ma2\u001b[0m \u001b[32;1m7b\u001b[0m \u001b[32;1m94\u001b[0m \u001b[32;1m5e\u001b[0m \u001b[32;1m60\u001b[0m \u001b[32;1m5f\u001b[0m\n"
     ]
    }
   ],
   "source": [
    "ciphertext, deciphertext = encrypt_corrupt_then_decrypt(plaintext, modes.CBC(IV))\n",
    "corrupted_ciphertext, corrupted_deciphertext = encrypt_corrupt_then_decrypt(plaintext, modes.CBC(IV), partial(flip_one_bit, index=27, bit_position=1))\n",
    "visual_hex_diff(ciphertext, corrupted_ciphertext, [\"ciphertext\", \"corrupted ciphertext\"])\n",
    "visual_hex_diff(deciphertext, corrupted_deciphertext, [\"deciphertext\", \"corrupted deciphertext\"])"
   ]
  },
  {
   "cell_type": "code",
   "execution_count": 13,
   "metadata": {},
   "outputs": [
    {
     "name": "stdout",
     "output_type": "stream",
     "text": [
      "Before Flipping: \t1 1 1 0 0 1 0 1\n",
      "After Flipping: \t\u001b[32;1m1\u001b[0m \u001b[32;1m1\u001b[0m \u001b[32;1m1\u001b[0m \u001b[32;1m0\u001b[0m \u001b[32;1m0\u001b[0m \u001b[32;1m1\u001b[0m \u001b[31;1m1\u001b[0m \u001b[32;1m1\u001b[0m\n"
     ]
    }
   ],
   "source": [
    "visual_bits_diff(\"e5\",\"e7\")"
   ]
  },
  {
   "cell_type": "markdown",
   "metadata": {},
   "source": [
    "Observation: \n",
    "1) Complete corruption of the corresponding block of plaintext \n",
    "2) Inverts the corresponding bit in the following block of plaintext\n",
    "3) The rest of the blocks remains intact"
   ]
  },
  {
   "cell_type": "markdown",
   "metadata": {},
   "source": [
    "## OFB"
   ]
  },
  {
   "cell_type": "code",
   "execution_count": 12,
   "metadata": {},
   "outputs": [
    {
     "name": "stdout",
     "output_type": "stream",
     "text": [
      "Before Flipping: \t0 0 0 1 1 0 0 1\n",
      "After Flipping: \t\u001b[32;1m0\u001b[0m \u001b[32;1m0\u001b[0m \u001b[32;1m0\u001b[0m \u001b[32;1m1\u001b[0m \u001b[32;1m1\u001b[0m \u001b[31;1m1\u001b[0m \u001b[32;1m0\u001b[0m \u001b[32;1m1\u001b[0m\n",
      "     |   ciphertext                |   corrupted ciphertext\n",
      " 0   |   c4 06 4c 9d 13 e4 22 66   |   \u001b[32;1mc4\u001b[0m \u001b[32;1m06\u001b[0m \u001b[32;1m4c\u001b[0m \u001b[32;1m9d\u001b[0m \u001b[32;1m13\u001b[0m \u001b[32;1me4\u001b[0m \u001b[32;1m22\u001b[0m \u001b[32;1m66\u001b[0m\n",
      " 1   |   28 b0 83 9d c2 0b f5 b7   |   \u001b[32;1m28\u001b[0m \u001b[32;1mb0\u001b[0m \u001b[32;1m83\u001b[0m \u001b[32;1m9d\u001b[0m \u001b[32;1mc2\u001b[0m \u001b[32;1m0b\u001b[0m \u001b[32;1mf5\u001b[0m \u001b[32;1mb7\u001b[0m\n",
      " 2   |   39 87 84 10 dd fa f6 ea   |   \u001b[32;1m39\u001b[0m \u001b[32;1m87\u001b[0m \u001b[32;1m84\u001b[0m \u001b[32;1m10\u001b[0m \u001b[32;1mdd\u001b[0m \u001b[32;1mfa\u001b[0m \u001b[32;1mf6\u001b[0m \u001b[32;1mea\u001b[0m\n",
      " 3   |   42 3c 8f 19 a6 be 37 3a   |   \u001b[32;1m42\u001b[0m \u001b[32;1m3c\u001b[0m \u001b[32;1m8f\u001b[0m \u001b[31;1m1d\u001b[0m \u001b[32;1ma6\u001b[0m \u001b[32;1mbe\u001b[0m \u001b[32;1m37\u001b[0m \u001b[32;1m3a\u001b[0m\n",
      " 4   |   dc aa 6c 32 bf 23 e4 72   |   \u001b[32;1mdc\u001b[0m \u001b[32;1maa\u001b[0m \u001b[32;1m6c\u001b[0m \u001b[32;1m32\u001b[0m \u001b[32;1mbf\u001b[0m \u001b[32;1m23\u001b[0m \u001b[32;1me4\u001b[0m \u001b[32;1m72\u001b[0m\n",
      " 5   |   3a e0 9a e8 19 49 c5 4d   |   \u001b[32;1m3a\u001b[0m \u001b[32;1me0\u001b[0m \u001b[32;1m9a\u001b[0m \u001b[32;1me8\u001b[0m \u001b[32;1m19\u001b[0m \u001b[32;1m49\u001b[0m \u001b[32;1mc5\u001b[0m \u001b[32;1m4d\u001b[0m\n",
      " 6   |   cd 94 a9 d8 62 65 19 ed   |   \u001b[32;1mcd\u001b[0m \u001b[32;1m94\u001b[0m \u001b[32;1ma9\u001b[0m \u001b[32;1md8\u001b[0m \u001b[32;1m62\u001b[0m \u001b[32;1m65\u001b[0m \u001b[32;1m19\u001b[0m \u001b[32;1med\u001b[0m\n",
      " 7   |   56 8a 34 7a f3 6a 36 8f   |   \u001b[32;1m56\u001b[0m \u001b[32;1m8a\u001b[0m \u001b[32;1m34\u001b[0m \u001b[32;1m7a\u001b[0m \u001b[32;1mf3\u001b[0m \u001b[32;1m6a\u001b[0m \u001b[32;1m36\u001b[0m \u001b[32;1m8f\u001b[0m\n",
      "     |   deciphertext              |   corrupted deciphertext\n",
      " 0   |   c5 d7 14 84 f8 cf 9b f4   |   \u001b[32;1mc5\u001b[0m \u001b[32;1md7\u001b[0m \u001b[32;1m14\u001b[0m \u001b[32;1m84\u001b[0m \u001b[32;1mf8\u001b[0m \u001b[32;1mcf\u001b[0m \u001b[32;1m9b\u001b[0m \u001b[32;1mf4\u001b[0m\n",
      " 1   |   b7 6f 47 90 47 30 80 4b   |   \u001b[32;1mb7\u001b[0m \u001b[32;1m6f\u001b[0m \u001b[32;1m47\u001b[0m \u001b[32;1m90\u001b[0m \u001b[32;1m47\u001b[0m \u001b[32;1m30\u001b[0m \u001b[32;1m80\u001b[0m \u001b[32;1m4b\u001b[0m\n",
      " 2   |   9e 32 25 a9 f1 33 b5 de   |   \u001b[32;1m9e\u001b[0m \u001b[32;1m32\u001b[0m \u001b[32;1m25\u001b[0m \u001b[32;1ma9\u001b[0m \u001b[32;1mf1\u001b[0m \u001b[32;1m33\u001b[0m \u001b[32;1mb5\u001b[0m \u001b[32;1mde\u001b[0m\n",
      " 3   |   a1 68 f4 e2 85 1f 07 2f   |   \u001b[32;1ma1\u001b[0m \u001b[32;1m68\u001b[0m \u001b[32;1mf4\u001b[0m \u001b[31;1me6\u001b[0m \u001b[32;1m85\u001b[0m \u001b[32;1m1f\u001b[0m \u001b[32;1m07\u001b[0m \u001b[32;1m2f\u001b[0m\n",
      " 4   |   cc 00 fc aa 7c a6 20 61   |   \u001b[32;1mcc\u001b[0m \u001b[32;1m00\u001b[0m \u001b[32;1mfc\u001b[0m \u001b[32;1maa\u001b[0m \u001b[32;1m7c\u001b[0m \u001b[32;1ma6\u001b[0m \u001b[32;1m20\u001b[0m \u001b[32;1m61\u001b[0m\n",
      " 5   |   71 7a 48 e5 2e 29 a3 fa   |   \u001b[32;1m71\u001b[0m \u001b[32;1m7a\u001b[0m \u001b[32;1m48\u001b[0m \u001b[32;1me5\u001b[0m \u001b[32;1m2e\u001b[0m \u001b[32;1m29\u001b[0m \u001b[32;1ma3\u001b[0m \u001b[32;1mfa\u001b[0m\n",
      " 6   |   37 9a 95 3f aa 68 93 e3   |   \u001b[32;1m37\u001b[0m \u001b[32;1m9a\u001b[0m \u001b[32;1m95\u001b[0m \u001b[32;1m3f\u001b[0m \u001b[32;1maa\u001b[0m \u001b[32;1m68\u001b[0m \u001b[32;1m93\u001b[0m \u001b[32;1me3\u001b[0m\n",
      " 7   |   2e c5 a2 7b 94 5e 60 5f   |   \u001b[32;1m2e\u001b[0m \u001b[32;1mc5\u001b[0m \u001b[32;1ma2\u001b[0m \u001b[32;1m7b\u001b[0m \u001b[32;1m94\u001b[0m \u001b[32;1m5e\u001b[0m \u001b[32;1m60\u001b[0m \u001b[32;1m5f\u001b[0m\n"
     ]
    }
   ],
   "source": [
    "ciphertext, deciphertext = encrypt_corrupt_then_decrypt(plaintext, modes.OFB(IV))\n",
    "corrupted_ciphertext, corrupted_deciphertext = encrypt_corrupt_then_decrypt(plaintext, modes.OFB(IV), partial(flip_one_bit, index=27, bit_position=2))\n",
    "visual_hex_diff(ciphertext, corrupted_ciphertext, [\"ciphertext\", \"corrupted ciphertext\"])\n",
    "visual_hex_diff(deciphertext, corrupted_deciphertext, [\"deciphertext\", \"corrupted deciphertext\"])"
   ]
  },
  {
   "cell_type": "code",
   "execution_count": 14,
   "metadata": {},
   "outputs": [
    {
     "name": "stdout",
     "output_type": "stream",
     "text": [
      "Before Flipping: \t1 1 1 0 0 0 1 0\n",
      "After Flipping: \t\u001b[32;1m1\u001b[0m \u001b[32;1m1\u001b[0m \u001b[32;1m1\u001b[0m \u001b[32;1m0\u001b[0m \u001b[32;1m0\u001b[0m \u001b[31;1m1\u001b[0m \u001b[32;1m1\u001b[0m \u001b[32;1m0\u001b[0m\n"
     ]
    }
   ],
   "source": [
    "visual_bits_diff(\"e2\",\"e6\")"
   ]
  },
  {
   "cell_type": "markdown",
   "metadata": {},
   "source": [
    "### CFB"
   ]
  },
  {
   "cell_type": "code",
   "execution_count": 15,
   "metadata": {},
   "outputs": [
    {
     "name": "stdout",
     "output_type": "stream",
     "text": [
      "Before Flipping: \t0 1 0 0 1 0 1 1\n",
      "After Flipping: \t\u001b[32;1m0\u001b[0m \u001b[32;1m1\u001b[0m \u001b[32;1m0\u001b[0m \u001b[32;1m0\u001b[0m \u001b[31;1m0\u001b[0m \u001b[32;1m0\u001b[0m \u001b[32;1m1\u001b[0m \u001b[32;1m1\u001b[0m\n",
      "     |   ciphertext                |   corrupted ciphertext\n",
      " 0   |   c4 06 4c 9d 13 e4 22 66   |   \u001b[32;1mc4\u001b[0m \u001b[32;1m06\u001b[0m \u001b[32;1m4c\u001b[0m \u001b[32;1m9d\u001b[0m \u001b[32;1m13\u001b[0m \u001b[32;1me4\u001b[0m \u001b[32;1m22\u001b[0m \u001b[32;1m66\u001b[0m\n",
      " 1   |   28 b0 83 9d c2 0b f5 b7   |   \u001b[32;1m28\u001b[0m \u001b[32;1mb0\u001b[0m \u001b[32;1m83\u001b[0m \u001b[32;1m9d\u001b[0m \u001b[32;1mc2\u001b[0m \u001b[32;1m0b\u001b[0m \u001b[32;1mf5\u001b[0m \u001b[32;1mb7\u001b[0m\n",
      " 2   |   94 b9 81 8b cd f5 9b 6b   |   \u001b[32;1m94\u001b[0m \u001b[32;1mb9\u001b[0m \u001b[32;1m81\u001b[0m \u001b[32;1m8b\u001b[0m \u001b[32;1mcd\u001b[0m \u001b[32;1mf5\u001b[0m \u001b[32;1m9b\u001b[0m \u001b[32;1m6b\u001b[0m\n",
      " 3   |   40 ac c5 4b cd 8d ab 9b   |   \u001b[32;1m40\u001b[0m \u001b[32;1mac\u001b[0m \u001b[32;1mc5\u001b[0m \u001b[31;1m43\u001b[0m \u001b[32;1mcd\u001b[0m \u001b[32;1m8d\u001b[0m \u001b[32;1mab\u001b[0m \u001b[32;1m9b\u001b[0m\n",
      " 4   |   56 a5 15 06 e2 ba 6b 72   |   \u001b[32;1m56\u001b[0m \u001b[32;1ma5\u001b[0m \u001b[32;1m15\u001b[0m \u001b[32;1m06\u001b[0m \u001b[32;1me2\u001b[0m \u001b[32;1mba\u001b[0m \u001b[32;1m6b\u001b[0m \u001b[32;1m72\u001b[0m\n",
      " 5   |   b6 76 aa 29 76 3c 12 4d   |   \u001b[32;1mb6\u001b[0m \u001b[32;1m76\u001b[0m \u001b[32;1maa\u001b[0m \u001b[32;1m29\u001b[0m \u001b[32;1m76\u001b[0m \u001b[32;1m3c\u001b[0m \u001b[32;1m12\u001b[0m \u001b[32;1m4d\u001b[0m\n",
      " 6   |   aa 11 52 f1 e9 48 5c 63   |   \u001b[32;1maa\u001b[0m \u001b[32;1m11\u001b[0m \u001b[32;1m52\u001b[0m \u001b[32;1mf1\u001b[0m \u001b[32;1me9\u001b[0m \u001b[32;1m48\u001b[0m \u001b[32;1m5c\u001b[0m \u001b[32;1m63\u001b[0m\n",
      " 7   |   4f 56 b8 52 24 05 65 ad   |   \u001b[32;1m4f\u001b[0m \u001b[32;1m56\u001b[0m \u001b[32;1mb8\u001b[0m \u001b[32;1m52\u001b[0m \u001b[32;1m24\u001b[0m \u001b[32;1m05\u001b[0m \u001b[32;1m65\u001b[0m \u001b[32;1mad\u001b[0m\n",
      "     |   deciphertext              |   corrupted deciphertext\n",
      " 0   |   c5 d7 14 84 f8 cf 9b f4   |   \u001b[32;1mc5\u001b[0m \u001b[32;1md7\u001b[0m \u001b[32;1m14\u001b[0m \u001b[32;1m84\u001b[0m \u001b[32;1mf8\u001b[0m \u001b[32;1mcf\u001b[0m \u001b[32;1m9b\u001b[0m \u001b[32;1mf4\u001b[0m\n",
      " 1   |   b7 6f 47 90 47 30 80 4b   |   \u001b[32;1mb7\u001b[0m \u001b[32;1m6f\u001b[0m \u001b[32;1m47\u001b[0m \u001b[32;1m90\u001b[0m \u001b[32;1m47\u001b[0m \u001b[32;1m30\u001b[0m \u001b[32;1m80\u001b[0m \u001b[32;1m4b\u001b[0m\n",
      " 2   |   9e 32 25 a9 f1 33 b5 de   |   \u001b[32;1m9e\u001b[0m \u001b[32;1m32\u001b[0m \u001b[32;1m25\u001b[0m \u001b[32;1ma9\u001b[0m \u001b[32;1mf1\u001b[0m \u001b[32;1m33\u001b[0m \u001b[32;1mb5\u001b[0m \u001b[32;1mde\u001b[0m\n",
      " 3   |   a1 68 f4 e2 85 1f 07 2f   |   \u001b[32;1ma1\u001b[0m \u001b[32;1m68\u001b[0m \u001b[32;1mf4\u001b[0m \u001b[31;1mea\u001b[0m \u001b[32;1m85\u001b[0m \u001b[32;1m1f\u001b[0m \u001b[32;1m07\u001b[0m \u001b[32;1m2f\u001b[0m\n",
      " 4   |   cc 00 fc aa 7c a6 20 61   |   \u001b[31;1m42\u001b[0m \u001b[31;1m26\u001b[0m \u001b[31;1m36\u001b[0m \u001b[31;1ma9\u001b[0m \u001b[31;1md9\u001b[0m \u001b[31;1m0b\u001b[0m \u001b[31;1m6d\u001b[0m \u001b[31;1m41\u001b[0m\n",
      " 5   |   71 7a 48 e5 2e 29 a3 fa   |   \u001b[31;1m43\u001b[0m \u001b[31;1mbe\u001b[0m \u001b[31;1ma4\u001b[0m \u001b[31;1m41\u001b[0m \u001b[32;1m2e\u001b[0m \u001b[31;1m9e\u001b[0m \u001b[31;1mc0\u001b[0m \u001b[31;1m31\u001b[0m\n",
      " 6   |   37 9a 95 3f aa 68 93 e3   |   \u001b[32;1m37\u001b[0m \u001b[32;1m9a\u001b[0m \u001b[32;1m95\u001b[0m \u001b[32;1m3f\u001b[0m \u001b[32;1maa\u001b[0m \u001b[32;1m68\u001b[0m \u001b[32;1m93\u001b[0m \u001b[32;1me3\u001b[0m\n",
      " 7   |   2e c5 a2 7b 94 5e 60 5f   |   \u001b[32;1m2e\u001b[0m \u001b[32;1mc5\u001b[0m \u001b[32;1ma2\u001b[0m \u001b[32;1m7b\u001b[0m \u001b[32;1m94\u001b[0m \u001b[32;1m5e\u001b[0m \u001b[32;1m60\u001b[0m \u001b[32;1m5f\u001b[0m\n"
     ]
    }
   ],
   "source": [
    "ciphertext, deciphertext = encrypt_corrupt_then_decrypt(plaintext, modes.CFB(IV))\n",
    "corrupted_ciphertext, corrupted_deciphertext = encrypt_corrupt_then_decrypt(plaintext, modes.CFB(IV), partial(flip_one_bit, index=27, bit_position=3))\n",
    "visual_hex_diff(ciphertext, corrupted_ciphertext, [\"ciphertext\", \"corrupted ciphertext\"])\n",
    "visual_hex_diff(deciphertext, corrupted_deciphertext, [\"deciphertext\", \"corrupted deciphertext\"])"
   ]
  },
  {
   "cell_type": "code",
   "execution_count": 16,
   "metadata": {},
   "outputs": [
    {
     "name": "stdout",
     "output_type": "stream",
     "text": [
      "Before Flipping: \t1 1 1 0 0 0 1 0\n",
      "After Flipping: \t\u001b[32;1m1\u001b[0m \u001b[32;1m1\u001b[0m \u001b[32;1m1\u001b[0m \u001b[32;1m0\u001b[0m \u001b[31;1m1\u001b[0m \u001b[32;1m0\u001b[0m \u001b[32;1m1\u001b[0m \u001b[32;1m0\u001b[0m\n"
     ]
    }
   ],
   "source": [
    "visual_bits_diff(\"e2\",\"ea\")"
   ]
  },
  {
   "cell_type": "markdown",
   "metadata": {},
   "source": [
    "Observation:\n",
    "1) Complete corruption of the next block of plaintext \n",
    "2) Inverts the corresponding bit in the block of plaintext\n",
    "3) The rest of the blocks remains intact"
   ]
  },
  {
   "cell_type": "markdown",
   "metadata": {},
   "source": [
    "### CTR"
   ]
  },
  {
   "cell_type": "code",
   "execution_count": 17,
   "metadata": {},
   "outputs": [
    {
     "name": "stdout",
     "output_type": "stream",
     "text": [
      "Before Flipping: \t1 0 0 0 0 0 0 0\n",
      "After Flipping: \t\u001b[32;1m1\u001b[0m \u001b[31;1m1\u001b[0m \u001b[32;1m0\u001b[0m \u001b[32;1m0\u001b[0m \u001b[32;1m0\u001b[0m \u001b[32;1m0\u001b[0m \u001b[32;1m0\u001b[0m \u001b[32;1m0\u001b[0m\n",
      "     |   ciphertext                |   corrupted ciphertext\n",
      " 0   |   c4 06 4c 9d 13 e4 22 66   |   \u001b[32;1mc4\u001b[0m \u001b[32;1m06\u001b[0m \u001b[32;1m4c\u001b[0m \u001b[32;1m9d\u001b[0m \u001b[32;1m13\u001b[0m \u001b[32;1me4\u001b[0m \u001b[32;1m22\u001b[0m \u001b[32;1m66\u001b[0m\n",
      " 1   |   28 b0 83 9d c2 0b f5 b7   |   \u001b[32;1m28\u001b[0m \u001b[32;1mb0\u001b[0m \u001b[32;1m83\u001b[0m \u001b[32;1m9d\u001b[0m \u001b[32;1mc2\u001b[0m \u001b[32;1m0b\u001b[0m \u001b[32;1mf5\u001b[0m \u001b[32;1mb7\u001b[0m\n",
      " 2   |   64 db 65 95 15 55 98 a5   |   \u001b[32;1m64\u001b[0m \u001b[32;1mdb\u001b[0m \u001b[32;1m65\u001b[0m \u001b[32;1m95\u001b[0m \u001b[32;1m15\u001b[0m \u001b[32;1m55\u001b[0m \u001b[32;1m98\u001b[0m \u001b[32;1ma5\u001b[0m\n",
      " 3   |   9e 0d 5f 80 fe 3b 1b e4   |   \u001b[32;1m9e\u001b[0m \u001b[32;1m0d\u001b[0m \u001b[32;1m5f\u001b[0m \u001b[31;1mc0\u001b[0m \u001b[32;1mfe\u001b[0m \u001b[32;1m3b\u001b[0m \u001b[32;1m1b\u001b[0m \u001b[32;1me4\u001b[0m\n",
      " 4   |   8b 14 62 bb d4 d0 ca 89   |   \u001b[32;1m8b\u001b[0m \u001b[32;1m14\u001b[0m \u001b[32;1m62\u001b[0m \u001b[32;1mbb\u001b[0m \u001b[32;1md4\u001b[0m \u001b[32;1md0\u001b[0m \u001b[32;1mca\u001b[0m \u001b[32;1m89\u001b[0m\n",
      " 5   |   45 7d 5c 02 e1 83 91 cf   |   \u001b[32;1m45\u001b[0m \u001b[32;1m7d\u001b[0m \u001b[32;1m5c\u001b[0m \u001b[32;1m02\u001b[0m \u001b[32;1me1\u001b[0m \u001b[32;1m83\u001b[0m \u001b[32;1m91\u001b[0m \u001b[32;1mcf\u001b[0m\n",
      " 6   |   6b f6 eb e5 fe 22 36 00   |   \u001b[32;1m6b\u001b[0m \u001b[32;1mf6\u001b[0m \u001b[32;1meb\u001b[0m \u001b[32;1me5\u001b[0m \u001b[32;1mfe\u001b[0m \u001b[32;1m22\u001b[0m \u001b[32;1m36\u001b[0m \u001b[32;1m00\u001b[0m\n",
      " 7   |   e8 1f 53 10 95 6f 50 36   |   \u001b[32;1me8\u001b[0m \u001b[32;1m1f\u001b[0m \u001b[32;1m53\u001b[0m \u001b[32;1m10\u001b[0m \u001b[32;1m95\u001b[0m \u001b[32;1m6f\u001b[0m \u001b[32;1m50\u001b[0m \u001b[32;1m36\u001b[0m\n",
      "     |   deciphertext              |   corrupted deciphertext\n",
      " 0   |   c5 d7 14 84 f8 cf 9b f4   |   \u001b[32;1mc5\u001b[0m \u001b[32;1md7\u001b[0m \u001b[32;1m14\u001b[0m \u001b[32;1m84\u001b[0m \u001b[32;1mf8\u001b[0m \u001b[32;1mcf\u001b[0m \u001b[32;1m9b\u001b[0m \u001b[32;1mf4\u001b[0m\n",
      " 1   |   b7 6f 47 90 47 30 80 4b   |   \u001b[32;1mb7\u001b[0m \u001b[32;1m6f\u001b[0m \u001b[32;1m47\u001b[0m \u001b[32;1m90\u001b[0m \u001b[32;1m47\u001b[0m \u001b[32;1m30\u001b[0m \u001b[32;1m80\u001b[0m \u001b[32;1m4b\u001b[0m\n",
      " 2   |   9e 32 25 a9 f1 33 b5 de   |   \u001b[32;1m9e\u001b[0m \u001b[32;1m32\u001b[0m \u001b[32;1m25\u001b[0m \u001b[32;1ma9\u001b[0m \u001b[32;1mf1\u001b[0m \u001b[32;1m33\u001b[0m \u001b[32;1mb5\u001b[0m \u001b[32;1mde\u001b[0m\n",
      " 3   |   a1 68 f4 e2 85 1f 07 2f   |   \u001b[32;1ma1\u001b[0m \u001b[32;1m68\u001b[0m \u001b[32;1mf4\u001b[0m \u001b[31;1ma2\u001b[0m \u001b[32;1m85\u001b[0m \u001b[32;1m1f\u001b[0m \u001b[32;1m07\u001b[0m \u001b[32;1m2f\u001b[0m\n",
      " 4   |   cc 00 fc aa 7c a6 20 61   |   \u001b[32;1mcc\u001b[0m \u001b[32;1m00\u001b[0m \u001b[32;1mfc\u001b[0m \u001b[32;1maa\u001b[0m \u001b[32;1m7c\u001b[0m \u001b[32;1ma6\u001b[0m \u001b[32;1m20\u001b[0m \u001b[32;1m61\u001b[0m\n",
      " 5   |   71 7a 48 e5 2e 29 a3 fa   |   \u001b[32;1m71\u001b[0m \u001b[32;1m7a\u001b[0m \u001b[32;1m48\u001b[0m \u001b[32;1me5\u001b[0m \u001b[32;1m2e\u001b[0m \u001b[32;1m29\u001b[0m \u001b[32;1ma3\u001b[0m \u001b[32;1mfa\u001b[0m\n",
      " 6   |   37 9a 95 3f aa 68 93 e3   |   \u001b[32;1m37\u001b[0m \u001b[32;1m9a\u001b[0m \u001b[32;1m95\u001b[0m \u001b[32;1m3f\u001b[0m \u001b[32;1maa\u001b[0m \u001b[32;1m68\u001b[0m \u001b[32;1m93\u001b[0m \u001b[32;1me3\u001b[0m\n",
      " 7   |   2e c5 a2 7b 94 5e 60 5f   |   \u001b[32;1m2e\u001b[0m \u001b[32;1mc5\u001b[0m \u001b[32;1ma2\u001b[0m \u001b[32;1m7b\u001b[0m \u001b[32;1m94\u001b[0m \u001b[32;1m5e\u001b[0m \u001b[32;1m60\u001b[0m \u001b[32;1m5f\u001b[0m\n"
     ]
    }
   ],
   "source": [
    "ciphertext, deciphertext = encrypt_corrupt_then_decrypt(plaintext, modes.CTR(IV))\n",
    "corrupted_ciphertext, corrupted_deciphertext = encrypt_corrupt_then_decrypt(plaintext, modes.CTR(IV), partial(flip_one_bit, index=27, bit_position=6))\n",
    "visual_hex_diff(ciphertext, corrupted_ciphertext, [\"ciphertext\", \"corrupted ciphertext\"])\n",
    "visual_hex_diff(deciphertext, corrupted_deciphertext, [\"deciphertext\", \"corrupted deciphertext\"])"
   ]
  },
  {
   "cell_type": "code",
   "execution_count": 18,
   "metadata": {},
   "outputs": [
    {
     "name": "stdout",
     "output_type": "stream",
     "text": [
      "Before Flipping: \t1 1 1 0 0 0 1 0\n",
      "After Flipping: \t\u001b[32;1m1\u001b[0m \u001b[31;1m0\u001b[0m \u001b[32;1m1\u001b[0m \u001b[32;1m0\u001b[0m \u001b[32;1m0\u001b[0m \u001b[32;1m0\u001b[0m \u001b[32;1m1\u001b[0m \u001b[32;1m0\u001b[0m\n"
     ]
    }
   ],
   "source": [
    "visual_bits_diff(\"e2\",\"a2\")"
   ]
  },
  {
   "cell_type": "code",
   "execution_count": null,
   "metadata": {},
   "outputs": [],
   "source": []
  }
 ],
 "metadata": {
  "interpreter": {
   "hash": "31f2aee4e71d21fbe5cf8b01ff0e069b9275f58929596ceb00d14d90e3e16cd6"
  },
  "kernelspec": {
   "display_name": "Python 3.8.5 64-bit",
   "language": "python",
   "name": "python3"
  },
  "language_info": {
   "codemirror_mode": {
    "name": "ipython",
    "version": 3
   },
   "file_extension": ".py",
   "mimetype": "text/x-python",
   "name": "python",
   "nbconvert_exporter": "python",
   "pygments_lexer": "ipython3",
   "version": "3.11.7"
  },
  "orig_nbformat": 4
 },
 "nbformat": 4,
 "nbformat_minor": 2
}
