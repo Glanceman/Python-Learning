{
 "cells": [
  {
   "cell_type": "code",
   "execution_count": 1,
   "metadata": {},
   "outputs": [],
   "source": [
    "import numpy as np\n",
    "import pandas as pd\n",
    "from sklearn.linear_model import LogisticRegression\n",
    "from sklearn.metrics import accuracy_score"
   ]
  },
  {
   "cell_type": "markdown",
   "metadata": {},
   "source": [
    "### **Load Data**"
   ]
  },
  {
   "cell_type": "code",
   "execution_count": 2,
   "metadata": {},
   "outputs": [],
   "source": [
    "datapath=\"./data/\"\n",
    "test_df = pd.read_csv(datapath+\"mnist_test.csv\")\n",
    "train_df = pd.read_csv(datapath+\"mnist_train.csv\")\n",
    "\n",
    "train_x=train_df.drop('label', axis=1).values.astype(np.float32)\n",
    "train_y=train_df['label'].values.astype(np.int64)\n",
    "\n",
    "test_x=test_df.drop('label', axis=1).values.astype(np.float32)\n",
    "test_y=test_df['label'].values.astype(np.int64)"
   ]
  },
  {
   "cell_type": "markdown",
   "metadata": {},
   "source": [
    "### **logistic regression**"
   ]
  },
  {
   "cell_type": "code",
   "execution_count": 3,
   "metadata": {},
   "outputs": [
    {
     "name": "stdout",
     "output_type": "stream",
     "text": [
      "predict [7 2 1 0 4 1 4 9 6 9]\n",
      "test [7 2 1 0 4 1 4 9 5 9]\n",
      "accuracy: 0.9206\n"
     ]
    },
    {
     "name": "stderr",
     "output_type": "stream",
     "text": [
      "d:\\anaconda3\\Lib\\site-packages\\sklearn\\linear_model\\_logistic.py:460: ConvergenceWarning: lbfgs failed to converge (status=1):\n",
      "STOP: TOTAL NO. of ITERATIONS REACHED LIMIT.\n",
      "\n",
      "Increase the number of iterations (max_iter) or scale the data as shown in:\n",
      "    https://scikit-learn.org/stable/modules/preprocessing.html\n",
      "Please also refer to the documentation for alternative solver options:\n",
      "    https://scikit-learn.org/stable/modules/linear_model.html#logistic-regression\n",
      "  n_iter_i = _check_optimize_result(\n"
     ]
    }
   ],
   "source": [
    "\n",
    "lr = LogisticRegression(random_state=443,max_iter=1000)\n",
    "lr.fit(train_x,train_y)\n",
    "\n",
    "pred=lr.predict(test_x)\n",
    "\n",
    "print(f\"predict {pred[0:10]}\")\n",
    "print(f\"test {test_y[0:10]}\")\n",
    "print(f\"accuracy: {accuracy_score(test_y,pred)}\")"
   ]
  },
  {
   "cell_type": "code",
   "execution_count": 4,
   "metadata": {},
   "outputs": [
    {
     "name": "stdout",
     "output_type": "stream",
     "text": [
      "predict [7 2 1 0 4 1 4 9 5 9]\n",
      "test [7 2 1 0 4 1 4 9 5 9]\n",
      "accuracy: 0.9665\n"
     ]
    }
   ],
   "source": [
    "from sklearn.svm import SVC\n",
    "from sklearn.pipeline import make_pipeline\n",
    "from sklearn.preprocessing import StandardScaler\n",
    "\n",
    "clf = make_pipeline(StandardScaler(), SVC(gamma='auto'))\n",
    "\n",
    "clf.fit(train_x,train_y)\n",
    "pred = clf.predict(test_x)\n",
    "\n",
    "print(f\"predict {pred[0:10]}\")\n",
    "print(f\"test {test_y[0:10]}\")\n",
    "print(f\"accuracy: {accuracy_score(test_y,pred)}\")"
   ]
  }
 ],
 "metadata": {
  "kernelspec": {
   "display_name": "base",
   "language": "python",
   "name": "python3"
  },
  "language_info": {
   "codemirror_mode": {
    "name": "ipython",
    "version": 3
   },
   "file_extension": ".py",
   "mimetype": "text/x-python",
   "name": "python",
   "nbconvert_exporter": "python",
   "pygments_lexer": "ipython3",
   "version": "3.11.5"
  }
 },
 "nbformat": 4,
 "nbformat_minor": 2
}
