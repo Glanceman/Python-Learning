{
 "cells": [
  {
   "cell_type": "code",
   "execution_count": 21,
   "metadata": {},
   "outputs": [],
   "source": [
    "import torch\n",
    "import torch.nn as nn\n",
    "import torch.nn.functional as F\n",
    "import numpy as np\n",
    "import pandas as pd\n",
    "from torch.utils.data import Dataset, DataLoader\n",
    "from torchvision.transforms import ToTensor\n",
    "import torch.optim as optim"
   ]
  },
  {
   "cell_type": "markdown",
   "metadata": {},
   "source": [
    "# Load Data"
   ]
  },
  {
   "cell_type": "code",
   "execution_count": 22,
   "metadata": {},
   "outputs": [
    {
     "name": "stdout",
     "output_type": "stream",
     "text": [
      "torch.Size([1, 28, 28]) 5\n"
     ]
    }
   ],
   "source": [
    "class MNISTDataset(Dataset):\n",
    "    def __init__(self, datapath=\"./data/\", partition=\"train\", transform=None):\n",
    "        if(partition==\"test\"):\n",
    "           self.dataframe = pd.read_csv(datapath+\"mnist_test.csv\")\n",
    "        else:\n",
    "            self.dataframe = pd.read_csv(datapath+\"mnist_train.csv\")\n",
    "        self.transform = transform\n",
    "        self.images = self.dataframe.drop('label', axis=1).values.astype(np.float32)\n",
    "        self.labels = self.dataframe['label'].values.astype(np.int64)\n",
    "\n",
    "    def __len__(self):\n",
    "        return len(self.dataframe)\n",
    "\n",
    "    def __getitem__(self, index):\n",
    "        image = self.images[index]\n",
    "        label = self.labels[index]\n",
    "        # Convert the image to the PyTorch tensor format ( H, W, C)\n",
    "        image = image.view().reshape(28,28,1)\n",
    "        label = label\n",
    "        if self.transform:\n",
    "            image = self.transform(image)\n",
    "        return image, label\n",
    "\n",
    "train= MNISTDataset(transform=ToTensor())\n",
    "test = MNISTDataset(partition=\"test\",transform=ToTensor())\n",
    "x,y = train[0]\n",
    "print(x.shape,y)"
   ]
  },
  {
   "cell_type": "code",
   "execution_count": 23,
   "metadata": {},
   "outputs": [
    {
     "data": {
      "text/plain": [
       "tensor([[ 0.0138, -0.0039,  0.0009, -0.0765,  0.0405, -0.1190, -0.0782, -0.1302,\n",
       "         -0.0595, -0.0659]], grad_fn=<AddmmBackward0>)"
      ]
     },
     "execution_count": 23,
     "metadata": {},
     "output_type": "execute_result"
    }
   ],
   "source": [
    "class CNN(nn.Module):\n",
    "    def __init__(self,out_channel=10):\n",
    "        super().__init__()\n",
    "        self.conv1 = nn.Conv2d(1, 16, kernel_size=3, stride=1, padding=1)\n",
    "        self.pool = nn.MaxPool2d(2, 2)\n",
    "        self.conv2 = nn.Conv2d(16, 32, kernel_size=3, stride=1, padding=1)\n",
    "        self.fc1 = nn.Linear(32 * 7 * 7, 120)\n",
    "        self.fc3 = nn.Linear(120, 10)\n",
    "\n",
    "    def forward(self, x):\n",
    "        x = self.pool(F.relu(self.conv1(x))) #torch.Size([1, 16, 14, 14])\n",
    "        x = self.pool(F.relu(self.conv2(x))) #torch.Size([1, 32, 7, 7])\n",
    "        x = torch.flatten(x, 1) # flatten all dimensions except batch torch.Size([1, 1568])\n",
    "        x = F.relu(self.fc1(x))\n",
    "        x = self.fc3(x)\n",
    "        return x\n",
    "\n",
    "\n",
    "data = torch.rand((1,1,28,28)) # batch size, dim, h, w\n",
    "cnn = CNN()\n",
    "cnn(data)"
   ]
  },
  {
   "cell_type": "markdown",
   "metadata": {},
   "source": [
    "### **train**"
   ]
  },
  {
   "cell_type": "code",
   "execution_count": 24,
   "metadata": {},
   "outputs": [
    {
     "name": "stdout",
     "output_type": "stream",
     "text": [
      "Epoch [1/10] Loss: 0.20499537247225647\n",
      "Epoch [2/10] Loss: 0.05060625662118681\n",
      "Epoch [3/10] Loss: 0.03782531623422021\n",
      "Epoch [4/10] Loss: 0.031980503450916915\n",
      "Epoch [5/10] Loss: 0.026405449566383375\n",
      "Epoch [6/10] Loss: 0.024696606560883665\n",
      "Epoch [7/10] Loss: 0.02252572300607802\n",
      "Epoch [8/10] Loss: 0.019069363040259222\n",
      "Epoch [9/10] Loss: 0.017325226723808405\n",
      "Epoch [10/10] Loss: 0.01456247013881644\n"
     ]
    }
   ],
   "source": [
    "trainloader = DataLoader(train, batch_size=64, shuffle=True)\n",
    "testloader = DataLoader(test, batch_size=64, shuffle=True)\n",
    "\n",
    "device = torch.device(\"cuda\" if torch.cuda.is_available() else \"cpu\")\n",
    "model = CNN().to(device)\n",
    "criterion = nn.CrossEntropyLoss()\n",
    "optimizer = optim.Adam(model.parameters(), lr=0.001)\n",
    "\n",
    "num_epochs = 10\n",
    "model.train()\n",
    "for epoch in range(num_epochs):\n",
    "    running_loss = 0.0\n",
    "    for i, data in enumerate(trainloader, 0):\n",
    "        inputs, labels = data\n",
    "        inputs, labels = inputs.to(device), labels.to(device)\n",
    "\n",
    "        optimizer.zero_grad()\n",
    "\n",
    "        outputs = model(inputs)\n",
    "        loss = criterion(outputs, labels)\n",
    "        loss.backward()\n",
    "        optimizer.step()\n",
    "\n",
    "        running_loss += loss.item()\n",
    "\n",
    "    print(f\"Epoch [{epoch + 1}/{num_epochs}] Loss: {running_loss / len(trainloader)}\")"
   ]
  },
  {
   "cell_type": "markdown",
   "metadata": {},
   "source": [
    "### **evaluation**"
   ]
  },
  {
   "cell_type": "code",
   "execution_count": 25,
   "metadata": {},
   "outputs": [
    {
     "name": "stdout",
     "output_type": "stream",
     "text": [
      "Test Accuracy of the model on the 60000 training images: 1.00\n",
      "Test Accuracy of the model on the 10000 test images: 1.00\n"
     ]
    }
   ],
   "source": [
    "#test\n",
    "model.eval()\n",
    "with torch.no_grad():\n",
    "        correct = 0\n",
    "        total = 0\n",
    "        for i, data in enumerate(trainloader, 0):\n",
    "            inputs, labels = data\n",
    "            inputs, labels = inputs.to(device), labels.to(device)\n",
    "            outs = model(inputs)\n",
    "            pred_y = torch.max(outs, 1)[1].data.squeeze()\n",
    "            accuracy = (pred_y == labels).sum().item() / float(labels.size(0))\n",
    "\n",
    "            \n",
    "print(f'Test Accuracy of the model on the {len(trainloader.dataset)} training images: %.2f' % accuracy)\n",
    "\n",
    "#test\n",
    "model.eval()\n",
    "with torch.no_grad():\n",
    "        correct = 0\n",
    "        total = 0\n",
    "        for i, data in enumerate(testloader, 0):\n",
    "            inputs, labels = data\n",
    "            inputs, labels = inputs.to(device), labels.to(device)\n",
    "            outs = model(inputs)\n",
    "            pred_y = torch.max(outs, 1)[1].data.squeeze()\n",
    "            accuracy = (pred_y == labels).sum().item() / float(labels.size(0))\n",
    "\n",
    "            \n",
    "print(f'Test Accuracy of the model on the {len(testloader.dataset)} test images: %.2f' % accuracy)\n"
   ]
  }
 ],
 "metadata": {
  "kernelspec": {
   "display_name": "base",
   "language": "python",
   "name": "python3"
  },
  "language_info": {
   "codemirror_mode": {
    "name": "ipython",
    "version": 3
   },
   "file_extension": ".py",
   "mimetype": "text/x-python",
   "name": "python",
   "nbconvert_exporter": "python",
   "pygments_lexer": "ipython3",
   "version": "3.11.5"
  }
 },
 "nbformat": 4,
 "nbformat_minor": 2
}
